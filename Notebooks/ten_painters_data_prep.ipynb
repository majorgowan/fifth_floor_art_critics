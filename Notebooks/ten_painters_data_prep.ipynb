{
 "cells": [
  {
   "cell_type": "code",
   "execution_count": 4,
   "metadata": {
    "collapsed": false
   },
   "outputs": [
    {
     "name": "stdout",
     "output_type": "stream",
     "text": [
      "/home/mfruman/DataSci/PBN/Python\n"
     ]
    }
   ],
   "source": [
    "cd ../Python/"
   ]
  },
  {
   "cell_type": "code",
   "execution_count": 5,
   "metadata": {
    "collapsed": false
   },
   "outputs": [],
   "source": [
    "import readPBNData.description as rd\n",
    "import readPBNData.images as ri\n",
    "import PBNFeatures.paletteTools as pt\n",
    "import PBNPCA.pca as pbnpca\n",
    "import numpy as np"
   ]
  },
  {
   "cell_type": "markdown",
   "metadata": {},
   "source": [
    "# Loading and sorting image- and metadata"
   ]
  },
  {
   "cell_type": "code",
   "execution_count": 6,
   "metadata": {
    "collapsed": false
   },
   "outputs": [],
   "source": [
    "csvs, fileLike = rd.openZip('../Data/train_info.csv.zip')\n",
    "lines, head = rd.readCSV(fileLike[0])"
   ]
  },
  {
   "cell_type": "code",
   "execution_count": 7,
   "metadata": {
    "collapsed": false
   },
   "outputs": [
    {
     "data": {
      "text/plain": [
       "['style', 'title', 'artist', 'filename', 'date', 'genre']"
      ]
     },
     "execution_count": 7,
     "metadata": {},
     "output_type": "execute_result"
    }
   ],
   "source": [
    "cols = rd.columns(lines,head)\n",
    "cols.keys()"
   ]
  },
  {
   "cell_type": "code",
   "execution_count": 8,
   "metadata": {
    "collapsed": false
   },
   "outputs": [
    {
     "data": {
      "text/plain": [
       "[('3cc9a44380296d93e68b71a27643c25f', 413),\n",
       " ('96e7b1bc8d52e18caf0af34fec2e9bcb', 402),\n",
       " ('d8a3c897c506be7de91d8f892f14f934', 401),\n",
       " ('3f8dc381ccfe9d5cc88b75970262715b', 400),\n",
       " ('10bc951c2eb4a2f05fa773bdaace4e3b', 397)]"
      ]
     },
     "execution_count": 8,
     "metadata": {},
     "output_type": "execute_result"
    }
   ],
   "source": [
    "# find 10 artists with most paintings in data set\n",
    "artistTable = rd.table(cols['artist'])\n",
    "artistTable[:5]"
   ]
  },
  {
   "cell_type": "code",
   "execution_count": 9,
   "metadata": {
    "collapsed": false
   },
   "outputs": [],
   "source": [
    "# images in train_1.zip and train_2.zip file\n",
    "train_1_names = rd.imagesInZip('../Data/train_1.zip')\n",
    "train_2_names = rd.imagesInZip('../Data/train_2.zip')"
   ]
  },
  {
   "cell_type": "code",
   "execution_count": 10,
   "metadata": {
    "collapsed": true
   },
   "outputs": [],
   "source": [
    "def loadPortfolios(artistTable):\n",
    "    # number of paintings by artist in train_1 and train_2\n",
    "    # distinct artists (slowish)\n",
    "    distinctArtists = [a[0] for a in artistTable]\n",
    "    paintingsIn12 = []\n",
    "    print('scanning for paintings by top ten in full csv file . . .')\n",
    "    for artist in distinctArtists:\n",
    "        # print('    scanning artist ' + artist + ' . . . ')\n",
    "        paintingsIn12.append(len(rd.sameArtist(artist, cols, imageList=train_1_names))\n",
    "                            +len(rd.sameArtist(artist, cols, imageList=train_2_names)))\n",
    "    artistTable12 = sorted(zip(distinctArtists, paintingsIn12), \n",
    "                           key=lambda item: item[1], reverse=True)\n",
    "    print('top 10 artists . . . ')\n",
    "    print(artistTable12[:10])\n",
    "\n",
    "    # lists of paintings by the 10 most prolific artists in train_1 and train_2 \n",
    "    # extract artist names from artistTable\n",
    "    print('\\nscanning for paintings by top ten in zip files . . .')\n",
    "    leaders = [a[0] for a in artistTable12[:10]]\n",
    "    portfolios1 = []\n",
    "    portfolios2 = []\n",
    "    for artist in leaders:\n",
    "        print('    scanning artist ' + artist + ' . . . ')\n",
    "        # paintings in train_1.zip\n",
    "        portfolios1.append(rd.sameArtist(artist, cols, imageList=train_1_names))\n",
    "        # paintings in train_2.zip\n",
    "        portfolios2.append(rd.sameArtist(artist, cols, imageList=train_2_names))\n",
    "    # list of artists and (separate) lists of paintings in train_1 and train_2\n",
    "    portfolios = zip(leaders,portfolios1,portfolios2)\n",
    "    return portfolios"
   ]
  },
  {
   "cell_type": "code",
   "execution_count": 11,
   "metadata": {
    "collapsed": false
   },
   "outputs": [
    {
     "name": "stdout",
     "output_type": "stream",
     "text": [
      "reading reading reading!!!\n"
     ]
    }
   ],
   "source": [
    "# if it exists, load the json text file containing list of \n",
    "# 10 most prolific artists and the filenames of their paintings\n",
    "# contained in train_1.zip and train_2.zip\n",
    "#\n",
    "# else, scan zip files and create json index file\n",
    "#\n",
    "import os.path\n",
    "import json\n",
    "dataDir = '../Data/'\n",
    "portfoliosFile = dataDir + 'portfolios_top10.json'\n",
    "if (os.path.isfile(portfoliosFile)):\n",
    "    with open(portfoliosFile,'r') as jsonfile:\n",
    "        portfolios_uni = json.load(jsonfile)\n",
    "        print('reading reading reading!!!')\n",
    "else:\n",
    "    # list of artists and single list of paintings\n",
    "    portfolios = loadPortfolios(artistTable)\n",
    "    portfolios_uni = [(artist, p1 + p2) for (artist,p1,p2) in portfolios]\n",
    "    # create json text file with list of artists and filenames of paintings:\n",
    "    print('\\nwriting json index file . . .')\n",
    "    with open(portfoliosFile,'w') as jsonfile:\n",
    "        jsonfile.write(json.dumps(portfolios_uni,indent=2))"
   ]
  },
  {
   "cell_type": "markdown",
   "metadata": {},
   "source": [
    "## Create miniatures and cutout samples"
   ]
  },
  {
   "cell_type": "code",
   "execution_count": 12,
   "metadata": {
    "collapsed": false
   },
   "outputs": [],
   "source": [
    "# if it exists, load the json text file containing list of \n",
    "# 10 most prolific artists and the filenames of their paintings\n",
    "# contained in train_1.zip and train_2.zip, assume miniatures\n",
    "# and cutouts already exist (can refactor later to check)\n",
    "#\n",
    "# else, scan zip files, create miniatures and json index file\n",
    "#\n",
    "import os.path\n",
    "import json\n",
    "dataDir = '../Data/'\n",
    "miniDir = dataDir + 'Mini/'\n",
    "force = False\n",
    "if (force):\n",
    "    # list of artists and single list of paintings\n",
    "    portfolios = loadPortfolios(artistTable)\n",
    "    portfolios_uni = [(artist, p1 + p2) for (artist,p1,p2) in portfolios]\n",
    "\n",
    "    # create miniatures of the paintings by most prolific artists and save them to disk\n",
    "    # (if file exists, does nothing)\n",
    "    print('\\ncreating miniatures (if necessary) . . . ')\n",
    "    for portfolio in portfolios:\n",
    "        print('    artist ' + portfolio[0] + ' . . . ')\n",
    "        minifiles_1 = ri.miniatures('../Data/train_1.zip', \\\n",
    "                                    portfolio[1], miniDir, \\\n",
    "                                    prefix='train_1',size=(100,100))\n",
    "        minifiles_2 = ri.miniatures('../Data/train_2.zip', \\\n",
    "                                    portfolio[2], miniDir, \\\n",
    "                                    prefix='train_2',size=(100,100))"
   ]
  },
  {
   "cell_type": "code",
   "execution_count": 13,
   "metadata": {
    "collapsed": false
   },
   "outputs": [
    {
     "name": "stdout",
     "output_type": "stream",
     "text": [
      "scanning for paintings by top ten in full csv file . . .\n",
      "top 10 artists . . . \n",
      "[('0eeac4ecff259dc515be795e1a76019a', 119), ('dd4989789d310581024ae2b9203d5439', 111), ('121fffad1eb6f7dff228b8a71b6aec72', 105), ('1a8d67dbb446bdc4298cc0be56932a38', 104), ('ce3d8977aae5986601232aa58d15282a', 103), ('c16781c4321948227193214b68477a5c', 101), ('3cc9a44380296d93e68b71a27643c25f', 100), ('d09f796f2b0aa11dffc88badd9806119', 100), ('5aabfc58470d01bb2362795a44a2603b', 99), ('db1318d32df7428076e03513ebf762bb', 98)]\n",
      "\n",
      "scanning for paintings by top ten in zip files . . .\n",
      "    scanning artist 0eeac4ecff259dc515be795e1a76019a . . . \n",
      "    scanning artist dd4989789d310581024ae2b9203d5439 . . . \n",
      "    scanning artist 121fffad1eb6f7dff228b8a71b6aec72 . . . \n",
      "    scanning artist 1a8d67dbb446bdc4298cc0be56932a38 . . . \n",
      "    scanning artist ce3d8977aae5986601232aa58d15282a . . . \n",
      "    scanning artist c16781c4321948227193214b68477a5c . . . \n",
      "    scanning artist 3cc9a44380296d93e68b71a27643c25f . . . \n",
      "    scanning artist d09f796f2b0aa11dffc88badd9806119 . . . \n",
      "    scanning artist 5aabfc58470d01bb2362795a44a2603b . . . \n",
      "    scanning artist db1318d32df7428076e03513ebf762bb . . . \n",
      "\n",
      "creating cutouts . . . \n",
      "    artist 0eeac4ecff259dc515be795e1a76019a . . . \n",
      "    artist dd4989789d310581024ae2b9203d5439 . . . \n",
      "    artist 121fffad1eb6f7dff228b8a71b6aec72 . . . \n",
      "    artist 1a8d67dbb446bdc4298cc0be56932a38 . . . \n",
      "    artist ce3d8977aae5986601232aa58d15282a . . . \n",
      "    artist c16781c4321948227193214b68477a5c . . . \n",
      "    artist 3cc9a44380296d93e68b71a27643c25f . . . \n",
      "    artist d09f796f2b0aa11dffc88badd9806119 . . . \n",
      "    artist 5aabfc58470d01bb2362795a44a2603b . . . \n",
      "    artist db1318d32df7428076e03513ebf762bb . . . \n"
     ]
    }
   ],
   "source": [
    "# if necessary, create (multiple) cutouts of each painting\n",
    "# in portfolios list (cf. previous cell)\n",
    "#\n",
    "import os.path\n",
    "import json\n",
    "dataDir = '../Data/'\n",
    "cutoutDir = dataDir + 'Cutout/'\n",
    "force = True\n",
    "if (force):\n",
    "    # list of artists and single list of paintings\n",
    "    portfolios = loadPortfolios(artistTable)\n",
    "    portfolios_uni = [(artist, p1 + p2) for (artist,p1,p2) in portfolios]\n",
    "\n",
    "    # create cutouts of the paintings by most prolific artists and save them to disk\n",
    "    # (if file exists, does nothing)\n",
    "    print('\\ncreating cutouts . . . ')\n",
    "    for portfolio in portfolios:\n",
    "        print('    artist ' + portfolio[0] + ' . . . ')\n",
    "        \n",
    "        xstart = 0.25\n",
    "        for i in xrange(2):\n",
    "            xstart += 0.5*i\n",
    "            ystart = 0.25\n",
    "            for j in xrange(2):\n",
    "                ystart += 0.5*j\n",
    "                cutoutfiles_1 = ri.cutouts('../Data/train_1.zip', \\\n",
    "                                           portfolio[1], cutoutDir, \\\n",
    "                                           prefix='train_1',size=(100,100), \\\n",
    "                                           topleft=(xstart,ystart) \\\n",
    "                                          )\n",
    "                cutoutfiles_2 = ri.cutouts('../Data/train_2.zip', \\\n",
    "                                           portfolio[2], cutoutDir, \\\n",
    "                                           prefix='train_2',size=(100,100), \\\n",
    "                                           topleft=(xstart,ystart) \\\n",
    "                                          )"
   ]
  },
  {
   "cell_type": "markdown",
   "metadata": {},
   "source": [
    "# Generate colour features"
   ]
  },
  {
   "cell_type": "markdown",
   "metadata": {},
   "source": [
    "## 16-colour CGA palette distributions"
   ]
  },
  {
   "cell_type": "code",
   "execution_count": 23,
   "metadata": {
    "collapsed": false
   },
   "outputs": [
    {
     "name": "stdout",
     "output_type": "stream",
     "text": [
      "processing paintings by artist 0eeac4ecff259dc515be795e1a76019a . . .\n",
      "processing paintings by artist dd4989789d310581024ae2b9203d5439 . . .\n",
      "processing paintings by artist 121fffad1eb6f7dff228b8a71b6aec72 . . .\n",
      "processing paintings by artist 1a8d67dbb446bdc4298cc0be56932a38 . . .\n",
      "processing paintings by artist ce3d8977aae5986601232aa58d15282a . . .\n",
      "processing paintings by artist c16781c4321948227193214b68477a5c . . .\n",
      "processing paintings by artist 3cc9a44380296d93e68b71a27643c25f . . .\n",
      "processing paintings by artist d09f796f2b0aa11dffc88badd9806119 . . .\n",
      "processing paintings by artist 5aabfc58470d01bb2362795a44a2603b . . .\n",
      "processing paintings by artist db1318d32df7428076e03513ebf762bb . . .\n",
      "\n",
      "writing json index file . . .\n",
      "writing CGA colours file . . .\n",
      "writing names file . . .\n"
     ]
    }
   ],
   "source": [
    "# load all miniatures and simplify colour palette to 16-colour CGA\n",
    "# save filenames and pixel-counts by colour in two lists\n",
    "import PBNFeatures.paletteTools as pt\n",
    "import os.path\n",
    "import json\n",
    "from PIL import Image\n",
    "featureDir = '../Data/'\n",
    "nc = 16\n",
    "palette = pt.CGApalette(ncolours=nc)\n",
    "cgaColoursFile = featureDir + 'cgacolours_top10.json'\n",
    "namesFile = featureDir + 'names_top10.json'\n",
    "if (os.path.isfile(cgaColoursFile)):\n",
    "    with open(cgaColoursFile,'r') as jsonfile:\n",
    "        data = json.load(jsonfile)\n",
    "        print('reading CGA Colours file . . .')\n",
    "    with open(namesFile,'r') as jsonfile:\n",
    "        names = json.load(jsonfile)\n",
    "        print('reading names file . . .')\n",
    "else:\n",
    "    # load all miniatures and compute saturation, value and hue\n",
    "    # statistics for each (slow),\n",
    "    # save filenames and pixel-counts by colour in two lists\n",
    "    data = []\n",
    "    names = []\n",
    "    for portfolio in portfolios_uni:\n",
    "        print('processing paintings by artist ' + portfolio[0] + ' . . .')\n",
    "        for painting in portfolio[1]:\n",
    "            names.append(painting)\n",
    "            mininame = os.path.splitext(painting)[0] + '_mini_100_x_100.jpg'\n",
    "            mini = Image.open(featureDir + 'Mini/' + mininame)\n",
    "            minip = pt.paletteConvert(mini,palette)\n",
    "            colours = pt.completeColours(minip.getcolors(),nc)[:nc]\n",
    "            data.append([c[0] for c in colours])\n",
    "    # write cga colour data to json file\n",
    "    # artist's portfolio\n",
    "    print('\\nwriting json index file . . .')\n",
    "    with open(cgaColoursFile,'w') as jsonfile:\n",
    "        print('writing CGA colours file . . .')\n",
    "        jsonfile.write(json.dumps(data,indent=2))\n",
    "    with open(namesFile,'w') as jsonfile:\n",
    "        print('writing names file . . .')\n",
    "        jsonfile.write(json.dumps(names,indent=2))"
   ]
  },
  {
   "cell_type": "markdown",
   "metadata": {},
   "source": [
    "## HSV distributions"
   ]
  },
  {
   "cell_type": "code",
   "execution_count": 24,
   "metadata": {
    "collapsed": false
   },
   "outputs": [
    {
     "name": "stdout",
     "output_type": "stream",
     "text": [
      "processing paintings by artist 0eeac4ecff259dc515be795e1a76019a . . .\n",
      "processing paintings by artist dd4989789d310581024ae2b9203d5439 . . .\n",
      "processing paintings by artist 121fffad1eb6f7dff228b8a71b6aec72 . . .\n",
      "processing paintings by artist 1a8d67dbb446bdc4298cc0be56932a38 . . .\n",
      "processing paintings by artist ce3d8977aae5986601232aa58d15282a . . .\n",
      "processing paintings by artist c16781c4321948227193214b68477a5c . . .\n",
      "processing paintings by artist 3cc9a44380296d93e68b71a27643c25f . . .\n",
      "processing paintings by artist d09f796f2b0aa11dffc88badd9806119 . . .\n",
      "processing paintings by artist 5aabfc58470d01bb2362795a44a2603b . . .\n",
      "processing paintings by artist db1318d32df7428076e03513ebf762bb . . .\n",
      "\n",
      "writing json index file . . .\n",
      "writing hsvstats file . . .\n",
      "writing names file . . .\n"
     ]
    }
   ],
   "source": [
    "# if it exists, load the json text file containing list of \n",
    "# 10 most prolific artists and the hsv stats of their paintings\n",
    "# contained in train_1.zip and train_2.zip\n",
    "#\n",
    "# else, process all miniatures and write json file\n",
    "#\n",
    "import PBNFeatures.cylindrical as cyl\n",
    "from PIL import Image\n",
    "import os.path\n",
    "import json\n",
    "featureDir = '../Data/'\n",
    "hsvstatsFile = featureDir + 'hsvstats_top10.json'\n",
    "namesFile = featureDir + 'names_top10.json'\n",
    "if (os.path.isfile(hsvstatsFile)):\n",
    "    with open(hsvstatsFile,'r') as jsonfile:\n",
    "        hsvstats = json.load(jsonfile)\n",
    "        print('reading hsvstats file . . .')\n",
    "    with open(namesFile,'r') as jsonfile:\n",
    "        names = json.load(jsonfile)\n",
    "        print('reading names file . . .')\n",
    "else:\n",
    "    # load all miniatures and compute saturation, value and hue\n",
    "    # statistics for each (slow),\n",
    "    # save filenames and pixel-counts by colour in two lists\n",
    "    hsvstats = []\n",
    "    names = []\n",
    "    for portfolio in portfolios_uni:\n",
    "        print('processing paintings by artist ' + portfolio[0] + ' . . .')\n",
    "        for painting in portfolio[1]:\n",
    "            names.append(painting)\n",
    "            mininame = os.path.splitext(painting)[0] + '_mini_100_x_100.jpg'\n",
    "            mini = Image.open(featureDir + 'Mini/' + mininame)\n",
    "            hsvstats.append(cyl.hsv_stats(cyl.jpg_to_hsv(mini),hue_bins=16))\n",
    "    # write hsvstats to json file\n",
    "    # create json text file with list of hsv stats for each\n",
    "    # artist's portfolio\n",
    "    print('\\nwriting json index file . . .')\n",
    "    with open(hsvstatsFile,'w') as jsonfile:\n",
    "        print('writing hsvstats file . . .')\n",
    "        jsonfile.write(json.dumps(hsvstats,indent=2))\n",
    "    with open(namesFile,'w') as jsonfile:\n",
    "        print('writing names file . . .')\n",
    "        jsonfile.write(json.dumps(names,indent=2))"
   ]
  },
  {
   "cell_type": "markdown",
   "metadata": {
    "collapsed": true
   },
   "source": [
    "## Generate texture features"
   ]
  },
  {
   "cell_type": "code",
   "execution_count": 14,
   "metadata": {
    "collapsed": false
   },
   "outputs": [
    {
     "name": "stdout",
     "output_type": "stream",
     "text": [
      "\n",
      "processing paintings by artist 0eeac4ecff259dc515be795e1a76019a . . .\n",
      ".......................................................................................................................\n",
      "processing paintings by artist dd4989789d310581024ae2b9203d5439 . . .\n",
      "...............................................................................................................\n",
      "processing paintings by artist 121fffad1eb6f7dff228b8a71b6aec72 . . .\n",
      ".........................................................................................................\n",
      "processing paintings by artist 1a8d67dbb446bdc4298cc0be56932a38 . . .\n",
      "........................................................................................................\n",
      "processing paintings by artist ce3d8977aae5986601232aa58d15282a . . .\n",
      ".......................................................................................................\n",
      "processing paintings by artist c16781c4321948227193214b68477a5c . . .\n",
      ".....................................................................................................\n",
      "processing paintings by artist 3cc9a44380296d93e68b71a27643c25f . . .\n",
      "....................................................................................................\n",
      "processing paintings by artist d09f796f2b0aa11dffc88badd9806119 . . .\n",
      "....................................................................................................\n",
      "processing paintings by artist 5aabfc58470d01bb2362795a44a2603b . . .\n",
      "...................................................................................................\n",
      "processing paintings by artist db1318d32df7428076e03513ebf762bb . . .\n",
      "..................................................................................................\n",
      "writing json index file . . .\n",
      "writing focusstats file . . .\n",
      "writing names file . . .\n"
     ]
    }
   ],
   "source": [
    "# if it exists, load the json text file containing list of \n",
    "# 10 most prolific artists and the focus stats of their paintings\n",
    "# contained in train_1.zip and train_2.zip\n",
    "#\n",
    "# else, process all cutouts and write json file\n",
    "#\n",
    "import PBNFeatures.cylindrical as cyl\n",
    "import PBNFeatures.textureTools as tt\n",
    "from PIL import Image\n",
    "import os\n",
    "import sys\n",
    "import re\n",
    "import json\n",
    "featureDir = '../Data/'\n",
    "focusstatsFile = featureDir + 'focusstats_top10.json'\n",
    "namesFile = featureDir + 'names_top10.json'\n",
    "if (os.path.isfile(focusstatsFile)):\n",
    "    with open(focusstatsFile,'r') as jsonfile:\n",
    "        focusstats = json.load(jsonfile)\n",
    "        print('reading focusstats file . . .')\n",
    "    with open(namesFile,'r') as jsonfile:\n",
    "        names = json.load(jsonfile)\n",
    "        print('reading names file . . .')\n",
    "else:\n",
    "    # load all cutouts and compute\n",
    "    # the sharpness and the change in \n",
    "    # sharpness after smoothing twice each with \n",
    "    # both a 3-pixel and 5-pixel window\n",
    "    #\n",
    "    # save filenames and focus stats by colour in two lists\n",
    "    #\n",
    "    cutoutDir = featureDir + 'Cutout/'\n",
    "    allCutouts = os.listdir(cutoutDir)\n",
    "    #\n",
    "    focusstats = []\n",
    "    names = []\n",
    "    for portfolio in portfolios_uni:\n",
    "        print('\\nprocessing paintings by artist ' + portfolio[0] + ' . . .')\n",
    "        for painting in portfolio[1]:\n",
    "            names.append(painting)\n",
    "            # loop over various cutouts of each painting\n",
    "            filePattern = os.path.splitext(painting)[0] + '.*' + '.jpg' \n",
    "            cutoutFiles = sorted([f for f in allCutouts if re.match(filePattern,f)])\n",
    "            sharpList = []\n",
    "            for cutoutname in cutoutFiles:\n",
    "                cutout = Image.open(cutoutDir + cutoutname)\n",
    "                # convert image data to hsvlist\n",
    "                hsvlist = cyl.jpg_to_hsv(cutout)\n",
    "                # compute sharpness\n",
    "                sharp2 = [tt.focusDetect(hsvlist,size=cutout.size)]\n",
    "                # smooth with a 2-pixel window twice and append each to list\n",
    "                hsvlist_s = tt.defocusValue(hsvlist,size=cutout.size,window=2)\n",
    "                sharp2.append(tt.focusDetect(hsvlist_s,size=cutout.size))\n",
    "                hsvlist_s = tt.defocusValue(hsvlist_s,size=cutout.size,window=2)\n",
    "                sharp2.append(tt.focusDetect(hsvlist_s,size=cutout.size))\n",
    "                # append to list of sharpnesses of each cutout from this image\n",
    "                sharpList.append(sharp2)\n",
    "            # add focus stats to list\n",
    "            focusstats.append(sharpList)\n",
    "            sys.stdout.write('.')\n",
    "    # write focusstats to json file\n",
    "    # create json text file with list of hsv stats for each\n",
    "    # artist's portfolio\n",
    "    print('\\nwriting json index file . . .')\n",
    "    with open(focusstatsFile,'w') as jsonfile:\n",
    "        print('writing focusstats file . . .')\n",
    "        jsonfile.write(json.dumps(focusstats,indent=2))\n",
    "    with open(namesFile,'w') as jsonfile:\n",
    "        print('writing names file . . .')\n",
    "        jsonfile.write(json.dumps(names,indent=2))"
   ]
  },
  {
   "cell_type": "code",
   "execution_count": null,
   "metadata": {
    "collapsed": false
   },
   "outputs": [],
   "source": []
  },
  {
   "cell_type": "code",
   "execution_count": null,
   "metadata": {
    "collapsed": true
   },
   "outputs": [],
   "source": []
  },
  {
   "cell_type": "code",
   "execution_count": null,
   "metadata": {
    "collapsed": true
   },
   "outputs": [],
   "source": []
  },
  {
   "cell_type": "code",
   "execution_count": null,
   "metadata": {
    "collapsed": false
   },
   "outputs": [],
   "source": []
  },
  {
   "cell_type": "code",
   "execution_count": null,
   "metadata": {
    "collapsed": true
   },
   "outputs": [],
   "source": []
  },
  {
   "cell_type": "code",
   "execution_count": null,
   "metadata": {
    "collapsed": true
   },
   "outputs": [],
   "source": []
  },
  {
   "cell_type": "code",
   "execution_count": null,
   "metadata": {
    "collapsed": true
   },
   "outputs": [],
   "source": []
  },
  {
   "cell_type": "code",
   "execution_count": null,
   "metadata": {
    "collapsed": true
   },
   "outputs": [],
   "source": []
  }
 ],
 "metadata": {
  "git": {
   "suppress_outputs": true
  },
  "kernelspec": {
   "display_name": "Python 2",
   "language": "python",
   "name": "python2"
  },
  "language_info": {
   "codemirror_mode": {
    "name": "ipython",
    "version": 2
   },
   "file_extension": ".py",
   "mimetype": "text/x-python",
   "name": "python",
   "nbconvert_exporter": "python",
   "pygments_lexer": "ipython2",
   "version": "2.7.6"
  }
 },
 "nbformat": 4,
 "nbformat_minor": 0
}
