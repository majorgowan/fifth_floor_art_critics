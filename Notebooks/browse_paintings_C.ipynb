{
 "cells": [
  {
   "cell_type": "code",
   "execution_count": 15,
   "metadata": {
    "collapsed": false
   },
   "outputs": [],
   "source": []
  },
  {
   "cell_type": "code",
   "execution_count": 2,
   "metadata": {
    "collapsed": false
   },
   "outputs": [
    {
     "name": "stdout",
     "output_type": "stream",
     "text": [
      "/Users/cesarosorio/Kaggle/PainterbyNumbers/fifth_floor_art_critics/Python\n"
     ]
    }
   ],
   "source": [
    "cd ../Python/"
   ]
  },
  {
   "cell_type": "code",
   "execution_count": 3,
   "metadata": {
    "collapsed": false
   },
   "outputs": [],
   "source": [
    "import readPBNData.description as rd\n",
    "import readPBNData.images as ri"
   ]
  },
  {
   "cell_type": "raw",
   "metadata": {},
   "source": []
  },
  {
   "cell_type": "code",
   "execution_count": 4,
   "metadata": {
    "collapsed": false
   },
   "outputs": [],
   "source": [
    "csvs, fileLike = rd.openZip('../Data/train_info.csv.zip')\n",
    "lines, head = rd.readCSV(fileLike[0])"
   ]
  },
  {
   "cell_type": "code",
   "execution_count": null,
   "metadata": {
    "collapsed": false
   },
   "outputs": [],
   "source": []
  },
  {
   "cell_type": "code",
   "execution_count": 5,
   "metadata": {
    "collapsed": false
   },
   "outputs": [
    {
     "name": "stdout",
     "output_type": "stream",
     "text": [
      "['filename', 'artist', 'title', 'style', 'genre', 'date']\n"
     ]
    },
    {
     "data": {
      "text/plain": [
       "[['102257.jpg',\n",
       "  '5b39c876740bfc1cfaf544721c43cac3',\n",
       "  'Uriel',\n",
       "  'Color Field Painting',\n",
       "  'abstract',\n",
       "  '1955.0'],\n",
       " ['75232.jpg',\n",
       "  '5b39c876740bfc1cfaf544721c43cac3',\n",
       "  'Vir Heroicus Sublimis',\n",
       "  'Color Field Painting',\n",
       "  'abstract',\n",
       "  '1950.0']]"
      ]
     },
     "execution_count": 5,
     "metadata": {},
     "output_type": "execute_result"
    }
   ],
   "source": [
    "print(head)\n",
    "lines[:2]"
   ]
  },
  {
   "cell_type": "code",
   "execution_count": 7,
   "metadata": {
    "collapsed": false
   },
   "outputs": [
    {
     "data": {
      "text/plain": [
       "['style', 'title', 'artist', 'filename', 'date', 'genre']"
      ]
     },
     "execution_count": 7,
     "metadata": {},
     "output_type": "execute_result"
    }
   ],
   "source": [
    "cols = rd.columns(lines,head)\n",
    "cols.keys()"
   ]
  },
  {
   "cell_type": "code",
   "execution_count": 23,
   "metadata": {
    "collapsed": false
   },
   "outputs": [
    {
     "data": {
      "text/plain": [
       "['5b39c876740bfc1cfaf544721c43cac3',\n",
       " '5b39c876740bfc1cfaf544721c43cac3',\n",
       " '96e5bc98488ed589b9bf17ad9fd09371',\n",
       " '5b39c876740bfc1cfaf544721c43cac3',\n",
       " '5b39c876740bfc1cfaf544721c43cac3',\n",
       " '782192dc825c7c1149825adcb7caacbc',\n",
       " 'afdfc43410410892bc9d1c4d3c3d6220',\n",
       " '9f0984ce62483f294fc666d74e0974f6',\n",
       " '3a40b18a78ceb822961393c50bdb522b',\n",
       " 'd09f796f2b0aa11dffc88badd9806119']"
      ]
     },
     "execution_count": 23,
     "metadata": {},
     "output_type": "execute_result"
    }
   ],
   "source": [
    "cols['artist'][:10]"
   ]
  },
  {
   "cell_type": "code",
   "execution_count": 9,
   "metadata": {
    "collapsed": false
   },
   "outputs": [
    {
     "data": {
      "text/plain": [
       "['Uriel',\n",
       " 'Vir Heroicus Sublimis',\n",
       " 'Night March of a Hundred Demons (left half)',\n",
       " 'Who\\xe2\\x80\\x99s Afraid of Red,  Yellow and Blue II',\n",
       " 'Black Fire I ',\n",
       " 'Camellia and Bush Warbler',\n",
       " 'Forbidden Land ',\n",
       " 'Descent from the cross',\n",
       " 'Snowy landscape with a woman brandishing a broom and a man holding an umbrella',\n",
       " 'Storm at sea']"
      ]
     },
     "execution_count": 9,
     "metadata": {},
     "output_type": "execute_result"
    }
   ],
   "source": [
    "cols['title'][:10]"
   ]
  },
  {
   "cell_type": "code",
   "execution_count": 121,
   "metadata": {
    "collapsed": false
   },
   "outputs": [],
   "source": [
    "img = ri.openZipImage('../Data/train_1.zip',cols['filename'][0],prefix='train_1')"
   ]
  },
  {
   "cell_type": "code",
   "execution_count": 122,
   "metadata": {
    "collapsed": false
   },
   "outputs": [],
   "source": [
    "img.show()"
   ]
  },
  {
   "cell_type": "code",
   "execution_count": 83,
   "metadata": {
    "collapsed": true
   },
   "outputs": [],
   "source": [
    "new2= img.resize(size=(100,100))"
   ]
  },
  {
   "cell_type": "code",
   "execution_count": 90,
   "metadata": {
    "collapsed": false
   },
   "outputs": [
    {
     "name": "stdout",
     "output_type": "stream",
     "text": [
      "<ImagingCore object at 0x10c977b30>\n"
     ]
    }
   ],
   "source": [
    "print(new2.getdata())"
   ]
  },
  {
   "cell_type": "code",
   "execution_count": 108,
   "metadata": {
    "collapsed": false
   },
   "outputs": [],
   "source": [
    "new= img.resize(size=(100,100))"
   ]
  },
  {
   "cell_type": "code",
   "execution_count": 109,
   "metadata": {
    "collapsed": false
   },
   "outputs": [
    {
     "data": {
      "image/png": "[encoded data removed]",
      "text/plain": [
       "<PIL.Image.Image image mode=RGB size=100x100 at 0x110A28990>"
      ]
     },
     "execution_count": 109,
     "metadata": {},
     "output_type": "execute_result"
    }
   ],
   "source": [
    "new"
   ]
  },
  {
   "cell_type": "code",
   "execution_count": 44,
   "metadata": {
    "collapsed": false
   },
   "outputs": [
    {
     "name": "stdout",
     "output_type": "stream",
     "text": [
      "None (100, 100) RGB\n"
     ]
    }
   ],
   "source": [
    "print(new.format, new.size, new.mode)"
   ]
  },
  {
   "cell_type": "code",
   "execution_count": 48,
   "metadata": {
    "collapsed": false
   },
   "outputs": [
    {
     "data": {
      "image/png": "[encoded data removed]",
      "text/plain": [
       "<PIL.Image.Image image mode=L size=100x100 at 0x111F42990>"
      ]
     },
     "execution_count": 48,
     "metadata": {},
     "output_type": "execute_result"
    }
   ],
   "source": [
    "r, g, b = new.split()\n",
    "r"
   ]
  },
  {
   "cell_type": "code",
   "execution_count": 10,
   "metadata": {
    "collapsed": false
   },
   "outputs": [
    {
     "data": {
      "text/plain": [
       "['train_1/1.jpg',\n",
       " 'train_1/10.jpg',\n",
       " 'train_1/100.jpg',\n",
       " 'train_1/1000.jpg',\n",
       " 'train_1/10000.jpg',\n",
       " 'train_1/100001.jpg',\n",
       " 'train_1/100002.jpg',\n",
       " 'train_1/100003.jpg',\n",
       " 'train_1/100006.jpg',\n",
       " 'train_1/100007.jpg']"
      ]
     },
     "execution_count": 10,
     "metadata": {},
     "output_type": "execute_result"
    }
   ],
   "source": [
    "import zipfile\n",
    "import os\n",
    "zf = zipfile.ZipFile('../Data/train_1.zip','r')\n",
    "filenames = zf.namelist()[1:]\n",
    "filenames[:10]\n",
    "#print([os.path.basename(h) for h in filenames])\n",
    "\n",
    "#os.path.basename(filenames[2])"
   ]
  },
  {
   "cell_type": "code",
   "execution_count": 11,
   "metadata": {
    "collapsed": false
   },
   "outputs": [
    {
     "data": {
      "text/plain": [
       "11025"
      ]
     },
     "execution_count": 11,
     "metadata": {},
     "output_type": "execute_result"
    }
   ],
   "source": [
    "len(filenames)"
   ]
  },
  {
   "cell_type": "code",
   "execution_count": 14,
   "metadata": {
    "collapsed": false
   },
   "outputs": [],
   "source": [
    "import readPBNData.description as rd\n",
    "import readPBNData.images as ri\n",
    "from PIL import Image, ImageMath\n",
    "import numpy as np\n",
    "\n",
    "mylist=[]\n",
    "for h in range(50):\n",
    "    #del img, new, cleanlist\n",
    "    img = ri.openZipImage('../Data/train_1.zip',filenames[h])\n",
    "    new= img.resize(size=(100,100))\n",
    "    cleanlist=np.array(new).flatten()\n",
    "    mylist.append([cleanlist,os.path.basename(filenames[h])])\n",
    "mylist=np.array(mylist)\n"
   ]
  },
  {
   "cell_type": "code",
   "execution_count": 49,
   "metadata": {
    "collapsed": false
   },
   "outputs": [],
   "source": [
    "import readPBNData.description as rd\n",
    "import readPBNData.images as ri\n",
    "from PIL import Image, ImageMath\n",
    "import numpy as np\n",
    "\n",
    "mylist2=[]\n",
    "df = pd.DataFrame([])\n",
    "for h in range(50):\n",
    "    #del img, new, cleanlist\n",
    "    img = ri.openZipImage('../Data/train_1.zip',filenames[h])\n",
    "    new= img.resize(size=(100,100))\n",
    "    px2 = np.array(new).reshape((-1,3))\n",
    "    #cleanlist=np.array(new).flatten()\n",
    "    data=[px2[:,0],px2[:,1],px2[:,2]]\n",
    "    #data = pd.DataFrame({'R':px2[:,0],'G':px2[:,1],'B':px2[:,2]})\n",
    "    mylist2.append(data)\n",
    "mylist2=np.array(mylist)\n",
    "#mylist2"
   ]
  },
  {
   "cell_type": "code",
   "execution_count": 63,
   "metadata": {
    "collapsed": false
   },
   "outputs": [],
   "source": [
    "mylist2[:,0][0]\n",
    "df = pd.DataFrame({'pixels':mylist2[:,0],'filename':mylist2[:,1]})"
   ]
  },
  {
   "cell_type": "code",
   "execution_count": 64,
   "metadata": {
    "collapsed": false
   },
   "outputs": [
    {
     "data": {
      "text/html": [
       "<div>\n",
       "<table border=\"1\" class=\"dataframe\">\n",
       "  <thead>\n",
       "    <tr style=\"text-align: right;\">\n",
       "      <th></th>\n",
       "      <th>filename</th>\n",
       "      <th>pixels</th>\n",
       "    </tr>\n",
       "  </thead>\n",
       "  <tbody>\n",
       "    <tr>\n",
       "      <th>0</th>\n",
       "      <td>1.jpg</td>\n",
       "      <td>[255, 255, 255, 252, 252, 252, 255, 255, 255, ...</td>\n",
       "    </tr>\n",
       "    <tr>\n",
       "      <th>1</th>\n",
       "      <td>10.jpg</td>\n",
       "      <td>[113, 88, 92, 79, 49, 49, 93, 52, 46, 104, 66,...</td>\n",
       "    </tr>\n",
       "    <tr>\n",
       "      <th>2</th>\n",
       "      <td>100.jpg</td>\n",
       "      <td>[155, 139, 114, 142, 144, 131, 82, 87, 83, 77,...</td>\n",
       "    </tr>\n",
       "    <tr>\n",
       "      <th>3</th>\n",
       "      <td>1000.jpg</td>\n",
       "      <td>[140, 132, 130, 118, 130, 152, 108, 122, 161, ...</td>\n",
       "    </tr>\n",
       "    <tr>\n",
       "      <th>4</th>\n",
       "      <td>10000.jpg</td>\n",
       "      <td>[60, 69, 66, 52, 59, 69, 49, 57, 68, 48, 57, 6...</td>\n",
       "    </tr>\n",
       "    <tr>\n",
       "      <th>5</th>\n",
       "      <td>100001.jpg</td>\n",
       "      <td>[155, 125, 65, 143, 113, 53, 154, 123, 66, 150...</td>\n",
       "    </tr>\n",
       "    <tr>\n",
       "      <th>6</th>\n",
       "      <td>100002.jpg</td>\n",
       "      <td>[0, 116, 23, 0, 108, 20, 0, 103, 16, 0, 102, 1...</td>\n",
       "    </tr>\n",
       "    <tr>\n",
       "      <th>7</th>\n",
       "      <td>100003.jpg</td>\n",
       "      <td>[252, 253, 248, 250, 251, 246, 253, 252, 248, ...</td>\n",
       "    </tr>\n",
       "    <tr>\n",
       "      <th>8</th>\n",
       "      <td>100006.jpg</td>\n",
       "      <td>[121, 118, 135, 136, 137, 93, 136, 132, 85, 14...</td>\n",
       "    </tr>\n",
       "    <tr>\n",
       "      <th>9</th>\n",
       "      <td>100007.jpg</td>\n",
       "      <td>[144, 178, 205, 143, 177, 204, 134, 171, 197, ...</td>\n",
       "    </tr>\n",
       "    <tr>\n",
       "      <th>10</th>\n",
       "      <td>100009.jpg</td>\n",
       "      <td>[91, 79, 81, 31, 19, 21, 66, 48, 46, 58, 41, 3...</td>\n",
       "    </tr>\n",
       "    <tr>\n",
       "      <th>11</th>\n",
       "      <td>10001.jpg</td>\n",
       "      <td>[171, 164, 180, 188, 179, 164, 191, 177, 174, ...</td>\n",
       "    </tr>\n",
       "    <tr>\n",
       "      <th>12</th>\n",
       "      <td>100010.jpg</td>\n",
       "      <td>[209, 198, 153, 109, 140, 124, 103, 117, 84, 1...</td>\n",
       "    </tr>\n",
       "    <tr>\n",
       "      <th>13</th>\n",
       "      <td>100011.jpg</td>\n",
       "      <td>[33, 30, 37, 36, 33, 40, 43, 40, 47, 39, 36, 4...</td>\n",
       "    </tr>\n",
       "    <tr>\n",
       "      <th>14</th>\n",
       "      <td>100012.jpg</td>\n",
       "      <td>[160, 116, 51, 167, 123, 58, 165, 119, 57, 172...</td>\n",
       "    </tr>\n",
       "    <tr>\n",
       "      <th>15</th>\n",
       "      <td>100013.jpg</td>\n",
       "      <td>[212, 212, 212, 210, 210, 210, 213, 213, 213, ...</td>\n",
       "    </tr>\n",
       "    <tr>\n",
       "      <th>16</th>\n",
       "      <td>100016.jpg</td>\n",
       "      <td>[3, 0, 2, 41, 36, 68, 142, 23, 19, 115, 22, 33...</td>\n",
       "    </tr>\n",
       "    <tr>\n",
       "      <th>17</th>\n",
       "      <td>100017.jpg</td>\n",
       "      <td>[237, 248, 240, 218, 226, 215, 220, 228, 217, ...</td>\n",
       "    </tr>\n",
       "    <tr>\n",
       "      <th>18</th>\n",
       "      <td>100019.jpg</td>\n",
       "      <td>[236, 236, 236, 227, 227, 227, 234, 234, 232, ...</td>\n",
       "    </tr>\n",
       "    <tr>\n",
       "      <th>19</th>\n",
       "      <td>10002.jpg</td>\n",
       "      <td>[255, 255, 255, 52, 52, 52, 179, 179, 179, 232...</td>\n",
       "    </tr>\n",
       "    <tr>\n",
       "      <th>20</th>\n",
       "      <td>100020.jpg</td>\n",
       "      <td>[249, 249, 249, 249, 249, 249, 251, 251, 251, ...</td>\n",
       "    </tr>\n",
       "    <tr>\n",
       "      <th>21</th>\n",
       "      <td>100021.jpg</td>\n",
       "      <td>[202, 195, 167, 214, 209, 171, 216, 197, 183, ...</td>\n",
       "    </tr>\n",
       "    <tr>\n",
       "      <th>22</th>\n",
       "      <td>100023.jpg</td>\n",
       "      <td>[244, 235, 226, 254, 245, 236, 249, 240, 231, ...</td>\n",
       "    </tr>\n",
       "    <tr>\n",
       "      <th>23</th>\n",
       "      <td>100026.jpg</td>\n",
       "      <td>[66, 86, 49, 140, 146, 110, 71, 109, 58, 61, 1...</td>\n",
       "    </tr>\n",
       "    <tr>\n",
       "      <th>24</th>\n",
       "      <td>100027.jpg</td>\n",
       "      <td>[236, 237, 229, 248, 249, 244, 235, 236, 231, ...</td>\n",
       "    </tr>\n",
       "    <tr>\n",
       "      <th>25</th>\n",
       "      <td>100029.jpg</td>\n",
       "      <td>[76, 80, 66, 61, 65, 51, 51, 57, 43, 45, 48, 3...</td>\n",
       "    </tr>\n",
       "    <tr>\n",
       "      <th>26</th>\n",
       "      <td>10003.jpg</td>\n",
       "      <td>[242, 240, 241, 245, 246, 250, 240, 243, 248, ...</td>\n",
       "    </tr>\n",
       "    <tr>\n",
       "      <th>27</th>\n",
       "      <td>100030.jpg</td>\n",
       "      <td>[121, 107, 96, 67, 61, 47, 34, 35, 37, 35, 35,...</td>\n",
       "    </tr>\n",
       "    <tr>\n",
       "      <th>28</th>\n",
       "      <td>100031.jpg</td>\n",
       "      <td>[109, 105, 67, 191, 199, 162, 194, 213, 168, 1...</td>\n",
       "    </tr>\n",
       "    <tr>\n",
       "      <th>29</th>\n",
       "      <td>100032.jpg</td>\n",
       "      <td>[120, 135, 140, 150, 165, 172, 128, 144, 157, ...</td>\n",
       "    </tr>\n",
       "    <tr>\n",
       "      <th>30</th>\n",
       "      <td>100033.jpg</td>\n",
       "      <td>[53, 55, 42, 89, 95, 85, 65, 76, 70, 82, 93, 8...</td>\n",
       "    </tr>\n",
       "    <tr>\n",
       "      <th>31</th>\n",
       "      <td>100034.jpg</td>\n",
       "      <td>[255, 255, 255, 255, 255, 255, 255, 255, 255, ...</td>\n",
       "    </tr>\n",
       "    <tr>\n",
       "      <th>32</th>\n",
       "      <td>100036.jpg</td>\n",
       "      <td>[84, 78, 64, 52, 47, 43, 48, 43, 39, 42, 41, 3...</td>\n",
       "    </tr>\n",
       "    <tr>\n",
       "      <th>33</th>\n",
       "      <td>100037.jpg</td>\n",
       "      <td>[254, 254, 254, 254, 254, 254, 254, 254, 254, ...</td>\n",
       "    </tr>\n",
       "    <tr>\n",
       "      <th>34</th>\n",
       "      <td>100038.jpg</td>\n",
       "      <td>[0, 2, 4, 3, 0, 9, 0, 3, 0, 5, 0, 13, 0, 2, 13...</td>\n",
       "    </tr>\n",
       "    <tr>\n",
       "      <th>35</th>\n",
       "      <td>10004.jpg</td>\n",
       "      <td>[1, 0, 0, 0, 0, 4, 5, 4, 2, 6, 6, 4, 3, 2, 0, ...</td>\n",
       "    </tr>\n",
       "    <tr>\n",
       "      <th>36</th>\n",
       "      <td>100040.jpg</td>\n",
       "      <td>[88, 74, 61, 43, 29, 18, 103, 80, 64, 35, 28, ...</td>\n",
       "    </tr>\n",
       "    <tr>\n",
       "      <th>37</th>\n",
       "      <td>100042.jpg</td>\n",
       "      <td>[127, 140, 133, 126, 139, 132, 115, 135, 134, ...</td>\n",
       "    </tr>\n",
       "    <tr>\n",
       "      <th>38</th>\n",
       "      <td>100044.jpg</td>\n",
       "      <td>[123, 108, 75, 176, 160, 145, 128, 120, 107, 1...</td>\n",
       "    </tr>\n",
       "    <tr>\n",
       "      <th>39</th>\n",
       "      <td>100045.jpg</td>\n",
       "      <td>[216, 186, 134, 223, 193, 141, 233, 206, 137, ...</td>\n",
       "    </tr>\n",
       "    <tr>\n",
       "      <th>40</th>\n",
       "      <td>100046.jpg</td>\n",
       "      <td>[214, 178, 116, 218, 184, 113, 211, 181, 111, ...</td>\n",
       "    </tr>\n",
       "    <tr>\n",
       "      <th>41</th>\n",
       "      <td>100047.jpg</td>\n",
       "      <td>[198, 199, 194, 207, 208, 202, 213, 214, 209, ...</td>\n",
       "    </tr>\n",
       "    <tr>\n",
       "      <th>42</th>\n",
       "      <td>10005.jpg</td>\n",
       "      <td>[101, 72, 32, 110, 90, 40, 125, 115, 66, 119, ...</td>\n",
       "    </tr>\n",
       "    <tr>\n",
       "      <th>43</th>\n",
       "      <td>100051.jpg</td>\n",
       "      <td>[195, 196, 201, 201, 202, 207, 189, 189, 201, ...</td>\n",
       "    </tr>\n",
       "    <tr>\n",
       "      <th>44</th>\n",
       "      <td>100052.jpg</td>\n",
       "      <td>[20, 16, 7, 10, 5, 1, 6, 0, 0, 14, 7, 1, 28, 1...</td>\n",
       "    </tr>\n",
       "    <tr>\n",
       "      <th>45</th>\n",
       "      <td>100053.jpg</td>\n",
       "      <td>[145, 131, 96, 178, 171, 145, 197, 196, 178, 2...</td>\n",
       "    </tr>\n",
       "    <tr>\n",
       "      <th>46</th>\n",
       "      <td>100055.jpg</td>\n",
       "      <td>[255, 255, 255, 255, 255, 255, 255, 255, 255, ...</td>\n",
       "    </tr>\n",
       "    <tr>\n",
       "      <th>47</th>\n",
       "      <td>100057.jpg</td>\n",
       "      <td>[75, 49, 50, 82, 63, 65, 68, 58, 57, 99, 60, 6...</td>\n",
       "    </tr>\n",
       "    <tr>\n",
       "      <th>48</th>\n",
       "      <td>10006.jpg</td>\n",
       "      <td>[219, 221, 208, 222, 224, 203, 220, 217, 202, ...</td>\n",
       "    </tr>\n",
       "    <tr>\n",
       "      <th>49</th>\n",
       "      <td>100060.jpg</td>\n",
       "      <td>[228, 228, 216, 218, 218, 206, 225, 228, 209, ...</td>\n",
       "    </tr>\n",
       "  </tbody>\n",
       "</table>\n",
       "</div>"
      ],
      "text/plain": [
       "      filename                                             pixels\n",
       "0        1.jpg  [255, 255, 255, 252, 252, 252, 255, 255, 255, ...\n",
       "1       10.jpg  [113, 88, 92, 79, 49, 49, 93, 52, 46, 104, 66,...\n",
       "2      100.jpg  [155, 139, 114, 142, 144, 131, 82, 87, 83, 77,...\n",
       "3     1000.jpg  [140, 132, 130, 118, 130, 152, 108, 122, 161, ...\n",
       "4    10000.jpg  [60, 69, 66, 52, 59, 69, 49, 57, 68, 48, 57, 6...\n",
       "5   100001.jpg  [155, 125, 65, 143, 113, 53, 154, 123, 66, 150...\n",
       "6   100002.jpg  [0, 116, 23, 0, 108, 20, 0, 103, 16, 0, 102, 1...\n",
       "7   100003.jpg  [252, 253, 248, 250, 251, 246, 253, 252, 248, ...\n",
       "8   100006.jpg  [121, 118, 135, 136, 137, 93, 136, 132, 85, 14...\n",
       "9   100007.jpg  [144, 178, 205, 143, 177, 204, 134, 171, 197, ...\n",
       "10  100009.jpg  [91, 79, 81, 31, 19, 21, 66, 48, 46, 58, 41, 3...\n",
       "11   10001.jpg  [171, 164, 180, 188, 179, 164, 191, 177, 174, ...\n",
       "12  100010.jpg  [209, 198, 153, 109, 140, 124, 103, 117, 84, 1...\n",
       "13  100011.jpg  [33, 30, 37, 36, 33, 40, 43, 40, 47, 39, 36, 4...\n",
       "14  100012.jpg  [160, 116, 51, 167, 123, 58, 165, 119, 57, 172...\n",
       "15  100013.jpg  [212, 212, 212, 210, 210, 210, 213, 213, 213, ...\n",
       "16  100016.jpg  [3, 0, 2, 41, 36, 68, 142, 23, 19, 115, 22, 33...\n",
       "17  100017.jpg  [237, 248, 240, 218, 226, 215, 220, 228, 217, ...\n",
       "18  100019.jpg  [236, 236, 236, 227, 227, 227, 234, 234, 232, ...\n",
       "19   10002.jpg  [255, 255, 255, 52, 52, 52, 179, 179, 179, 232...\n",
       "20  100020.jpg  [249, 249, 249, 249, 249, 249, 251, 251, 251, ...\n",
       "21  100021.jpg  [202, 195, 167, 214, 209, 171, 216, 197, 183, ...\n",
       "22  100023.jpg  [244, 235, 226, 254, 245, 236, 249, 240, 231, ...\n",
       "23  100026.jpg  [66, 86, 49, 140, 146, 110, 71, 109, 58, 61, 1...\n",
       "24  100027.jpg  [236, 237, 229, 248, 249, 244, 235, 236, 231, ...\n",
       "25  100029.jpg  [76, 80, 66, 61, 65, 51, 51, 57, 43, 45, 48, 3...\n",
       "26   10003.jpg  [242, 240, 241, 245, 246, 250, 240, 243, 248, ...\n",
       "27  100030.jpg  [121, 107, 96, 67, 61, 47, 34, 35, 37, 35, 35,...\n",
       "28  100031.jpg  [109, 105, 67, 191, 199, 162, 194, 213, 168, 1...\n",
       "29  100032.jpg  [120, 135, 140, 150, 165, 172, 128, 144, 157, ...\n",
       "30  100033.jpg  [53, 55, 42, 89, 95, 85, 65, 76, 70, 82, 93, 8...\n",
       "31  100034.jpg  [255, 255, 255, 255, 255, 255, 255, 255, 255, ...\n",
       "32  100036.jpg  [84, 78, 64, 52, 47, 43, 48, 43, 39, 42, 41, 3...\n",
       "33  100037.jpg  [254, 254, 254, 254, 254, 254, 254, 254, 254, ...\n",
       "34  100038.jpg  [0, 2, 4, 3, 0, 9, 0, 3, 0, 5, 0, 13, 0, 2, 13...\n",
       "35   10004.jpg  [1, 0, 0, 0, 0, 4, 5, 4, 2, 6, 6, 4, 3, 2, 0, ...\n",
       "36  100040.jpg  [88, 74, 61, 43, 29, 18, 103, 80, 64, 35, 28, ...\n",
       "37  100042.jpg  [127, 140, 133, 126, 139, 132, 115, 135, 134, ...\n",
       "38  100044.jpg  [123, 108, 75, 176, 160, 145, 128, 120, 107, 1...\n",
       "39  100045.jpg  [216, 186, 134, 223, 193, 141, 233, 206, 137, ...\n",
       "40  100046.jpg  [214, 178, 116, 218, 184, 113, 211, 181, 111, ...\n",
       "41  100047.jpg  [198, 199, 194, 207, 208, 202, 213, 214, 209, ...\n",
       "42   10005.jpg  [101, 72, 32, 110, 90, 40, 125, 115, 66, 119, ...\n",
       "43  100051.jpg  [195, 196, 201, 201, 202, 207, 189, 189, 201, ...\n",
       "44  100052.jpg  [20, 16, 7, 10, 5, 1, 6, 0, 0, 14, 7, 1, 28, 1...\n",
       "45  100053.jpg  [145, 131, 96, 178, 171, 145, 197, 196, 178, 2...\n",
       "46  100055.jpg  [255, 255, 255, 255, 255, 255, 255, 255, 255, ...\n",
       "47  100057.jpg  [75, 49, 50, 82, 63, 65, 68, 58, 57, 99, 60, 6...\n",
       "48   10006.jpg  [219, 221, 208, 222, 224, 203, 220, 217, 202, ...\n",
       "49  100060.jpg  [228, 228, 216, 218, 218, 206, 225, 228, 209, ..."
      ]
     },
     "execution_count": 64,
     "metadata": {},
     "output_type": "execute_result"
    }
   ],
   "source": [
    "df"
   ]
  },
  {
   "cell_type": "code",
   "execution_count": 55,
   "metadata": {
    "collapsed": false
   },
   "outputs": [
    {
     "data": {
      "text/html": [
       "<div>\n",
       "<table border=\"1\" class=\"dataframe\">\n",
       "  <thead>\n",
       "    <tr style=\"text-align: right;\">\n",
       "      <th></th>\n",
       "      <th>B</th>\n",
       "      <th>G</th>\n",
       "      <th>R</th>\n",
       "    </tr>\n",
       "  </thead>\n",
       "  <tbody>\n",
       "    <tr>\n",
       "      <th>0</th>\n",
       "      <td>216</td>\n",
       "      <td>228</td>\n",
       "      <td>228</td>\n",
       "    </tr>\n",
       "    <tr>\n",
       "      <th>1</th>\n",
       "      <td>206</td>\n",
       "      <td>218</td>\n",
       "      <td>218</td>\n",
       "    </tr>\n",
       "    <tr>\n",
       "      <th>2</th>\n",
       "      <td>209</td>\n",
       "      <td>228</td>\n",
       "      <td>225</td>\n",
       "    </tr>\n",
       "    <tr>\n",
       "      <th>3</th>\n",
       "      <td>218</td>\n",
       "      <td>223</td>\n",
       "      <td>222</td>\n",
       "    </tr>\n",
       "    <tr>\n",
       "      <th>4</th>\n",
       "      <td>204</td>\n",
       "      <td>215</td>\n",
       "      <td>213</td>\n",
       "    </tr>\n",
       "    <tr>\n",
       "      <th>5</th>\n",
       "      <td>205</td>\n",
       "      <td>222</td>\n",
       "      <td>219</td>\n",
       "    </tr>\n",
       "    <tr>\n",
       "      <th>6</th>\n",
       "      <td>215</td>\n",
       "      <td>226</td>\n",
       "      <td>224</td>\n",
       "    </tr>\n",
       "    <tr>\n",
       "      <th>7</th>\n",
       "      <td>213</td>\n",
       "      <td>227</td>\n",
       "      <td>225</td>\n",
       "    </tr>\n",
       "    <tr>\n",
       "      <th>8</th>\n",
       "      <td>209</td>\n",
       "      <td>226</td>\n",
       "      <td>215</td>\n",
       "    </tr>\n",
       "    <tr>\n",
       "      <th>9</th>\n",
       "      <td>208</td>\n",
       "      <td>225</td>\n",
       "      <td>214</td>\n",
       "    </tr>\n",
       "    <tr>\n",
       "      <th>10</th>\n",
       "      <td>211</td>\n",
       "      <td>225</td>\n",
       "      <td>223</td>\n",
       "    </tr>\n",
       "    <tr>\n",
       "      <th>11</th>\n",
       "      <td>210</td>\n",
       "      <td>224</td>\n",
       "      <td>222</td>\n",
       "    </tr>\n",
       "    <tr>\n",
       "      <th>12</th>\n",
       "      <td>211</td>\n",
       "      <td>222</td>\n",
       "      <td>212</td>\n",
       "    </tr>\n",
       "    <tr>\n",
       "      <th>13</th>\n",
       "      <td>207</td>\n",
       "      <td>215</td>\n",
       "      <td>208</td>\n",
       "    </tr>\n",
       "    <tr>\n",
       "      <th>14</th>\n",
       "      <td>220</td>\n",
       "      <td>224</td>\n",
       "      <td>218</td>\n",
       "    </tr>\n",
       "    <tr>\n",
       "      <th>15</th>\n",
       "      <td>218</td>\n",
       "      <td>213</td>\n",
       "      <td>188</td>\n",
       "    </tr>\n",
       "    <tr>\n",
       "      <th>16</th>\n",
       "      <td>239</td>\n",
       "      <td>224</td>\n",
       "      <td>175</td>\n",
       "    </tr>\n",
       "    <tr>\n",
       "      <th>17</th>\n",
       "      <td>213</td>\n",
       "      <td>207</td>\n",
       "      <td>170</td>\n",
       "    </tr>\n",
       "    <tr>\n",
       "      <th>18</th>\n",
       "      <td>218</td>\n",
       "      <td>223</td>\n",
       "      <td>208</td>\n",
       "    </tr>\n",
       "    <tr>\n",
       "      <th>19</th>\n",
       "      <td>227</td>\n",
       "      <td>229</td>\n",
       "      <td>217</td>\n",
       "    </tr>\n",
       "    <tr>\n",
       "      <th>20</th>\n",
       "      <td>214</td>\n",
       "      <td>226</td>\n",
       "      <td>214</td>\n",
       "    </tr>\n",
       "    <tr>\n",
       "      <th>21</th>\n",
       "      <td>219</td>\n",
       "      <td>226</td>\n",
       "      <td>219</td>\n",
       "    </tr>\n",
       "    <tr>\n",
       "      <th>22</th>\n",
       "      <td>220</td>\n",
       "      <td>227</td>\n",
       "      <td>220</td>\n",
       "    </tr>\n",
       "    <tr>\n",
       "      <th>23</th>\n",
       "      <td>218</td>\n",
       "      <td>230</td>\n",
       "      <td>230</td>\n",
       "    </tr>\n",
       "    <tr>\n",
       "      <th>24</th>\n",
       "      <td>226</td>\n",
       "      <td>234</td>\n",
       "      <td>227</td>\n",
       "    </tr>\n",
       "    <tr>\n",
       "      <th>25</th>\n",
       "      <td>223</td>\n",
       "      <td>226</td>\n",
       "      <td>230</td>\n",
       "    </tr>\n",
       "    <tr>\n",
       "      <th>26</th>\n",
       "      <td>222</td>\n",
       "      <td>229</td>\n",
       "      <td>226</td>\n",
       "    </tr>\n",
       "    <tr>\n",
       "      <th>27</th>\n",
       "      <td>225</td>\n",
       "      <td>232</td>\n",
       "      <td>229</td>\n",
       "    </tr>\n",
       "    <tr>\n",
       "      <th>28</th>\n",
       "      <td>222</td>\n",
       "      <td>228</td>\n",
       "      <td>227</td>\n",
       "    </tr>\n",
       "    <tr>\n",
       "      <th>29</th>\n",
       "      <td>204</td>\n",
       "      <td>208</td>\n",
       "      <td>173</td>\n",
       "    </tr>\n",
       "    <tr>\n",
       "      <th>...</th>\n",
       "      <td>...</td>\n",
       "      <td>...</td>\n",
       "      <td>...</td>\n",
       "    </tr>\n",
       "    <tr>\n",
       "      <th>9970</th>\n",
       "      <td>27</td>\n",
       "      <td>94</td>\n",
       "      <td>62</td>\n",
       "    </tr>\n",
       "    <tr>\n",
       "      <th>9971</th>\n",
       "      <td>24</td>\n",
       "      <td>92</td>\n",
       "      <td>57</td>\n",
       "    </tr>\n",
       "    <tr>\n",
       "      <th>9972</th>\n",
       "      <td>8</td>\n",
       "      <td>89</td>\n",
       "      <td>56</td>\n",
       "    </tr>\n",
       "    <tr>\n",
       "      <th>9973</th>\n",
       "      <td>21</td>\n",
       "      <td>96</td>\n",
       "      <td>64</td>\n",
       "    </tr>\n",
       "    <tr>\n",
       "      <th>9974</th>\n",
       "      <td>20</td>\n",
       "      <td>92</td>\n",
       "      <td>62</td>\n",
       "    </tr>\n",
       "    <tr>\n",
       "      <th>9975</th>\n",
       "      <td>28</td>\n",
       "      <td>106</td>\n",
       "      <td>82</td>\n",
       "    </tr>\n",
       "    <tr>\n",
       "      <th>9976</th>\n",
       "      <td>12</td>\n",
       "      <td>94</td>\n",
       "      <td>65</td>\n",
       "    </tr>\n",
       "    <tr>\n",
       "      <th>9977</th>\n",
       "      <td>20</td>\n",
       "      <td>98</td>\n",
       "      <td>67</td>\n",
       "    </tr>\n",
       "    <tr>\n",
       "      <th>9978</th>\n",
       "      <td>19</td>\n",
       "      <td>109</td>\n",
       "      <td>86</td>\n",
       "    </tr>\n",
       "    <tr>\n",
       "      <th>9979</th>\n",
       "      <td>34</td>\n",
       "      <td>117</td>\n",
       "      <td>95</td>\n",
       "    </tr>\n",
       "    <tr>\n",
       "      <th>9980</th>\n",
       "      <td>6</td>\n",
       "      <td>92</td>\n",
       "      <td>68</td>\n",
       "    </tr>\n",
       "    <tr>\n",
       "      <th>9981</th>\n",
       "      <td>20</td>\n",
       "      <td>100</td>\n",
       "      <td>87</td>\n",
       "    </tr>\n",
       "    <tr>\n",
       "      <th>9982</th>\n",
       "      <td>35</td>\n",
       "      <td>129</td>\n",
       "      <td>118</td>\n",
       "    </tr>\n",
       "    <tr>\n",
       "      <th>9983</th>\n",
       "      <td>25</td>\n",
       "      <td>103</td>\n",
       "      <td>79</td>\n",
       "    </tr>\n",
       "    <tr>\n",
       "      <th>9984</th>\n",
       "      <td>27</td>\n",
       "      <td>106</td>\n",
       "      <td>87</td>\n",
       "    </tr>\n",
       "    <tr>\n",
       "      <th>9985</th>\n",
       "      <td>30</td>\n",
       "      <td>117</td>\n",
       "      <td>84</td>\n",
       "    </tr>\n",
       "    <tr>\n",
       "      <th>9986</th>\n",
       "      <td>13</td>\n",
       "      <td>91</td>\n",
       "      <td>67</td>\n",
       "    </tr>\n",
       "    <tr>\n",
       "      <th>9987</th>\n",
       "      <td>51</td>\n",
       "      <td>138</td>\n",
       "      <td>102</td>\n",
       "    </tr>\n",
       "    <tr>\n",
       "      <th>9988</th>\n",
       "      <td>36</td>\n",
       "      <td>100</td>\n",
       "      <td>65</td>\n",
       "    </tr>\n",
       "    <tr>\n",
       "      <th>9989</th>\n",
       "      <td>32</td>\n",
       "      <td>98</td>\n",
       "      <td>69</td>\n",
       "    </tr>\n",
       "    <tr>\n",
       "      <th>9990</th>\n",
       "      <td>11</td>\n",
       "      <td>88</td>\n",
       "      <td>54</td>\n",
       "    </tr>\n",
       "    <tr>\n",
       "      <th>9991</th>\n",
       "      <td>28</td>\n",
       "      <td>94</td>\n",
       "      <td>75</td>\n",
       "    </tr>\n",
       "    <tr>\n",
       "      <th>9992</th>\n",
       "      <td>42</td>\n",
       "      <td>115</td>\n",
       "      <td>89</td>\n",
       "    </tr>\n",
       "    <tr>\n",
       "      <th>9993</th>\n",
       "      <td>43</td>\n",
       "      <td>108</td>\n",
       "      <td>86</td>\n",
       "    </tr>\n",
       "    <tr>\n",
       "      <th>9994</th>\n",
       "      <td>55</td>\n",
       "      <td>114</td>\n",
       "      <td>86</td>\n",
       "    </tr>\n",
       "    <tr>\n",
       "      <th>9995</th>\n",
       "      <td>16</td>\n",
       "      <td>99</td>\n",
       "      <td>77</td>\n",
       "    </tr>\n",
       "    <tr>\n",
       "      <th>9996</th>\n",
       "      <td>47</td>\n",
       "      <td>108</td>\n",
       "      <td>82</td>\n",
       "    </tr>\n",
       "    <tr>\n",
       "      <th>9997</th>\n",
       "      <td>24</td>\n",
       "      <td>102</td>\n",
       "      <td>71</td>\n",
       "    </tr>\n",
       "    <tr>\n",
       "      <th>9998</th>\n",
       "      <td>29</td>\n",
       "      <td>118</td>\n",
       "      <td>108</td>\n",
       "    </tr>\n",
       "    <tr>\n",
       "      <th>9999</th>\n",
       "      <td>17</td>\n",
       "      <td>119</td>\n",
       "      <td>108</td>\n",
       "    </tr>\n",
       "  </tbody>\n",
       "</table>\n",
       "<p>20000 rows × 3 columns</p>\n",
       "</div>"
      ],
      "text/plain": [
       "        B    G    R\n",
       "0     216  228  228\n",
       "1     206  218  218\n",
       "2     209  228  225\n",
       "3     218  223  222\n",
       "4     204  215  213\n",
       "5     205  222  219\n",
       "6     215  226  224\n",
       "7     213  227  225\n",
       "8     209  226  215\n",
       "9     208  225  214\n",
       "10    211  225  223\n",
       "11    210  224  222\n",
       "12    211  222  212\n",
       "13    207  215  208\n",
       "14    220  224  218\n",
       "15    218  213  188\n",
       "16    239  224  175\n",
       "17    213  207  170\n",
       "18    218  223  208\n",
       "19    227  229  217\n",
       "20    214  226  214\n",
       "21    219  226  219\n",
       "22    220  227  220\n",
       "23    218  230  230\n",
       "24    226  234  227\n",
       "25    223  226  230\n",
       "26    222  229  226\n",
       "27    225  232  229\n",
       "28    222  228  227\n",
       "29    204  208  173\n",
       "...   ...  ...  ...\n",
       "9970   27   94   62\n",
       "9971   24   92   57\n",
       "9972    8   89   56\n",
       "9973   21   96   64\n",
       "9974   20   92   62\n",
       "9975   28  106   82\n",
       "9976   12   94   65\n",
       "9977   20   98   67\n",
       "9978   19  109   86\n",
       "9979   34  117   95\n",
       "9980    6   92   68\n",
       "9981   20  100   87\n",
       "9982   35  129  118\n",
       "9983   25  103   79\n",
       "9984   27  106   87\n",
       "9985   30  117   84\n",
       "9986   13   91   67\n",
       "9987   51  138  102\n",
       "9988   36  100   65\n",
       "9989   32   98   69\n",
       "9990   11   88   54\n",
       "9991   28   94   75\n",
       "9992   42  115   89\n",
       "9993   43  108   86\n",
       "9994   55  114   86\n",
       "9995   16   99   77\n",
       "9996   47  108   82\n",
       "9997   24  102   71\n",
       "9998   29  118  108\n",
       "9999   17  119  108\n",
       "\n",
       "[20000 rows x 3 columns]"
      ]
     },
     "execution_count": 55,
     "metadata": {},
     "output_type": "execute_result"
    }
   ],
   "source": [
    "px5 = np.array(new).reshape((-1,3))\n",
    "px6 = np.array(new).reshape((-1,3))\n",
    "#px2[:,0]\n",
    "df5 = pd.DataFrame({'R':px5[:,0],'G':px5[:,1],'B':px5[:,2]})\n",
    "df6 = pd.DataFrame({'R':px6[:,0],'G':px6[:,1],'B':px6[:,2]})\n",
    "frames=[df5,df6]\n",
    "result=pd.concat(frames)\n",
    "result"
   ]
  },
  {
   "cell_type": "code",
   "execution_count": 25,
   "metadata": {
    "collapsed": false
   },
   "outputs": [
    {
     "data": {
      "text/html": [
       "<div>\n",
       "<table border=\"1\" class=\"dataframe\">\n",
       "  <thead>\n",
       "    <tr style=\"text-align: right;\">\n",
       "      <th></th>\n",
       "      <th>0</th>\n",
       "      <th>1</th>\n",
       "    </tr>\n",
       "  </thead>\n",
       "  <tbody>\n",
       "    <tr>\n",
       "      <th>0</th>\n",
       "      <td>[255, 255, 255, 252, 252, 252, 255, 255, 255, ...</td>\n",
       "      <td>1.jpg</td>\n",
       "    </tr>\n",
       "    <tr>\n",
       "      <th>1</th>\n",
       "      <td>[113, 88, 92, 79, 49, 49, 93, 52, 46, 104, 66,...</td>\n",
       "      <td>10.jpg</td>\n",
       "    </tr>\n",
       "    <tr>\n",
       "      <th>2</th>\n",
       "      <td>[155, 139, 114, 142, 144, 131, 82, 87, 83, 77,...</td>\n",
       "      <td>100.jpg</td>\n",
       "    </tr>\n",
       "    <tr>\n",
       "      <th>3</th>\n",
       "      <td>[140, 132, 130, 118, 130, 152, 108, 122, 161, ...</td>\n",
       "      <td>1000.jpg</td>\n",
       "    </tr>\n",
       "    <tr>\n",
       "      <th>4</th>\n",
       "      <td>[60, 69, 66, 52, 59, 69, 49, 57, 68, 48, 57, 6...</td>\n",
       "      <td>10000.jpg</td>\n",
       "    </tr>\n",
       "    <tr>\n",
       "      <th>5</th>\n",
       "      <td>[155, 125, 65, 143, 113, 53, 154, 123, 66, 150...</td>\n",
       "      <td>100001.jpg</td>\n",
       "    </tr>\n",
       "    <tr>\n",
       "      <th>6</th>\n",
       "      <td>[0, 116, 23, 0, 108, 20, 0, 103, 16, 0, 102, 1...</td>\n",
       "      <td>100002.jpg</td>\n",
       "    </tr>\n",
       "    <tr>\n",
       "      <th>7</th>\n",
       "      <td>[252, 253, 248, 250, 251, 246, 253, 252, 248, ...</td>\n",
       "      <td>100003.jpg</td>\n",
       "    </tr>\n",
       "    <tr>\n",
       "      <th>8</th>\n",
       "      <td>[121, 118, 135, 136, 137, 93, 136, 132, 85, 14...</td>\n",
       "      <td>100006.jpg</td>\n",
       "    </tr>\n",
       "    <tr>\n",
       "      <th>9</th>\n",
       "      <td>[144, 178, 205, 143, 177, 204, 134, 171, 197, ...</td>\n",
       "      <td>100007.jpg</td>\n",
       "    </tr>\n",
       "    <tr>\n",
       "      <th>10</th>\n",
       "      <td>[91, 79, 81, 31, 19, 21, 66, 48, 46, 58, 41, 3...</td>\n",
       "      <td>100009.jpg</td>\n",
       "    </tr>\n",
       "    <tr>\n",
       "      <th>11</th>\n",
       "      <td>[171, 164, 180, 188, 179, 164, 191, 177, 174, ...</td>\n",
       "      <td>10001.jpg</td>\n",
       "    </tr>\n",
       "    <tr>\n",
       "      <th>12</th>\n",
       "      <td>[209, 198, 153, 109, 140, 124, 103, 117, 84, 1...</td>\n",
       "      <td>100010.jpg</td>\n",
       "    </tr>\n",
       "    <tr>\n",
       "      <th>13</th>\n",
       "      <td>[33, 30, 37, 36, 33, 40, 43, 40, 47, 39, 36, 4...</td>\n",
       "      <td>100011.jpg</td>\n",
       "    </tr>\n",
       "    <tr>\n",
       "      <th>14</th>\n",
       "      <td>[160, 116, 51, 167, 123, 58, 165, 119, 57, 172...</td>\n",
       "      <td>100012.jpg</td>\n",
       "    </tr>\n",
       "    <tr>\n",
       "      <th>15</th>\n",
       "      <td>[212, 212, 212, 210, 210, 210, 213, 213, 213, ...</td>\n",
       "      <td>100013.jpg</td>\n",
       "    </tr>\n",
       "    <tr>\n",
       "      <th>16</th>\n",
       "      <td>[3, 0, 2, 41, 36, 68, 142, 23, 19, 115, 22, 33...</td>\n",
       "      <td>100016.jpg</td>\n",
       "    </tr>\n",
       "    <tr>\n",
       "      <th>17</th>\n",
       "      <td>[237, 248, 240, 218, 226, 215, 220, 228, 217, ...</td>\n",
       "      <td>100017.jpg</td>\n",
       "    </tr>\n",
       "    <tr>\n",
       "      <th>18</th>\n",
       "      <td>[236, 236, 236, 227, 227, 227, 234, 234, 232, ...</td>\n",
       "      <td>100019.jpg</td>\n",
       "    </tr>\n",
       "    <tr>\n",
       "      <th>19</th>\n",
       "      <td>[255, 255, 255, 52, 52, 52, 179, 179, 179, 232...</td>\n",
       "      <td>10002.jpg</td>\n",
       "    </tr>\n",
       "    <tr>\n",
       "      <th>20</th>\n",
       "      <td>[249, 249, 249, 249, 249, 249, 251, 251, 251, ...</td>\n",
       "      <td>100020.jpg</td>\n",
       "    </tr>\n",
       "    <tr>\n",
       "      <th>21</th>\n",
       "      <td>[202, 195, 167, 214, 209, 171, 216, 197, 183, ...</td>\n",
       "      <td>100021.jpg</td>\n",
       "    </tr>\n",
       "    <tr>\n",
       "      <th>22</th>\n",
       "      <td>[244, 235, 226, 254, 245, 236, 249, 240, 231, ...</td>\n",
       "      <td>100023.jpg</td>\n",
       "    </tr>\n",
       "    <tr>\n",
       "      <th>23</th>\n",
       "      <td>[66, 86, 49, 140, 146, 110, 71, 109, 58, 61, 1...</td>\n",
       "      <td>100026.jpg</td>\n",
       "    </tr>\n",
       "    <tr>\n",
       "      <th>24</th>\n",
       "      <td>[236, 237, 229, 248, 249, 244, 235, 236, 231, ...</td>\n",
       "      <td>100027.jpg</td>\n",
       "    </tr>\n",
       "    <tr>\n",
       "      <th>25</th>\n",
       "      <td>[76, 80, 66, 61, 65, 51, 51, 57, 43, 45, 48, 3...</td>\n",
       "      <td>100029.jpg</td>\n",
       "    </tr>\n",
       "    <tr>\n",
       "      <th>26</th>\n",
       "      <td>[242, 240, 241, 245, 246, 250, 240, 243, 248, ...</td>\n",
       "      <td>10003.jpg</td>\n",
       "    </tr>\n",
       "    <tr>\n",
       "      <th>27</th>\n",
       "      <td>[121, 107, 96, 67, 61, 47, 34, 35, 37, 35, 35,...</td>\n",
       "      <td>100030.jpg</td>\n",
       "    </tr>\n",
       "    <tr>\n",
       "      <th>28</th>\n",
       "      <td>[109, 105, 67, 191, 199, 162, 194, 213, 168, 1...</td>\n",
       "      <td>100031.jpg</td>\n",
       "    </tr>\n",
       "    <tr>\n",
       "      <th>29</th>\n",
       "      <td>[120, 135, 140, 150, 165, 172, 128, 144, 157, ...</td>\n",
       "      <td>100032.jpg</td>\n",
       "    </tr>\n",
       "    <tr>\n",
       "      <th>30</th>\n",
       "      <td>[53, 55, 42, 89, 95, 85, 65, 76, 70, 82, 93, 8...</td>\n",
       "      <td>100033.jpg</td>\n",
       "    </tr>\n",
       "    <tr>\n",
       "      <th>31</th>\n",
       "      <td>[255, 255, 255, 255, 255, 255, 255, 255, 255, ...</td>\n",
       "      <td>100034.jpg</td>\n",
       "    </tr>\n",
       "    <tr>\n",
       "      <th>32</th>\n",
       "      <td>[84, 78, 64, 52, 47, 43, 48, 43, 39, 42, 41, 3...</td>\n",
       "      <td>100036.jpg</td>\n",
       "    </tr>\n",
       "    <tr>\n",
       "      <th>33</th>\n",
       "      <td>[254, 254, 254, 254, 254, 254, 254, 254, 254, ...</td>\n",
       "      <td>100037.jpg</td>\n",
       "    </tr>\n",
       "    <tr>\n",
       "      <th>34</th>\n",
       "      <td>[0, 2, 4, 3, 0, 9, 0, 3, 0, 5, 0, 13, 0, 2, 13...</td>\n",
       "      <td>100038.jpg</td>\n",
       "    </tr>\n",
       "    <tr>\n",
       "      <th>35</th>\n",
       "      <td>[1, 0, 0, 0, 0, 4, 5, 4, 2, 6, 6, 4, 3, 2, 0, ...</td>\n",
       "      <td>10004.jpg</td>\n",
       "    </tr>\n",
       "    <tr>\n",
       "      <th>36</th>\n",
       "      <td>[88, 74, 61, 43, 29, 18, 103, 80, 64, 35, 28, ...</td>\n",
       "      <td>100040.jpg</td>\n",
       "    </tr>\n",
       "    <tr>\n",
       "      <th>37</th>\n",
       "      <td>[127, 140, 133, 126, 139, 132, 115, 135, 134, ...</td>\n",
       "      <td>100042.jpg</td>\n",
       "    </tr>\n",
       "    <tr>\n",
       "      <th>38</th>\n",
       "      <td>[123, 108, 75, 176, 160, 145, 128, 120, 107, 1...</td>\n",
       "      <td>100044.jpg</td>\n",
       "    </tr>\n",
       "    <tr>\n",
       "      <th>39</th>\n",
       "      <td>[216, 186, 134, 223, 193, 141, 233, 206, 137, ...</td>\n",
       "      <td>100045.jpg</td>\n",
       "    </tr>\n",
       "    <tr>\n",
       "      <th>40</th>\n",
       "      <td>[214, 178, 116, 218, 184, 113, 211, 181, 111, ...</td>\n",
       "      <td>100046.jpg</td>\n",
       "    </tr>\n",
       "    <tr>\n",
       "      <th>41</th>\n",
       "      <td>[198, 199, 194, 207, 208, 202, 213, 214, 209, ...</td>\n",
       "      <td>100047.jpg</td>\n",
       "    </tr>\n",
       "    <tr>\n",
       "      <th>42</th>\n",
       "      <td>[101, 72, 32, 110, 90, 40, 125, 115, 66, 119, ...</td>\n",
       "      <td>10005.jpg</td>\n",
       "    </tr>\n",
       "    <tr>\n",
       "      <th>43</th>\n",
       "      <td>[195, 196, 201, 201, 202, 207, 189, 189, 201, ...</td>\n",
       "      <td>100051.jpg</td>\n",
       "    </tr>\n",
       "    <tr>\n",
       "      <th>44</th>\n",
       "      <td>[20, 16, 7, 10, 5, 1, 6, 0, 0, 14, 7, 1, 28, 1...</td>\n",
       "      <td>100052.jpg</td>\n",
       "    </tr>\n",
       "    <tr>\n",
       "      <th>45</th>\n",
       "      <td>[145, 131, 96, 178, 171, 145, 197, 196, 178, 2...</td>\n",
       "      <td>100053.jpg</td>\n",
       "    </tr>\n",
       "    <tr>\n",
       "      <th>46</th>\n",
       "      <td>[255, 255, 255, 255, 255, 255, 255, 255, 255, ...</td>\n",
       "      <td>100055.jpg</td>\n",
       "    </tr>\n",
       "    <tr>\n",
       "      <th>47</th>\n",
       "      <td>[75, 49, 50, 82, 63, 65, 68, 58, 57, 99, 60, 6...</td>\n",
       "      <td>100057.jpg</td>\n",
       "    </tr>\n",
       "    <tr>\n",
       "      <th>48</th>\n",
       "      <td>[219, 221, 208, 222, 224, 203, 220, 217, 202, ...</td>\n",
       "      <td>10006.jpg</td>\n",
       "    </tr>\n",
       "    <tr>\n",
       "      <th>49</th>\n",
       "      <td>[228, 228, 216, 218, 218, 206, 225, 228, 209, ...</td>\n",
       "      <td>100060.jpg</td>\n",
       "    </tr>\n",
       "  </tbody>\n",
       "</table>\n",
       "</div>"
      ],
      "text/plain": [
       "                                                    0           1\n",
       "0   [255, 255, 255, 252, 252, 252, 255, 255, 255, ...       1.jpg\n",
       "1   [113, 88, 92, 79, 49, 49, 93, 52, 46, 104, 66,...      10.jpg\n",
       "2   [155, 139, 114, 142, 144, 131, 82, 87, 83, 77,...     100.jpg\n",
       "3   [140, 132, 130, 118, 130, 152, 108, 122, 161, ...    1000.jpg\n",
       "4   [60, 69, 66, 52, 59, 69, 49, 57, 68, 48, 57, 6...   10000.jpg\n",
       "5   [155, 125, 65, 143, 113, 53, 154, 123, 66, 150...  100001.jpg\n",
       "6   [0, 116, 23, 0, 108, 20, 0, 103, 16, 0, 102, 1...  100002.jpg\n",
       "7   [252, 253, 248, 250, 251, 246, 253, 252, 248, ...  100003.jpg\n",
       "8   [121, 118, 135, 136, 137, 93, 136, 132, 85, 14...  100006.jpg\n",
       "9   [144, 178, 205, 143, 177, 204, 134, 171, 197, ...  100007.jpg\n",
       "10  [91, 79, 81, 31, 19, 21, 66, 48, 46, 58, 41, 3...  100009.jpg\n",
       "11  [171, 164, 180, 188, 179, 164, 191, 177, 174, ...   10001.jpg\n",
       "12  [209, 198, 153, 109, 140, 124, 103, 117, 84, 1...  100010.jpg\n",
       "13  [33, 30, 37, 36, 33, 40, 43, 40, 47, 39, 36, 4...  100011.jpg\n",
       "14  [160, 116, 51, 167, 123, 58, 165, 119, 57, 172...  100012.jpg\n",
       "15  [212, 212, 212, 210, 210, 210, 213, 213, 213, ...  100013.jpg\n",
       "16  [3, 0, 2, 41, 36, 68, 142, 23, 19, 115, 22, 33...  100016.jpg\n",
       "17  [237, 248, 240, 218, 226, 215, 220, 228, 217, ...  100017.jpg\n",
       "18  [236, 236, 236, 227, 227, 227, 234, 234, 232, ...  100019.jpg\n",
       "19  [255, 255, 255, 52, 52, 52, 179, 179, 179, 232...   10002.jpg\n",
       "20  [249, 249, 249, 249, 249, 249, 251, 251, 251, ...  100020.jpg\n",
       "21  [202, 195, 167, 214, 209, 171, 216, 197, 183, ...  100021.jpg\n",
       "22  [244, 235, 226, 254, 245, 236, 249, 240, 231, ...  100023.jpg\n",
       "23  [66, 86, 49, 140, 146, 110, 71, 109, 58, 61, 1...  100026.jpg\n",
       "24  [236, 237, 229, 248, 249, 244, 235, 236, 231, ...  100027.jpg\n",
       "25  [76, 80, 66, 61, 65, 51, 51, 57, 43, 45, 48, 3...  100029.jpg\n",
       "26  [242, 240, 241, 245, 246, 250, 240, 243, 248, ...   10003.jpg\n",
       "27  [121, 107, 96, 67, 61, 47, 34, 35, 37, 35, 35,...  100030.jpg\n",
       "28  [109, 105, 67, 191, 199, 162, 194, 213, 168, 1...  100031.jpg\n",
       "29  [120, 135, 140, 150, 165, 172, 128, 144, 157, ...  100032.jpg\n",
       "30  [53, 55, 42, 89, 95, 85, 65, 76, 70, 82, 93, 8...  100033.jpg\n",
       "31  [255, 255, 255, 255, 255, 255, 255, 255, 255, ...  100034.jpg\n",
       "32  [84, 78, 64, 52, 47, 43, 48, 43, 39, 42, 41, 3...  100036.jpg\n",
       "33  [254, 254, 254, 254, 254, 254, 254, 254, 254, ...  100037.jpg\n",
       "34  [0, 2, 4, 3, 0, 9, 0, 3, 0, 5, 0, 13, 0, 2, 13...  100038.jpg\n",
       "35  [1, 0, 0, 0, 0, 4, 5, 4, 2, 6, 6, 4, 3, 2, 0, ...   10004.jpg\n",
       "36  [88, 74, 61, 43, 29, 18, 103, 80, 64, 35, 28, ...  100040.jpg\n",
       "37  [127, 140, 133, 126, 139, 132, 115, 135, 134, ...  100042.jpg\n",
       "38  [123, 108, 75, 176, 160, 145, 128, 120, 107, 1...  100044.jpg\n",
       "39  [216, 186, 134, 223, 193, 141, 233, 206, 137, ...  100045.jpg\n",
       "40  [214, 178, 116, 218, 184, 113, 211, 181, 111, ...  100046.jpg\n",
       "41  [198, 199, 194, 207, 208, 202, 213, 214, 209, ...  100047.jpg\n",
       "42  [101, 72, 32, 110, 90, 40, 125, 115, 66, 119, ...   10005.jpg\n",
       "43  [195, 196, 201, 201, 202, 207, 189, 189, 201, ...  100051.jpg\n",
       "44  [20, 16, 7, 10, 5, 1, 6, 0, 0, 14, 7, 1, 28, 1...  100052.jpg\n",
       "45  [145, 131, 96, 178, 171, 145, 197, 196, 178, 2...  100053.jpg\n",
       "46  [255, 255, 255, 255, 255, 255, 255, 255, 255, ...  100055.jpg\n",
       "47  [75, 49, 50, 82, 63, 65, 68, 58, 57, 99, 60, 6...  100057.jpg\n",
       "48  [219, 221, 208, 222, 224, 203, 220, 217, 202, ...   10006.jpg\n",
       "49  [228, 228, 216, 218, 218, 206, 225, 228, 209, ...  100060.jpg"
      ]
     },
     "execution_count": 25,
     "metadata": {},
     "output_type": "execute_result"
    }
   ],
   "source": [
    "import pandas as pd\n",
    "df = pd.DataFrame(mylist)\n",
    "#df\n",
    "\n",
    "#df = pd.DataFrame({'R':px2[:,0],'G':px2[:,1],'B':px2[:,2]})"
   ]
  },
  {
   "cell_type": "code",
   "execution_count": null,
   "metadata": {
    "collapsed": true
   },
   "outputs": [],
   "source": [
    "result = pd.concat([mylist, df4], axis=1, join_axes=[df1.index])"
   ]
  },
  {
   "cell_type": "code",
   "execution_count": 81,
   "metadata": {
    "collapsed": false
   },
   "outputs": [
    {
     "data": {
      "text/plain": [
       "array([252, 246, 243, ...,  86,  66,  79])"
      ]
     },
     "execution_count": 81,
     "metadata": {},
     "output_type": "execute_result"
    }
   ],
   "source": [
    "mylist2=np.asarray(mylist)\n",
    "#type(mylist2)\n",
    "mylist2.flatten('F')"
   ]
  },
  {
   "cell_type": "code",
   "execution_count": 45,
   "metadata": {
    "collapsed": false
   },
   "outputs": [
    {
     "ename": "IOError",
     "evalue": "cannot write mode F as PNG",
     "output_type": "error",
     "traceback": [
      "\u001b[0;31m---------------------------------------------------------------------------\u001b[0m",
      "\u001b[0;31mIOError\u001b[0m                                   Traceback (most recent call last)",
      "\u001b[0;32m/Users/cesarosorio/anaconda/envs/py27/lib/python2.7/site-packages/IPython/core/formatters.pyc\u001b[0m in \u001b[0;36m__call__\u001b[0;34m(self, obj)\u001b[0m\n\u001b[1;32m    339\u001b[0m             \u001b[0mmethod\u001b[0m \u001b[0;34m=\u001b[0m \u001b[0m_safe_get_formatter_method\u001b[0m\u001b[0;34m(\u001b[0m\u001b[0mobj\u001b[0m\u001b[0;34m,\u001b[0m \u001b[0mself\u001b[0m\u001b[0;34m.\u001b[0m\u001b[0mprint_method\u001b[0m\u001b[0;34m)\u001b[0m\u001b[0;34m\u001b[0m\u001b[0m\n\u001b[1;32m    340\u001b[0m             \u001b[0;32mif\u001b[0m \u001b[0mmethod\u001b[0m \u001b[0;32mis\u001b[0m \u001b[0;32mnot\u001b[0m \u001b[0mNone\u001b[0m\u001b[0;34m:\u001b[0m\u001b[0;34m\u001b[0m\u001b[0m\n\u001b[0;32m--> 341\u001b[0;31m                 \u001b[0;32mreturn\u001b[0m \u001b[0mmethod\u001b[0m\u001b[0;34m(\u001b[0m\u001b[0;34m)\u001b[0m\u001b[0;34m\u001b[0m\u001b[0m\n\u001b[0m\u001b[1;32m    342\u001b[0m             \u001b[0;32mreturn\u001b[0m \u001b[0mNone\u001b[0m\u001b[0;34m\u001b[0m\u001b[0m\n\u001b[1;32m    343\u001b[0m         \u001b[0;32melse\u001b[0m\u001b[0;34m:\u001b[0m\u001b[0;34m\u001b[0m\u001b[0m\n",
      "\u001b[0;32m/Users/cesarosorio/anaconda/envs/py27/lib/python2.7/site-packages/PIL/Image.pyc\u001b[0m in \u001b[0;36m_repr_png_\u001b[0;34m(self)\u001b[0m\n\u001b[1;32m    617\u001b[0m         \u001b[0;32mfrom\u001b[0m \u001b[0mio\u001b[0m \u001b[0;32mimport\u001b[0m \u001b[0mBytesIO\u001b[0m\u001b[0;34m\u001b[0m\u001b[0m\n\u001b[1;32m    618\u001b[0m         \u001b[0mb\u001b[0m \u001b[0;34m=\u001b[0m \u001b[0mBytesIO\u001b[0m\u001b[0;34m(\u001b[0m\u001b[0;34m)\u001b[0m\u001b[0;34m\u001b[0m\u001b[0m\n\u001b[0;32m--> 619\u001b[0;31m         \u001b[0mself\u001b[0m\u001b[0;34m.\u001b[0m\u001b[0msave\u001b[0m\u001b[0;34m(\u001b[0m\u001b[0mb\u001b[0m\u001b[0;34m,\u001b[0m \u001b[0;34m'PNG'\u001b[0m\u001b[0;34m)\u001b[0m\u001b[0;34m\u001b[0m\u001b[0m\n\u001b[0m\u001b[1;32m    620\u001b[0m         \u001b[0;32mreturn\u001b[0m \u001b[0mb\u001b[0m\u001b[0;34m.\u001b[0m\u001b[0mgetvalue\u001b[0m\u001b[0;34m(\u001b[0m\u001b[0;34m)\u001b[0m\u001b[0;34m\u001b[0m\u001b[0m\n\u001b[1;32m    621\u001b[0m \u001b[0;34m\u001b[0m\u001b[0m\n",
      "\u001b[0;32m/Users/cesarosorio/anaconda/envs/py27/lib/python2.7/site-packages/PIL/Image.pyc\u001b[0m in \u001b[0;36msave\u001b[0;34m(self, fp, format, **params)\u001b[0m\n\u001b[1;32m   1685\u001b[0m \u001b[0;34m\u001b[0m\u001b[0m\n\u001b[1;32m   1686\u001b[0m         \u001b[0;32mtry\u001b[0m\u001b[0;34m:\u001b[0m\u001b[0;34m\u001b[0m\u001b[0m\n\u001b[0;32m-> 1687\u001b[0;31m             \u001b[0msave_handler\u001b[0m\u001b[0;34m(\u001b[0m\u001b[0mself\u001b[0m\u001b[0;34m,\u001b[0m \u001b[0mfp\u001b[0m\u001b[0;34m,\u001b[0m \u001b[0mfilename\u001b[0m\u001b[0;34m)\u001b[0m\u001b[0;34m\u001b[0m\u001b[0m\n\u001b[0m\u001b[1;32m   1688\u001b[0m         \u001b[0;32mfinally\u001b[0m\u001b[0;34m:\u001b[0m\u001b[0;34m\u001b[0m\u001b[0m\n\u001b[1;32m   1689\u001b[0m             \u001b[0;31m# do what we can to clean up\u001b[0m\u001b[0;34m\u001b[0m\u001b[0;34m\u001b[0m\u001b[0m\n",
      "\u001b[0;32m/Users/cesarosorio/anaconda/envs/py27/lib/python2.7/site-packages/PIL/PngImagePlugin.pyc\u001b[0m in \u001b[0;36m_save\u001b[0;34m(im, fp, filename, chunk, check)\u001b[0m\n\u001b[1;32m    680\u001b[0m         \u001b[0mrawmode\u001b[0m\u001b[0;34m,\u001b[0m \u001b[0mmode\u001b[0m \u001b[0;34m=\u001b[0m \u001b[0m_OUTMODES\u001b[0m\u001b[0;34m[\u001b[0m\u001b[0mmode\u001b[0m\u001b[0;34m]\u001b[0m\u001b[0;34m\u001b[0m\u001b[0m\n\u001b[1;32m    681\u001b[0m     \u001b[0;32mexcept\u001b[0m \u001b[0mKeyError\u001b[0m\u001b[0;34m:\u001b[0m\u001b[0;34m\u001b[0m\u001b[0m\n\u001b[0;32m--> 682\u001b[0;31m         \u001b[0;32mraise\u001b[0m \u001b[0mIOError\u001b[0m\u001b[0;34m(\u001b[0m\u001b[0;34m\"cannot write mode %s as PNG\"\u001b[0m \u001b[0;34m%\u001b[0m \u001b[0mmode\u001b[0m\u001b[0;34m)\u001b[0m\u001b[0;34m\u001b[0m\u001b[0m\n\u001b[0m\u001b[1;32m    683\u001b[0m \u001b[0;34m\u001b[0m\u001b[0m\n\u001b[1;32m    684\u001b[0m     \u001b[0;32mif\u001b[0m \u001b[0mcheck\u001b[0m\u001b[0;34m:\u001b[0m\u001b[0;34m\u001b[0m\u001b[0m\n",
      "\u001b[0;31mIOError\u001b[0m: cannot write mode F as PNG"
     ]
    },
    {
     "data": {
      "text/plain": [
       "<PIL.Image.Image image mode=F size=100x100 at 0x11049CB90>"
      ]
     },
     "execution_count": 45,
     "metadata": {},
     "output_type": "execute_result"
    }
   ],
   "source": [
    "from PIL import Image, ImageMath\n",
    "#new2=ImageMath.float(g)\n",
    "#new2 = ImageMath.eval('convert(a,\"F\")', a=g)\n",
    "#new2\n",
    "\n",
    "new2 = new.convert('F')\n",
    "new2\n",
    "\n",
    "#im1 = Image.open(\"image1.jpg\")\n",
    "#im2 = Image.open(\"image2.jpg\")\n",
    "\n",
    "#out = ImageMath.eval(\"convert(min(a, b), 'L')\", a=im1, b=im2)\n",
    "#out.save(\"result.png\")"
   ]
  },
  {
   "cell_type": "code",
   "execution_count": 153,
   "metadata": {
    "collapsed": false
   },
   "outputs": [
    {
     "data": {
      "text/plain": [
       "(1288, 50, 37)"
      ]
     },
     "execution_count": 153,
     "metadata": {},
     "output_type": "execute_result"
    }
   ],
   "source": [
    "lfw_people.images.shape"
   ]
  },
  {
   "cell_type": "code",
   "execution_count": 157,
   "metadata": {
    "collapsed": false,
    "scrolled": true
   },
   "outputs": [
    {
     "name": "stdout",
     "output_type": "stream",
     "text": [
      "Automatically created module for IPython interactive environment\n",
      "Extracting the top 150 eigenfaces from 10 faces\n",
      "done in 0.594s\n",
      "Projecting the input data on the eigenfaces orthonormal basis\n",
      "done in 0.002s\n"
     ]
    }
   ],
   "source": [
    "from __future__ import print_function\n",
    "\n",
    "from time import time\n",
    "import logging\n",
    "import matplotlib.pyplot as plt\n",
    "\n",
    "from sklearn.cross_validation import train_test_split\n",
    "from sklearn.datasets import fetch_lfw_people\n",
    "from sklearn.grid_search import GridSearchCV\n",
    "from sklearn.metrics import classification_report\n",
    "from sklearn.metrics import confusion_matrix\n",
    "from sklearn.decomposition import RandomizedPCA\n",
    "from sklearn.svm import SVC\n",
    "\n",
    "\n",
    "print(__doc__)\n",
    "\n",
    "# Display progress logs on stdout\n",
    "logging.basicConfig(level=logging.INFO, format='%(asctime)s %(message)s')\n",
    "\n",
    "\n",
    "###############################################################################\n",
    "# Download the data, if not already on disk and load it as numpy arrays\n",
    "\n",
    "#lfw_people = fetch_lfw_people(min_faces_per_person=70, resize=0.4)\n",
    "\n",
    "# introspect the images arrays to find the shapes (for plotting)\n",
    "h, w = (100,100)\n",
    "\n",
    "# for machine learning we use the 2 data directly (as relative pixel\n",
    "# positions info is ignored by this model)\n",
    "X_train = mylist\n",
    "n_features = X.shape[1]\n",
    "\n",
    "# the label to predict is the id of the person\n",
    "#y = lfw_people.target\n",
    "#target_names = lfw_people.target_names\n",
    "#n_classes = target_names.shape[0]\n",
    "\n",
    "#print(\"Total dataset size:\")\n",
    "#print(\"n_samples: %d\" % n_samples)\n",
    "#print(\"n_features: %d\" % n_features)\n",
    "#print(\"n_classes: %d\" % n_classes)\n",
    "\n",
    "###############################################################################\n",
    "# Compute a PCA (eigenfaces) on the face dataset (treated as unlabeled\n",
    "# dataset): unsupervised feature extraction / dimensionality reduction\n",
    "n_components = 150\n",
    "\n",
    "print(\"Extracting the top %d eigenfaces from %d faces\"\n",
    "      % (n_components, X_train.shape[0]))\n",
    "t0 = time()\n",
    "pca = RandomizedPCA(n_components=n_components, whiten=True).fit(X_train)\n",
    "print(\"done in %0.3fs\" % (time() - t0))\n",
    "\n",
    "#eigenfaces = pca.components_.reshape((n_components, h, w))\n",
    "\n",
    "print(\"Projecting the input data on the eigenfaces orthonormal basis\")\n",
    "t0 = time()\n",
    "X_train_pca = pca.transform(X_train)\n",
    "#X_test_pca = pca.transform(X_test)\n",
    "print(\"done in %0.3fs\" % (time() - t0))\n",
    "\n",
    "\n",
    "###############################################################################"
   ]
  },
  {
   "cell_type": "code",
   "execution_count": 172,
   "metadata": {
    "collapsed": false
   },
   "outputs": [
    {
     "data": {
      "text/plain": [
       "(10, 30000)"
      ]
     },
     "execution_count": 172,
     "metadata": {},
     "output_type": "execute_result"
    }
   ],
   "source": [
    "X_train.shape"
   ]
  },
  {
   "cell_type": "code",
   "execution_count": 286,
   "metadata": {
    "collapsed": false
   },
   "outputs": [
    {
     "name": "stdout",
     "output_type": "stream",
     "text": [
      "explained variance ratio (first n components): 1.0\n",
      "(10, 9)\n"
     ]
    },
    {
     "data": {
      "text/plain": [
       "<matplotlib.text.Text at 0x113f05990>"
      ]
     },
     "execution_count": 286,
     "metadata": {},
     "output_type": "execute_result"
    },
    {
     "data": {
      "image/png": "[encoded data removed]",
      "text/plain": [
       "<matplotlib.figure.Figure at 0x113068d50>"
      ]
     },
     "metadata": {},
     "output_type": "display_data"
    }
   ],
   "source": [
    "# Principal Component Analysis to MOvie data\n",
    "\n",
    "import matplotlib.pyplot as plt\n",
    "from sklearn.decomposition import PCA, RandomizedPCA\n",
    "from sklearn.preprocessing import scale\n",
    "\n",
    "# Display plots inline and change default figure size\n",
    "%matplotlib inline\n",
    "#matplotlib.rcParams['figure.figsize'] = (10.0, 8.0)\n",
    "\n",
    "# Note that I use scale and then PCA with Whitening, because whitening eliminates\n",
    "# correlation among features but scaling only affects the features independently\n",
    "X_train = mylist\n",
    "components= 9\n",
    "pca = PCA( n_components = components,whiten=True )\n",
    "#pca = RandomizedPCA(n_components = 200, random_state=0 )\n",
    "X_pca = pca.fit_transform(X_train)\n",
    "#X_pca = pca.fit_transform(scale(X_train))\n",
    "#X_pca_test = pca.transform(scale(X_test))\n",
    "\n",
    "# Percentage of variance explained for each components\n",
    "print('explained variance ratio (first n components): %s'\n",
    "      % str(sum(pca.explained_variance_ratio_)))\n",
    "print(X_pca.shape)\n",
    "h, w = (3,3)\n",
    "eigenfaces = pca.components_.reshape((components, h, w))\n",
    "#eigenvalues = pca.explained_variance_\n",
    "plt.figure(figsize=(4, 4))\n",
    "eigencumul=np.cumsum(np.round(pca.explained_variance_ratio_, decimals=4)*100)\n",
    "plt.plot(range(components),eigencumul)\n",
    "\n",
    "#plt.ylim(0, 100)\n",
    "plt.xlim(0, components)\n",
    "#plt.ylabel('Error')\n",
    "plt.xlabel('# of components')\n",
    "plt.title('Images Dataset \\n Cumulative percentage of variance \\n explained by components \\n', fontsize=12, ha='center')"
   ]
  },
  {
   "cell_type": "code",
   "execution_count": 302,
   "metadata": {
    "collapsed": false
   },
   "outputs": [
    {
     "ename": "AttributeError",
     "evalue": "'tuple' object has no attribute 'reshape'",
     "output_type": "error",
     "traceback": [
      "\u001b[0;31m---------------------------------------------------------------------------\u001b[0m",
      "\u001b[0;31mAttributeError\u001b[0m                            Traceback (most recent call last)",
      "\u001b[0;32m<ipython-input-302-9ba4520dce29>\u001b[0m in \u001b[0;36m<module>\u001b[0;34m()\u001b[0m\n\u001b[0;32m----> 1\u001b[0;31m \u001b[0mmylist\u001b[0m\u001b[0;34m[\u001b[0m\u001b[0;36m0\u001b[0m\u001b[0;34m,\u001b[0m\u001b[0;34m:\u001b[0m\u001b[0;34m]\u001b[0m\u001b[0;34m.\u001b[0m\u001b[0mshape\u001b[0m\u001b[0;34m.\u001b[0m\u001b[0mreshape\u001b[0m\u001b[0;34m(\u001b[0m\u001b[0;36m100\u001b[0m\u001b[0;34m,\u001b[0m\u001b[0;36m100\u001b[0m\u001b[0;34m,\u001b[0m\u001b[0;36m3\u001b[0m\u001b[0;34m)\u001b[0m\u001b[0;34m\u001b[0m\u001b[0m\n\u001b[0m",
      "\u001b[0;31mAttributeError\u001b[0m: 'tuple' object has no attribute 'reshape'"
     ]
    }
   ],
   "source": [
    "mylist[0,:].shape.reshape(100,100,3)"
   ]
  },
  {
   "cell_type": "code",
   "execution_count": 196,
   "metadata": {
    "collapsed": false
   },
   "outputs": [
    {
     "ename": "ValueError",
     "evalue": "total size of new array must be unchanged",
     "output_type": "error",
     "traceback": [
      "\u001b[0;31m---------------------------------------------------------------------------\u001b[0m",
      "\u001b[0;31mValueError\u001b[0m                                Traceback (most recent call last)",
      "\u001b[0;32m<ipython-input-196-7e7066eb3874>\u001b[0m in \u001b[0;36m<module>\u001b[0;34m()\u001b[0m\n\u001b[0;32m----> 1\u001b[0;31m \u001b[0meigenfaces\u001b[0m \u001b[0;34m=\u001b[0m \u001b[0mpca\u001b[0m\u001b[0;34m.\u001b[0m\u001b[0mcomponents_\u001b[0m\u001b[0;34m.\u001b[0m\u001b[0mreshape\u001b[0m\u001b[0;34m(\u001b[0m\u001b[0;34m(\u001b[0m\u001b[0;36m9\u001b[0m\u001b[0;34m,\u001b[0m \u001b[0;36m10000\u001b[0m\u001b[0;34m,\u001b[0m \u001b[0;36m3\u001b[0m\u001b[0;34m)\u001b[0m\u001b[0;34m)\u001b[0m\u001b[0;34m\u001b[0m\u001b[0m\n\u001b[0m",
      "\u001b[0;31mValueError\u001b[0m: total size of new array must be unchanged"
     ]
    }
   ],
   "source": [
    "eigenfaces = pca.components_.reshape((9, 10000, 3))"
   ]
  },
  {
   "cell_type": "code",
   "execution_count": 94,
   "metadata": {
    "collapsed": false
   },
   "outputs": [
    {
     "data": {
      "text/plain": [
       "(1288, 50, 37)"
      ]
     },
     "execution_count": 94,
     "metadata": {},
     "output_type": "execute_result"
    }
   ],
   "source": [
    "lfw_people['images'].shape"
   ]
  },
  {
   "cell_type": "code",
   "execution_count": 189,
   "metadata": {
    "collapsed": false
   },
   "outputs": [
    {
     "data": {
      "text/plain": [
       "array([ 1,  2,  3,  4,  5,  6,  7,  8,  9, 10, 11, 12])"
      ]
     },
     "execution_count": 189,
     "metadata": {},
     "output_type": "execute_result"
    }
   ],
   "source": [
    "import numpy as np\n",
    "a = np.array([[1,2,3], [4,5,6],[7,8,9],[10,11,12]])\n",
    "#a.flatten()\n",
    "a.flatten().reshape()\n"
   ]
  },
  {
   "cell_type": "code",
   "execution_count": 41,
   "metadata": {
    "collapsed": false
   },
   "outputs": [
    {
     "ename": "AttributeError",
     "evalue": "'module' object has no attribute 'convert'",
     "output_type": "error",
     "traceback": [
      "\u001b[0;31m---------------------------------------------------------------------------\u001b[0m",
      "\u001b[0;31mAttributeError\u001b[0m                            Traceback (most recent call last)",
      "\u001b[0;32m<ipython-input-41-4456ea74eac9>\u001b[0m in \u001b[0;36m<module>\u001b[0;34m()\u001b[0m\n\u001b[1;32m      1\u001b[0m \u001b[0;32mfrom\u001b[0m \u001b[0mPIL\u001b[0m \u001b[0;32mimport\u001b[0m \u001b[0mImage\u001b[0m\u001b[0;34m,\u001b[0m \u001b[0mImageMath\u001b[0m\u001b[0;34m\u001b[0m\u001b[0m\n\u001b[0;32m----> 2\u001b[0;31m \u001b[0mout\u001b[0m \u001b[0;34m=\u001b[0m \u001b[0mImage\u001b[0m\u001b[0;34m.\u001b[0m\u001b[0mconvert\u001b[0m\u001b[0;34m(\u001b[0m\u001b[0;34m\"F\"\u001b[0m\u001b[0;34m,\u001b[0m \u001b[0mnew\u001b[0m\u001b[0;34m)\u001b[0m\u001b[0;34m\u001b[0m\u001b[0m\n\u001b[0m",
      "\u001b[0;31mAttributeError\u001b[0m: 'module' object has no attribute 'convert'"
     ]
    }
   ],
   "source": [
    "from PIL import Image, ImageMath\n",
    "out = Image.convert(\"F\", new)"
   ]
  },
  {
   "cell_type": "code",
   "execution_count": null,
   "metadata": {
    "collapsed": true
   },
   "outputs": [],
   "source": [
    "###############################################################################\n",
    "# Split into a training set and a test set using a stratified k fold\n",
    "\n",
    "# split into a training and testing set\n",
    "X_train, X_test, y_train, y_test = train_test_split(\n",
    "    X, y, test_size=0.25, random_state=42)\n",
    "\n",
    "\n",
    "###############################################################################\n",
    "# Compute a PCA (eigenfaces) on the face dataset (treated as unlabeled\n",
    "# dataset): unsupervised feature extraction / dimensionality reduction\n",
    "n_components = 150\n",
    "\n",
    "print(\"Extracting the top %d eigenfaces from %d faces\"\n",
    "      % (n_components, X_train.shape[0]))\n",
    "t0 = time()\n",
    "pca = RandomizedPCA(n_components=n_components, whiten=True).fit(X_train)\n",
    "print(\"done in %0.3fs\" % (time() - t0))\n",
    "\n",
    "eigenfaces = pca.components_.reshape((n_components, h, w))\n",
    "\n",
    "print(\"Projecting the input data on the eigenfaces orthonormal basis\")\n",
    "t0 = time()\n",
    "X_train_pca = pca.transform(X_train)\n",
    "X_test_pca = pca.transform(X_test)\n",
    "print(\"done in %0.3fs\" % (time() - t0))\n",
    "\n",
    "\n",
    "###############################################################################\n",
    "# Train a SVM classification model\n",
    "\n",
    "print(\"Fitting the classifier to the training set\")\n",
    "t0 = time()\n",
    "param_grid = {'C': [1e3, 5e3, 1e4, 5e4, 1e5],\n",
    "              'gamma': [0.0001, 0.0005, 0.001, 0.005, 0.01, 0.1], }\n",
    "clf = GridSearchCV(SVC(kernel='rbf', class_weight='balanced'), param_grid)\n",
    "clf = clf.fit(X_train_pca, y_train)\n",
    "print(\"done in %0.3fs\" % (time() - t0))\n",
    "print(\"Best estimator found by grid search:\")\n",
    "print(clf.best_estimator_)\n",
    "\n",
    "\n",
    "###############################################################################\n",
    "# Quantitative evaluation of the model quality on the test set\n",
    "\n",
    "print(\"Predicting people's names on the test set\")\n",
    "t0 = time()\n",
    "y_pred = clf.predict(X_test_pca)\n",
    "print(\"done in %0.3fs\" % (time() - t0))\n",
    "\n",
    "print(classification_report(y_test, y_pred, target_names=target_names))\n",
    "print(confusion_matrix(y_test, y_pred, labels=range(n_classes)))\n",
    "\n",
    "\n",
    "###############################################################################\n",
    "# Qualitative evaluation of the predictions using matplotlib\n",
    "\n",
    "def plot_gallery(images, titles, h, w, n_row=3, n_col=4):\n",
    "    \"\"\"Helper function to plot a gallery of portraits\"\"\"\n",
    "    plt.figure(figsize=(1.8 * n_col, 2.4 * n_row))\n",
    "    plt.subplots_adjust(bottom=0, left=.01, right=.99, top=.90, hspace=.35)\n",
    "    for i in range(n_row * n_col):\n",
    "        plt.subplot(n_row, n_col, i + 1)\n",
    "        plt.imshow(images[i].reshape((h, w)), cmap=plt.cm.gray)\n",
    "        plt.title(titles[i], size=12)\n",
    "        plt.xticks(())\n",
    "        plt.yticks(())\n",
    "\n",
    "\n",
    "# plot the result of the prediction on a portion of the test set\n",
    "\n",
    "def title(y_pred, y_test, target_names, i):\n",
    "    pred_name = target_names[y_pred[i]].rsplit(' ', 1)[-1]\n",
    "    true_name = target_names[y_test[i]].rsplit(' ', 1)[-1]\n",
    "    return 'predicted: %s\\ntrue:      %s' % (pred_name, true_name)\n",
    "\n",
    "prediction_titles = [title(y_pred, y_test, target_names, i)\n",
    "                     for i in range(y_pred.shape[0])]\n",
    "\n",
    "plot_gallery(X_test, prediction_titles, h, w)\n",
    "\n",
    "# plot the gallery of the most significative eigenfaces\n",
    "\n",
    "eigenface_titles = [\"eigenface %d\" % i for i in range(eigenfaces.shape[0])]\n",
    "plot_gallery(eigenfaces, eigenface_titles, h, w)\n",
    "\n",
    "plt.show()\n"
   ]
  },
  {
   "cell_type": "code",
   "execution_count": 200,
   "metadata": {
    "collapsed": false
   },
   "outputs": [
    {
     "name": "stdout",
     "output_type": "stream",
     "text": [
      "Automatically created module for IPython interactive environment\n",
      "Total dataset size:\n",
      "n_samples: 1288\n",
      "n_features: 1850\n",
      "n_classes: 7\n",
      "Extracting the top 150 eigenfaces from 966 faces\n",
      "done in 0.157s\n",
      "Projecting the input data on the eigenfaces orthonormal basis\n",
      "done in 0.018s\n",
      "Fitting the classifier to the training set\n",
      "done in 14.776s\n",
      "Best estimator found by grid search:\n",
      "SVC(C=1000.0, cache_size=200, class_weight='balanced', coef0=0.0,\n",
      "  decision_function_shape=None, degree=3, gamma=0.001, kernel='rbf',\n",
      "  max_iter=-1, probability=False, random_state=None, shrinking=True,\n",
      "  tol=0.001, verbose=False)\n",
      "Predicting people's names on the test set\n",
      "done in 0.042s\n",
      "                   precision    recall  f1-score   support\n",
      "\n",
      "     Ariel Sharon       0.39      0.54      0.45        13\n",
      "     Colin Powell       0.78      0.87      0.82        60\n",
      "  Donald Rumsfeld       0.76      0.70      0.73        27\n",
      "    George W Bush       0.91      0.88      0.89       146\n",
      "Gerhard Schroeder       0.77      0.80      0.78        25\n",
      "      Hugo Chavez       0.73      0.53      0.62        15\n",
      "       Tony Blair       0.82      0.78      0.80        36\n",
      "\n",
      "      avg / total       0.82      0.81      0.82       322\n",
      "\n",
      "[[  7   1   2   3   0   0   0]\n",
      " [  3  52   1   3   0   1   0]\n",
      " [  5   0  19   2   0   0   1]\n",
      " [  2   9   1 128   3   1   2]\n",
      " [  0   2   0   1  20   1   1]\n",
      " [  0   1   0   2   2   8   2]\n",
      " [  1   2   2   2   1   0  28]]\n"
     ]
    },
    {
     "data": {
      "image/png": "[encoded data removed]",
      "text/plain": [
       "<matplotlib.figure.Figure at 0x1100d5050>"
      ]
     },
     "metadata": {},
     "output_type": "display_data"
    },
    {
     "data": {
      "image/png": "[encoded data removed]",
      "text/plain": [
       "<matplotlib.figure.Figure at 0x1104edb90>"
      ]
     },
     "metadata": {},
     "output_type": "display_data"
    }
   ],
   "source": [
    "from __future__ import print_function\n",
    "\n",
    "from time import time\n",
    "import logging\n",
    "import matplotlib.pyplot as plt\n",
    "\n",
    "from sklearn.cross_validation import train_test_split\n",
    "from sklearn.datasets import fetch_lfw_people\n",
    "from sklearn.grid_search import GridSearchCV\n",
    "from sklearn.metrics import classification_report\n",
    "from sklearn.metrics import confusion_matrix\n",
    "from sklearn.decomposition import RandomizedPCA\n",
    "from sklearn.svm import SVC\n",
    "\n",
    "\n",
    "print(__doc__)\n",
    "\n",
    "# Display progress logs on stdout\n",
    "logging.basicConfig(level=logging.INFO, format='%(asctime)s %(message)s')\n",
    "\n",
    "\n",
    "###############################################################################\n",
    "# Download the data, if not already on disk and load it as numpy arrays\n",
    "\n",
    "lfw_people = fetch_lfw_people(min_faces_per_person=70, resize=0.4)\n",
    "\n",
    "# introspect the images arrays to find the shapes (for plotting)\n",
    "n_samples, h, w = lfw_people.images.shape\n",
    "\n",
    "# for machine learning we use the 2 data directly (as relative pixel\n",
    "# positions info is ignored by this model)\n",
    "X = lfw_people.data\n",
    "n_features = X.shape[1]\n",
    "\n",
    "# the label to predict is the id of the person\n",
    "y = lfw_people.target\n",
    "target_names = lfw_people.target_names\n",
    "n_classes = target_names.shape[0]\n",
    "\n",
    "print(\"Total dataset size:\")\n",
    "print(\"n_samples: %d\" % n_samples)\n",
    "print(\"n_features: %d\" % n_features)\n",
    "print(\"n_classes: %d\" % n_classes)\n",
    "\n",
    "\n",
    "###############################################################################\n",
    "# Split into a training set and a test set using a stratified k fold\n",
    "\n",
    "# split into a training and testing set\n",
    "X_train, X_test, y_train, y_test = train_test_split(\n",
    "    X, y, test_size=0.25, random_state=42)\n",
    "\n",
    "\n",
    "###############################################################################\n",
    "# Compute a PCA (eigenfaces) on the face dataset (treated as unlabeled\n",
    "# dataset): unsupervised feature extraction / dimensionality reduction\n",
    "n_components = 150\n",
    "\n",
    "print(\"Extracting the top %d eigenfaces from %d faces\"\n",
    "      % (n_components, X_train.shape[0]))\n",
    "t0 = time()\n",
    "pca = RandomizedPCA(n_components=n_components, whiten=True).fit(X_train)\n",
    "print(\"done in %0.3fs\" % (time() - t0))\n",
    "\n",
    "eigenfaces = pca.components_.reshape((n_components, h, w))\n",
    "\n",
    "print(\"Projecting the input data on the eigenfaces orthonormal basis\")\n",
    "t0 = time()\n",
    "X_train_pca = pca.transform(X_train)\n",
    "X_test_pca = pca.transform(X_test)\n",
    "print(\"done in %0.3fs\" % (time() - t0))\n",
    "\n",
    "\n",
    "###############################################################################\n",
    "# Train a SVM classification model\n",
    "\n",
    "print(\"Fitting the classifier to the training set\")\n",
    "t0 = time()\n",
    "param_grid = {'C': [1e3, 5e3, 1e4, 5e4, 1e5],\n",
    "              'gamma': [0.0001, 0.0005, 0.001, 0.005, 0.01, 0.1], }\n",
    "clf = GridSearchCV(SVC(kernel='rbf', class_weight='balanced'), param_grid)\n",
    "clf = clf.fit(X_train_pca, y_train)\n",
    "print(\"done in %0.3fs\" % (time() - t0))\n",
    "print(\"Best estimator found by grid search:\")\n",
    "print(clf.best_estimator_)\n",
    "\n",
    "\n",
    "###############################################################################\n",
    "# Quantitative evaluation of the model quality on the test set\n",
    "\n",
    "print(\"Predicting people's names on the test set\")\n",
    "t0 = time()\n",
    "y_pred = clf.predict(X_test_pca)\n",
    "print(\"done in %0.3fs\" % (time() - t0))\n",
    "\n",
    "print(classification_report(y_test, y_pred, target_names=target_names))\n",
    "print(confusion_matrix(y_test, y_pred, labels=range(n_classes)))\n",
    "\n",
    "\n",
    "###############################################################################\n",
    "# Qualitative evaluation of the predictions using matplotlib\n",
    "\n",
    "def plot_gallery(images, titles, h, w, n_row=3, n_col=4):\n",
    "    \"\"\"Helper function to plot a gallery of portraits\"\"\"\n",
    "    plt.figure(figsize=(1.8 * n_col, 2.4 * n_row))\n",
    "    plt.subplots_adjust(bottom=0, left=.01, right=.99, top=.90, hspace=.35)\n",
    "    for i in range(n_row * n_col):\n",
    "        plt.subplot(n_row, n_col, i + 1)\n",
    "        plt.imshow(images[i].reshape((h, w)), cmap=plt.cm.gray)\n",
    "        plt.title(titles[i], size=12)\n",
    "        plt.xticks(())\n",
    "        plt.yticks(())\n",
    "\n",
    "\n",
    "# plot the result of the prediction on a portion of the test set\n",
    "\n",
    "def title(y_pred, y_test, target_names, i):\n",
    "    pred_name = target_names[y_pred[i]].rsplit(' ', 1)[-1]\n",
    "    true_name = target_names[y_test[i]].rsplit(' ', 1)[-1]\n",
    "    return 'predicted: %s\\ntrue:      %s' % (pred_name, true_name)\n",
    "\n",
    "prediction_titles = [title(y_pred, y_test, target_names, i)\n",
    "                     for i in range(y_pred.shape[0])]\n",
    "\n",
    "plot_gallery(X_test, prediction_titles, h, w)\n",
    "\n",
    "# plot the gallery of the most significative eigenfaces\n",
    "\n",
    "eigenface_titles = [\"eigenface %d\" % i for i in range(eigenfaces.shape[0])]\n",
    "plot_gallery(eigenfaces, eigenface_titles, h, w)\n",
    "\n",
    "plt.show()"
   ]
  },
  {
   "cell_type": "code",
   "execution_count": 201,
   "metadata": {
    "collapsed": false
   },
   "outputs": [
    {
     "data": {
      "text/plain": [
       "50"
      ]
     },
     "execution_count": 201,
     "metadata": {},
     "output_type": "execute_result"
    }
   ],
   "source": [
    "h"
   ]
  },
  {
   "cell_type": "code",
   "execution_count": 193,
   "metadata": {
    "collapsed": false
   },
   "outputs": [
    {
     "data": {
      "text/plain": [
       "37"
      ]
     },
     "execution_count": 193,
     "metadata": {},
     "output_type": "execute_result"
    }
   ],
   "source": [
    "w"
   ]
  },
  {
   "cell_type": "code",
   "execution_count": 194,
   "metadata": {
    "collapsed": false
   },
   "outputs": [
    {
     "data": {
      "text/plain": [
       "1288"
      ]
     },
     "execution_count": 194,
     "metadata": {},
     "output_type": "execute_result"
    }
   ],
   "source": [
    "n_samples"
   ]
  },
  {
   "cell_type": "code",
   "execution_count": 204,
   "metadata": {
    "collapsed": false
   },
   "outputs": [
    {
     "data": {
      "text/plain": [
       "(50, 37)"
      ]
     },
     "execution_count": 204,
     "metadata": {},
     "output_type": "execute_result"
    }
   ],
   "source": [
    "lfw_people.images[0]"
   ]
  },
  {
   "cell_type": "code",
   "execution_count": 206,
   "metadata": {
    "collapsed": false
   },
   "outputs": [
    {
     "data": {
      "text/plain": [
       "(1288, 50, 37)"
      ]
     },
     "execution_count": 206,
     "metadata": {},
     "output_type": "execute_result"
    }
   ],
   "source": [
    "lfw_people.images.shape"
   ]
  },
  {
   "cell_type": "code",
   "execution_count": 245,
   "metadata": {
    "collapsed": false
   },
   "outputs": [
    {
     "data": {
      "image/png": "[encoded data removed]",
      "text/plain": [
       "<PIL.Image.Image image mode=RGB size=100x100 at 0x110AA0210>"
      ]
     },
     "execution_count": 245,
     "metadata": {},
     "output_type": "execute_result"
    }
   ],
   "source": [
    "new"
   ]
  },
  {
   "cell_type": "code",
   "execution_count": 313,
   "metadata": {
    "collapsed": false
   },
   "outputs": [
    {
     "data": {
      "image/png": "[encoded data removed]",
      "text/plain": [
       "<PIL.Image.Image image mode=RGB size=100x100 at 0x1130720D0>"
      ]
     },
     "execution_count": 313,
     "metadata": {},
     "output_type": "execute_result"
    }
   ],
   "source": [
    "# Convert image to array , and then from array to image\n",
    "im = np.array(new)\n",
    "#im.flatten().reshape(100,100,3)\n",
    "im3 = Image.fromarray(im.flatten().reshape(100,100,3))\n",
    "im3"
   ]
  },
  {
   "cell_type": "code",
   "execution_count": null,
   "metadata": {
    "collapsed": true
   },
   "outputs": [],
   "source": []
  },
  {
   "cell_type": "code",
   "execution_count": 363,
   "metadata": {
    "collapsed": false
   },
   "outputs": [
    {
     "name": "stderr",
     "output_type": "stream",
     "text": [
      "/Users/cesarosorio/anaconda/envs/py27/lib/python2.7/site-packages/ipykernel/__main__.py:47: RuntimeWarning: invalid value encountered in sqrt\n",
      "/Users/cesarosorio/anaconda/envs/py27/lib/python2.7/site-packages/ipykernel/__main__.py:49: RuntimeWarning: divide by zero encountered in divide\n",
      "/Users/cesarosorio/anaconda/envs/py27/lib/python2.7/site-packages/ipykernel/__main__.py:49: RuntimeWarning: invalid value encountered in divide\n"
     ]
    },
    {
     "data": {
      "image/png": "[encoded data removed]",
      "text/plain": [
       "<matplotlib.figure.Figure at 0x11338bd10>"
      ]
     },
     "metadata": {},
     "output_type": "display_data"
    }
   ],
   "source": [
    "from PIL import Image\n",
    "from numpy import *\n",
    "from pylab import *\n",
    "#import pca\n",
    "#from sklearn.decomposition import PCA, RandomizedPCA\n",
    "\n",
    "imlist=[array(new).reshape(-1, 3), array(new).reshape(-1, 3),array(new).reshape(-1, 3),array(new).reshape(-1, 3)]\n",
    "im = imlist[0] # open one image to get size\n",
    "m,n = im.shape[0:2] # get the size of the images\n",
    "imnbr = len(imlist) # get the number of images\n",
    "\n",
    "# create matrix to store all flattened images\n",
    "#immatrix = array([array(Image.open(im)).flatten()\n",
    "              #for j in imlist],'f')\n",
    "\n",
    "# create matrix to store all flattened images\n",
    "immatrix = array([imlist[i].flatten()\n",
    "              for i in range(len(imlist))],'f')\n",
    "\n",
    "\n",
    "\n",
    "\n",
    "# perform PCA\n",
    "\n",
    "from PIL import Image\n",
    "from numpy import *\n",
    "\n",
    "def pca2(X):\n",
    "  \"\"\"  Principal Component Analysis\n",
    "    input: X, matrix with training data stored as flattened arrays in rows\n",
    "    return: projection matrix (with important dimensions first), variance\n",
    "    and mean.\"\"\"\n",
    "\n",
    "  # get dimensions\n",
    "  num_data,dim = X.shape\n",
    "\n",
    "  # center data\n",
    "  mean_X = X.mean(axis=0)\n",
    "  #X = X - mean_X\n",
    "\n",
    "  if dim>num_data:\n",
    "    # PCA - compact trick used\n",
    "    M = dot(X,X.T) # covariance matrix\n",
    "    e,EV = linalg.eigh(M) # eigenvalues and eigenvectors\n",
    "    tmp = dot(X.T,EV).T # this is the compact trick\n",
    "    V = tmp[::-1] # reverse since last eigenvectors are the ones we want\n",
    "    S = sqrt(e)[::-1] # reverse since eigenvalues are in increasing order\n",
    "    for i in range(V.shape[1]):\n",
    "      V[:,i] /= S\n",
    "  else:\n",
    "    # PCA - SVD used\n",
    "    U,S,V = linalg.svd(X)\n",
    "    V = V[:num_data] # only makes sense to return the first num_data\n",
    "\n",
    "  # return the projection matrix, the variance and the mean\n",
    "  return V,S,mean_X\n",
    "\n",
    "\n",
    "\n",
    "V,S,immean = pca2(immatrix)\n",
    "\n",
    "# show some images (mean and 7 first modes)\n",
    "figure()\n",
    "gray()\n",
    "subplot(1,2,1)\n",
    "#imshow(immean.reshape(m,n))\n",
    "for i in range(1):\n",
    "  subplot(1,2,i+2)\n",
    "  imshow(V[i].reshape(m,n))\n",
    "    \n",
    "    #im3 = Image.fromarray(im.flatten().reshape(100,100,3))\n",
    "    \n",
    "    #im3 = Image.fromarray(im.flatten().reshape(100,100,3))\n",
    "    \n",
    "show()"
   ]
  },
  {
   "cell_type": "code",
   "execution_count": 322,
   "metadata": {
    "collapsed": false
   },
   "outputs": [
    {
     "data": {
      "text/plain": [
       "(100, 100, 3)"
      ]
     },
     "execution_count": 322,
     "metadata": {},
     "output_type": "execute_result"
    }
   ],
   "source": [
    "im = array(new)\n",
    "im.shape"
   ]
  },
  {
   "cell_type": "code",
   "execution_count": 255,
   "metadata": {
    "collapsed": false
   },
   "outputs": [
    {
     "data": {
      "text/plain": [
       "2"
      ]
     },
     "execution_count": 255,
     "metadata": {},
     "output_type": "execute_result"
    }
   ],
   "source": [
    "immatrix\n",
    "imlist=[new, new]\n",
    "len(imlist)"
   ]
  },
  {
   "cell_type": "code",
   "execution_count": 329,
   "metadata": {
    "collapsed": false
   },
   "outputs": [
    {
     "data": {
      "text/plain": [
       "2"
      ]
     },
     "execution_count": 329,
     "metadata": {},
     "output_type": "execute_result"
    }
   ],
   "source": [
    "imlist=[array(new).reshape(-1, 3), array(new).reshape(-1, 3)]\n",
    "len(imlist)"
   ]
  },
  {
   "cell_type": "code",
   "execution_count": 331,
   "metadata": {
    "collapsed": false
   },
   "outputs": [],
   "source": [
    "#im.reshape(-1, 3).shape\n",
    "\n",
    "imlist=[array(new).reshape(-1, 3), array(new).reshape(-1, 3)]\n",
    "im = imlist[0] # open one image to get size\n",
    "m,n = im.shape[0:2] # get the size of the images\n",
    "imnbr = len(imlist) # get the number of images\n",
    "\n",
    "# create matrix to store all flattened images\n",
    "#immatrix = array([array(Image.open(im)).flatten()\n",
    "              #for j in imlist],'f')\n",
    "\n",
    "# create matrix to store all flattened images\n",
    "immatrix = array([imlist[i].flatten()\n",
    "              for i in range(len(imlist))],'f')\n",
    "\n"
   ]
  },
  {
   "cell_type": "code",
   "execution_count": 277,
   "metadata": {
    "collapsed": false
   },
   "outputs": [
    {
     "data": {
      "text/plain": [
       "<matplotlib.image.AxesImage at 0x113e72050>"
      ]
     },
     "execution_count": 277,
     "metadata": {},
     "output_type": "execute_result"
    },
    {
     "data": {
      "image/png": "[encoded data removed]",
      "text/plain": [
       "<matplotlib.figure.Figure at 0x10fbd7b50>"
      ]
     },
     "metadata": {},
     "output_type": "display_data"
    }
   ],
   "source": [
    "imshow(immean.reshape(m,n,r))"
   ]
  },
  {
   "cell_type": "code",
   "execution_count": 308,
   "metadata": {
    "collapsed": false
   },
   "outputs": [
    {
     "data": {
      "text/plain": [
       "(30000,)"
      ]
     },
     "execution_count": 308,
     "metadata": {},
     "output_type": "execute_result"
    }
   ],
   "source": [
    "immatrix.mean(axis=0).shape"
   ]
  },
  {
   "cell_type": "code",
   "execution_count": 280,
   "metadata": {
    "collapsed": false
   },
   "outputs": [
    {
     "name": "stderr",
     "output_type": "stream",
     "text": [
      "/Users/cesarosorio/anaconda/envs/py27/lib/python2.7/site-packages/ipykernel/__main__.py:43: RuntimeWarning: invalid value encountered in divide\n"
     ]
    },
    {
     "data": {
      "text/plain": [
       "(30000,)"
      ]
     },
     "execution_count": 280,
     "metadata": {},
     "output_type": "execute_result"
    }
   ],
   "source": [
    "pca2(immatrix)[2]"
   ]
  },
  {
   "cell_type": "code",
   "execution_count": 284,
   "metadata": {
    "collapsed": false
   },
   "outputs": [
    {
     "data": {
      "text/plain": [
       "(100, 100, 3)"
      ]
     },
     "execution_count": 284,
     "metadata": {},
     "output_type": "execute_result"
    }
   ],
   "source": [
    "V[1].reshape(m,n,r).shape"
   ]
  },
  {
   "cell_type": "code",
   "execution_count": 332,
   "metadata": {
    "collapsed": false
   },
   "outputs": [
    {
     "data": {
      "text/plain": [
       "(2, 30000)"
      ]
     },
     "execution_count": 332,
     "metadata": {},
     "output_type": "execute_result"
    }
   ],
   "source": [
    "immatrix.shape"
   ]
  },
  {
   "cell_type": "code",
   "execution_count": 343,
   "metadata": {
    "collapsed": false
   },
   "outputs": [
    {
     "data": {
      "text/plain": [
       "(2, 30000)"
      ]
     },
     "execution_count": 343,
     "metadata": {},
     "output_type": "execute_result"
    }
   ],
   "source": [
    "V.shape"
   ]
  },
  {
   "cell_type": "code",
   "execution_count": 349,
   "metadata": {
    "collapsed": false
   },
   "outputs": [
    {
     "data": {
      "text/plain": [
       "array([  92.71868896,   97.71647644,  107.8917923 , ...,  120.62600708,\n",
       "        113.31496429,  105.59957123], dtype=float32)"
      ]
     },
     "execution_count": 349,
     "metadata": {},
     "output_type": "execute_result"
    }
   ],
   "source": [
    "mean_X = X.mean(axis=0)\n",
    "mean_X"
   ]
  },
  {
   "cell_type": "code",
   "execution_count": 340,
   "metadata": {
    "collapsed": false
   },
   "outputs": [
    {
     "data": {
      "text/plain": [
       "array([[ 144.,  178.,  205., ...,   19.,   20.,   22.],\n",
       "       [ 144.,  178.,  205., ...,   19.,   20.,   22.]], dtype=float32)"
      ]
     },
     "execution_count": 340,
     "metadata": {},
     "output_type": "execute_result"
    }
   ],
   "source": [
    "immatrix"
   ]
  },
  {
   "cell_type": "code",
   "execution_count": 351,
   "metadata": {
    "collapsed": false
   },
   "outputs": [
    {
     "data": {
      "text/plain": [
       "array([ 34740.4765625,      0.       ], dtype=float32)"
      ]
     },
     "execution_count": 351,
     "metadata": {},
     "output_type": "execute_result"
    }
   ],
   "source": [
    "S"
   ]
  },
  {
   "cell_type": "code",
   "execution_count": 360,
   "metadata": {
    "collapsed": false
   },
   "outputs": [
    {
     "data": {
      "text/plain": [
       "(array([  0.00000000e+00,   1.20690061e+09], dtype=float32),\n",
       " array([[-0.70710677,  0.70710677],\n",
       "        [ 0.70710677,  0.70710677]], dtype=float32))"
      ]
     },
     "execution_count": 360,
     "metadata": {},
     "output_type": "execute_result"
    }
   ],
   "source": [
    "X=immatrix\n",
    "M = dot(X,X.T)\n",
    "linalg.eigh(M)"
   ]
  },
  {
   "cell_type": "code",
   "execution_count": 361,
   "metadata": {
    "collapsed": false
   },
   "outputs": [
    {
     "data": {
      "text/plain": [
       "(2, 30000)"
      ]
     },
     "execution_count": 361,
     "metadata": {},
     "output_type": "execute_result"
    }
   ],
   "source": [
    "X.shape"
   ]
  },
  {
   "cell_type": "code",
   "execution_count": null,
   "metadata": {
    "collapsed": true
   },
   "outputs": [],
   "source": []
  }
 ],
 "metadata": {
  "kernelspec": {
   "display_name": "Python 2",
   "language": "python",
   "name": "python2"
  },
  "language_info": {
   "codemirror_mode": {
    "name": "ipython",
    "version": 2
   },
   "file_extension": ".py",
   "mimetype": "text/x-python",
   "name": "python",
   "nbconvert_exporter": "python",
   "pygments_lexer": "ipython2",
   "version": "2.7.11"
  }
 },
 "nbformat": 4,
 "nbformat_minor": 0
}
