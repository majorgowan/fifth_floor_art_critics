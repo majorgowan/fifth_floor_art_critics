{
 "metadata": {
  "name": "",
  "signature": "sha256:d92ee2d373dd2292e968fb79dcec621e76b30db372968c30d96187d576b4cefc"
 },
 "nbformat": 3,
 "nbformat_minor": 0,
 "worksheets": [
  {
   "cells": [
    {
     "cell_type": "code",
     "collapsed": false,
     "input": [
      "cd ../Python/"
     ],
     "language": "python",
     "metadata": {},
     "outputs": [
      {
       "output_type": "stream",
       "stream": "stdout",
       "text": [
        "/home/mfruman/DataSci/Kaggle/PBN/Python\n"
       ]
      }
     ],
     "prompt_number": 1
    },
    {
     "cell_type": "code",
     "collapsed": false,
     "input": [
      "import readPBNData.description as rd\n",
      "import readPBNData.images as ri"
     ],
     "language": "python",
     "metadata": {},
     "outputs": [],
     "prompt_number": 2
    },
    {
     "cell_type": "raw",
     "metadata": {},
     "source": []
    },
    {
     "cell_type": "code",
     "collapsed": false,
     "input": [
      "csvs, fileLike = rd.openZip('../Data/train_info.csv.zip')\n",
      "lines, head = rd.readCSV(fileLike[0])"
     ],
     "language": "python",
     "metadata": {},
     "outputs": [],
     "prompt_number": 3
    },
    {
     "cell_type": "code",
     "collapsed": false,
     "input": [
      "print(head)\n",
      "lines[:2]"
     ],
     "language": "python",
     "metadata": {},
     "outputs": [
      {
       "output_type": "stream",
       "stream": "stdout",
       "text": [
        "['filename', 'artist', 'title', 'style', 'genre', 'date']\n"
       ]
      },
      {
       "metadata": {},
       "output_type": "pyout",
       "prompt_number": 7,
       "text": [
        "[['102257.jpg',\n",
        "  '5b39c876740bfc1cfaf544721c43cac3',\n",
        "  'Uriel',\n",
        "  'Color Field Painting',\n",
        "  'abstract',\n",
        "  '1955.0'],\n",
        " ['75232.jpg',\n",
        "  '5b39c876740bfc1cfaf544721c43cac3',\n",
        "  'Vir Heroicus Sublimis',\n",
        "  'Color Field Painting',\n",
        "  'abstract',\n",
        "  '1950.0']]"
       ]
      }
     ],
     "prompt_number": 7
    },
    {
     "cell_type": "code",
     "collapsed": true,
     "input": [
      "cols = rd.columns(lines,head)\n",
      "cols.keys()"
     ],
     "language": "python",
     "metadata": {},
     "outputs": [
      {
       "metadata": {},
       "output_type": "pyout",
       "prompt_number": 11,
       "text": [
        "['style', 'title', 'artist', 'filename', 'date', 'genre']"
       ]
      }
     ],
     "prompt_number": 11
    },
    {
     "cell_type": "code",
     "collapsed": false,
     "input": [
      "cols['artist'][:10]"
     ],
     "language": "python",
     "metadata": {},
     "outputs": [
      {
       "metadata": {},
       "output_type": "pyout",
       "prompt_number": 9,
       "text": [
        "['5b39c876740bfc1cfaf544721c43cac3',\n",
        " '5b39c876740bfc1cfaf544721c43cac3',\n",
        " '96e5bc98488ed589b9bf17ad9fd09371',\n",
        " '5b39c876740bfc1cfaf544721c43cac3',\n",
        " '5b39c876740bfc1cfaf544721c43cac3',\n",
        " '782192dc825c7c1149825adcb7caacbc',\n",
        " 'afdfc43410410892bc9d1c4d3c3d6220',\n",
        " '9f0984ce62483f294fc666d74e0974f6',\n",
        " '3a40b18a78ceb822961393c50bdb522b',\n",
        " 'd09f796f2b0aa11dffc88badd9806119']"
       ]
      }
     ],
     "prompt_number": 9
    },
    {
     "cell_type": "code",
     "collapsed": false,
     "input": [
      "cols['title'][:10]"
     ],
     "language": "python",
     "metadata": {},
     "outputs": [
      {
       "metadata": {},
       "output_type": "pyout",
       "prompt_number": 10,
       "text": [
        "['Uriel',\n",
        " 'Vir Heroicus Sublimis',\n",
        " 'Night March of a Hundred Demons (left half)',\n",
        " 'Who\\xe2\\x80\\x99s Afraid of Red,  Yellow and Blue II',\n",
        " 'Black Fire I ',\n",
        " 'Camellia and Bush Warbler',\n",
        " 'Forbidden Land ',\n",
        " 'Descent from the cross',\n",
        " 'Snowy landscape with a woman brandishing a broom and a man holding an umbrella',\n",
        " 'Storm at sea']"
       ]
      }
     ],
     "prompt_number": 10
    },
    {
     "cell_type": "code",
     "collapsed": false,
     "input": [
      "img = ri.openZipImage('../Data/train_1.zip',cols['filename'][932],prefix='train_1')"
     ],
     "language": "python",
     "metadata": {},
     "outputs": [],
     "prompt_number": 12
    },
    {
     "cell_type": "code",
     "collapsed": false,
     "input": [
      "#img.show()"
     ],
     "language": "python",
     "metadata": {},
     "outputs": [],
     "prompt_number": 14
    },
    {
     "cell_type": "code",
     "collapsed": false,
     "input": [],
     "language": "python",
     "metadata": {},
     "outputs": []
    }
   ],
   "metadata": {}
  }
 ]
}