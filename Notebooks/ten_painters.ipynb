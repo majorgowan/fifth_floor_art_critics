{
 "cells": [
  {
   "cell_type": "code",
   "execution_count": null,
   "metadata": {
    "collapsed": false
   },
   "outputs": [],
   "source": [
    "cd ../Python/"
   ]
  },
  {
   "cell_type": "code",
   "execution_count": null,
   "metadata": {
    "collapsed": false
   },
   "outputs": [],
   "source": [
    "import readPBNData.description as rd\n",
    "import readPBNData.images as ri\n",
    "import numpy as np"
   ]
  },
  {
   "cell_type": "code",
   "execution_count": null,
   "metadata": {
    "collapsed": false
   },
   "outputs": [],
   "source": [
    "csvs, fileLike = rd.openZip('../Data/train_info.csv.zip')\n",
    "lines, head = rd.readCSV(fileLike[0])"
   ]
  },
  {
   "cell_type": "code",
   "execution_count": null,
   "metadata": {
    "collapsed": false
   },
   "outputs": [],
   "source": [
    "cols = rd.columns(lines,head)\n",
    "cols.keys()"
   ]
  },
  {
   "cell_type": "code",
   "execution_count": null,
   "metadata": {
    "collapsed": false
   },
   "outputs": [],
   "source": [
    "# find 10 artists with most paintings in data set\n",
    "artistTable = rd.table(cols['artist'])\n",
    "artistTable[:5]"
   ]
  },
  {
   "cell_type": "code",
   "execution_count": null,
   "metadata": {
    "collapsed": false
   },
   "outputs": [],
   "source": [
    "# images in train_1.zip and train_2.zip file\n",
    "train_1_names = rd.imagesInZip('../Data/train_1.zip')\n",
    "train_2_names = rd.imagesInZip('../Data/train_2.zip')"
   ]
  },
  {
   "cell_type": "code",
   "execution_count": null,
   "metadata": {
    "collapsed": false
   },
   "outputs": [],
   "source": [
    "# show (full) image\n",
    "def showImage(imgName):\n",
    "    if (imgName in train_1_names):\n",
    "        ri.openZipImage('../Data/train_1.zip', \\\n",
    "                        imgName, \\\n",
    "                        prefix='train_1' \\\n",
    "                       ).show()\n",
    "    else:\n",
    "        ri.openZipImage('../Data/train_2.zip', \\\n",
    "                        imgName, \\\n",
    "                        prefix='train_2' \\\n",
    "                       ).show()"
   ]
  },
  {
   "cell_type": "code",
   "execution_count": null,
   "metadata": {
    "collapsed": false
   },
   "outputs": [],
   "source": [
    "# number of paintings by artist in train_1 and train_2\n",
    "# distinct artists (slowish)\n",
    "distinctArtists = [a[0] for a in artistTable]\n",
    "paintingsIn12 = []\n",
    "for artist in distinctArtists:\n",
    "    paintingsIn12.append(len(rd.sameArtist(artist, cols, imageList=train_1_names))\n",
    "                        +len(rd.sameArtist(artist, cols, imageList=train_2_names)))\n",
    "artistTable12 = sorted(zip(distinctArtists, paintingsIn12), \n",
    "                       key=lambda item: item[1], reverse=True)\n",
    "artistTable12[:10]"
   ]
  },
  {
   "cell_type": "code",
   "execution_count": null,
   "metadata": {
    "collapsed": false
   },
   "outputs": [],
   "source": [
    "# lists of paintings by the 10 most prolific artists in train_1 and train_2 \n",
    "leaders = [a[0] for a in artistTable12[:10]]\n",
    "portfolios1 = []\n",
    "portfolios2 = []\n",
    "for artist in leaders:\n",
    "    portfolios1.append(rd.sameArtist(artist, cols, imageList=train_1_names))\n",
    "    portfolios2.append(rd.sameArtist(artist, cols, imageList=train_2_names))\n",
    "portfolios = zip(leaders,portfolios1,portfolios2)"
   ]
  },
  {
   "cell_type": "code",
   "execution_count": null,
   "metadata": {
    "collapsed": false
   },
   "outputs": [],
   "source": [
    "# create miniatures of the paintings by most prolific artists and save them to disk\n",
    "miniportfolios = []\n",
    "for portfolio in portfolios:\n",
    "    minifiles_1 = ri.miniatures('../Data/train_1.zip', \\\n",
    "                                portfolio[1],prefix='train_1',size=(100,100))\n",
    "    minifiles_2 = ri.miniatures('../Data/train_2.zip', \\\n",
    "                                portfolio[2],prefix='train_2',size=(100,100))\n",
    "    miniportfolios.append((portfolio[0],minifiles_1,minifiles_2))"
   ]
  },
  {
   "cell_type": "code",
   "execution_count": null,
   "metadata": {
    "collapsed": false
   },
   "outputs": [],
   "source": [
    "# create cutouts of the paintings by most prolific artists and save them to disk\n",
    "cutoutportfolios = []\n",
    "for portfolio in portfolios:\n",
    "    cutoutfiles_1 = ri.cutouts('../Data/train_1.zip', \\\n",
    "                               portfolio[1],prefix='train_1',size=(100,100))\n",
    "    cutoutfiles_2 = ri.cutouts('../Data/train_2.zip', \\\n",
    "                               portfolio[2],prefix='train_2',size=(100,100))\n",
    "    cutoutportfolios.append((portfolio[0],cutoutfiles_1,cutoutfiles_2))"
   ]
  },
  {
   "cell_type": "code",
   "execution_count": null,
   "metadata": {
    "collapsed": false
   },
   "outputs": [],
   "source": [
    "# prepare 1000 pairs of paintings by same artist \n",
    "# and 1000 pairs by different artists\n",
    "import random\n",
    "npairs = 1000\n",
    "randomSeed = 666\n",
    "random.seed(randomSeed)\n",
    "portfolios_uni = [(artist, p1 + p2) for (artist,p1,p2) in portfolios]\n",
    "pairs = []\n",
    "for isample in xrange(npairs):\n",
    "    # randomly choose an artist\n",
    "    portfolio = random.choice(portfolios_uni)\n",
    "    # randomly choose two paintings\n",
    "    paintings = random.sample(portfolio[1],2)\n",
    "    pairs.append([paintings[0],paintings[1],1])\n",
    "for isample in xrange(npairs):\n",
    "    # randomly choose two artists\n",
    "    portfoliopair = random.sample(portfolios_uni,2)\n",
    "    # randomly choose a painting from each artist\n",
    "    paintings = random.choice(portfoliopair[0][1]), random.choice(portfoliopair[1][1])\n",
    "    pairs.append([paintings[0],paintings[1],0])"
   ]
  },
  {
   "cell_type": "code",
   "execution_count": null,
   "metadata": {
    "collapsed": false
   },
   "outputs": [],
   "source": [
    "pairs[:8]"
   ]
  },
  {
   "cell_type": "code",
   "execution_count": null,
   "metadata": {
    "collapsed": false
   },
   "outputs": [],
   "source": [
    "# load all miniatures and simplify colour palette to 16-colour CGA\n",
    "# save filenames and pixel-counts by colour in two lists\n",
    "import PBNFeatures.paletteTools as pt\n",
    "import os.path\n",
    "from PIL import Image\n",
    "featureDir='../Data/FeatureData/'\n",
    "nc = 16\n",
    "palette = pt.CGApalette(ncolours=nc)\n",
    "data = []\n",
    "names = []\n",
    "for portfolio in portfolios_uni:\n",
    "    for painting in portfolio[1]:\n",
    "        names.append(painting)\n",
    "        mininame = os.path.splitext(painting)[0] + '_mini_100_x_100.jpg'\n",
    "        mini = Image.open(featureDir + mininame)\n",
    "        minip = pt.paletteConvert(mini,palette)\n",
    "        colours = pt.completeColours(minip.getcolors(),nc)[:nc]\n",
    "        data.append([c[0] for c in colours])\n"
   ]
  },
  {
   "cell_type": "code",
   "execution_count": null,
   "metadata": {
    "collapsed": false
   },
   "outputs": [],
   "source": [
    "# load a single pair of miniatures\n",
    "def loadPair(pair, mc = 'mini'):\n",
    "    import os.path\n",
    "    import PIL.Image as Image\n",
    "    featureDir = '../Data/FeatureData/'\n",
    "    name0 = os.path.splitext(pair[0])[0] + '_' + mc + '_100_x_100.jpg'\n",
    "    mini0 = Image.open(featureDir + name0)\n",
    "    name1 = os.path.splitext(pair[1])[0]+'_' + mc + '_100_x_100.jpg'\n",
    "    mini1 = Image.open(featureDir + name1)\n",
    "    return mini0, mini1"
   ]
  },
  {
   "cell_type": "code",
   "execution_count": null,
   "metadata": {
    "collapsed": false,
    "scrolled": true
   },
   "outputs": [],
   "source": [
    "mini1, mini2 = loadPair(pairs[999])\n",
    "mini1"
   ]
  },
  {
   "cell_type": "code",
   "execution_count": null,
   "metadata": {
    "collapsed": false
   },
   "outputs": [],
   "source": [
    "mini2"
   ]
  },
  {
   "cell_type": "code",
   "execution_count": null,
   "metadata": {
    "collapsed": false,
    "scrolled": false
   },
   "outputs": [],
   "source": [
    "# compare colour distribution in simplified palette between\n",
    "# members of the pair\n",
    "%matplotlib inline\n",
    "import matplotlib.pyplot as plt\n",
    "palette = pt.CGApalette(ncolours=16)\n",
    "mini1p = pt.paletteConvert(mini1,palette)\n",
    "mini2p = pt.paletteConvert(mini2,palette)\n",
    "pt.plotColourDistribution(mini1p.getcolors(),pt.unflatten(palette))\n",
    "pt.plotColourDistribution(mini2p.getcolors(),pt.unflatten(palette))\n",
    "plt.show()"
   ]
  },
  {
   "cell_type": "code",
   "execution_count": null,
   "metadata": {
    "collapsed": false
   },
   "outputs": [],
   "source": [
    "# for all pairs in \"pairs\", compute distances in colour space\n",
    "import math\n",
    "distance = []\n",
    "for pair in pairs:\n",
    "    inds = names.index(pair[0]), names.index(pair[1])\n",
    "    distance.append(sum((x1-data[inds[1]][i])**2 for i,x1 in enumerate(data[inds[0]])))\n",
    "print('mean distance for sames, diffs:')\n",
    "print(np.mean(distance[:npairs]), np.mean(distance[-npairs:]))\n",
    "print('\\n')\n",
    "\n",
    "# plot Euclidean distance in pixel-count space for\n",
    "# pairs that are by same artist (blue) and\n",
    "# pairs that are by different artists (red)\n",
    "# (not very exciting!)\n",
    "import matplotlib.pyplot as plt\n",
    "fig = plt.figure()\n",
    "ax = plt.axes()\n",
    "plt.plot(range(npairs),distance[:npairs],linestyle='none',color='blue',marker='.')\n",
    "plt.plot(range(npairs,2*npairs),distance[-npairs:],linestyle='none',color='red',marker='.')\n",
    "plt.title('Distance in 16-colour pixel-count space\\n' \\\n",
    "        +'same painter (blue), different painter (red)')\n",
    "plt.xlabel('pair number')\n",
    "plt.show()"
   ]
  },
  {
   "cell_type": "code",
   "execution_count": null,
   "metadata": {
    "collapsed": false
   },
   "outputs": [],
   "source": [
    "# repeat with a different norm ... (but which?)\n",
    "# what about just rank difference by colour\n",
    "distance2 = []\n",
    "ncol = len(data[0])\n",
    "for pair in pairs:\n",
    "    inds = names.index(pair[0]), names.index(pair[1])\n",
    "    ranks1 = [aa[1] for aa in sorted(zip(data[inds[0]],range(ncol)))]\n",
    "    ranks2 = [aa[1] for aa in sorted(zip(data[inds[1]],range(ncol)))]\n",
    "    distance2.append(sum((r - ranks2[i])**2 for i,r in enumerate(ranks1)))\n",
    "print('mean distance for sames, diffs:')\n",
    "print(np.mean(distance2[:npairs]), np.mean(distance2[-npairs:]))\n",
    "print('\\n')\n",
    "\n",
    "# plot rank distance in pixel-count space for\n",
    "# pairs that are by same artist (blue) and\n",
    "# pairs that are by different artists (red)\n",
    "# (not exciting at all!!)\n",
    "import matplotlib.pyplot as plt\n",
    "fig = plt.figure()\n",
    "ax = plt.axes()\n",
    "plt.plot(range(npairs),distance2[:npairs],linestyle='none',color='blue',marker='.')\n",
    "plt.plot(range(npairs,2*npairs),distance2[-npairs:],linestyle='none',color='red',marker='.')\n",
    "plt.title('Distance in 16-colour pixel-count \\\"rank\\\" space\\n' \\\n",
    "        +'same painter (blue), different painter (red)')\n",
    "plt.xlabel('pair number')\n",
    "plt.show()"
   ]
  },
  {
   "cell_type": "code",
   "execution_count": null,
   "metadata": {
    "collapsed": false
   },
   "outputs": [],
   "source": [
    "# repeat with yet another different norm ... (but which?)\n",
    "# what about on/off switch if colour is more than 5%\n",
    "distance3 = []\n",
    "ncol = len(data[0])\n",
    "thresh = 0.05*sum(data[0])\n",
    "for pair in pairs:\n",
    "    inds = names.index(pair[0]), names.index(pair[1])\n",
    "    onoff1 = [int(x>thresh) for x in data[inds[0]]]\n",
    "    onoff2 = [int(x>thresh) for x in data[inds[1]]]\n",
    "    distance3.append(sum((r - onoff2[i])**2 for i,r in enumerate(onoff1)))\n",
    "print('mean distance for sames, diffs:')\n",
    "print(np.mean(distance3[:npairs]), np.mean(distance3[-npairs:]))\n",
    "print('\\n')\n",
    "\n",
    "# plot distance in threshold space for\n",
    "# pairs that are by same artist (blue) and\n",
    "# pairs that are by different artists (red)\n",
    "# (slightly more exciting :-())\n",
    "import matplotlib.pyplot as plt\n",
    "fig = plt.figure()\n",
    "ax = plt.axes()\n",
    "plt.plot(range(npairs),distance3[:npairs],linestyle='none',color='blue',marker='.')\n",
    "plt.plot(range(npairs,2*npairs),distance3[-npairs:],linestyle='none',color='red',marker='.')\n",
    "plt.title('Distance in 16-colour pixel-count number-of-colours space\\n' \\\n",
    "        +'same painter (blue), different painter (red)')\n",
    "plt.xlabel('pair number')\n",
    "plt.show()"
   ]
  },
  {
   "cell_type": "code",
   "execution_count": null,
   "metadata": {
    "collapsed": false
   },
   "outputs": [],
   "source": [
    "# repeat with yet another different norm ... (but which?)\n",
    "# what about on/off switch if colour is more than 5%\n",
    "# but this time count only common colours\n",
    "distance4 = []\n",
    "ncol = len(data[0])\n",
    "thresh = 0.05*sum(data[0])\n",
    "for pair in pairs:\n",
    "    inds = names.index(pair[0]), names.index(pair[1])\n",
    "    onoff1 = [int(x>thresh) for x in data[inds[0]]]\n",
    "    onoff2 = [int(x>thresh) for x in data[inds[1]]]\n",
    "    distance4.append(sum(int(r+onoff2[i]==2) for i,r in enumerate(onoff1)))\n",
    "print('mean distance for sames, diffs:')\n",
    "print(np.mean(distance4[:npairs]), np.mean(distance4[-npairs:]))\n",
    "print('\\n')\n",
    "\n",
    "# plot distance in threshold space for\n",
    "# pairs that are by same artist (blue) and\n",
    "# pairs that are by different artists (red)\n",
    "# (slightly more exciting :-())\n",
    "import matplotlib.pyplot as plt\n",
    "fig = plt.figure()\n",
    "ax = plt.axes()\n",
    "plt.plot(range(npairs),distance4[:npairs],linestyle='none',color='blue',marker='.')\n",
    "plt.plot(range(npairs,2*npairs),distance4[-npairs:],linestyle='none',color='red',marker='.')\n",
    "plt.title('Distance in number-of-colours-in-comon space\\n' \\\n",
    "        +'same painter (blue), different painter (red)')\n",
    "plt.xlabel('pair number')\n",
    "plt.show()"
   ]
  },
  {
   "cell_type": "code",
   "execution_count": null,
   "metadata": {
    "collapsed": false
   },
   "outputs": [],
   "source": [
    "# Was ist hier eigentlich los????\n",
    "# Let's look at a few particular pairs\n",
    "pairnum = 7\n",
    "inds = names.index(pairs[pairnum][0]), names.index(pairs[pairnum][1])\n",
    "\n",
    "# show (full) images\n",
    "showImage(pairs[pairnum][0])\n",
    "showImage(pairs[pairnum][1])\n",
    "\n",
    "# distance1\n",
    "print('Euclidean')\n",
    "print(zip(data[inds[0]],data[inds[1]]))\n",
    "print(distance[pairnum])\n",
    "\n",
    "# distance2\n",
    "print('\\nRank')\n",
    "ranks1 = [aa[1] for aa in sorted(zip(data[inds[0]],range(ncol)))]\n",
    "ranks2 = [aa[1] for aa in sorted(zip(data[inds[1]],range(ncol)))]\n",
    "print(zip(ranks1,ranks2))\n",
    "print(distance2[pairnum])\n",
    "\n",
    "\n",
    "# distance3\n",
    "print('\\nThreshold')\n",
    "onoff1 = [int(x>thresh) for x in data[inds[0]]]\n",
    "onoff2 = [int(x>thresh) for x in data[inds[1]]]\n",
    "print(zip(onoff1,onoff2))\n",
    "print(distance3[pairnum])\n",
    "\n",
    "# distance4\n",
    "print('\\nCommon Threshold')\n",
    "onoff1 = [int(x>thresh) for x in data[inds[0]]]\n",
    "onoff2 = [int(x>thresh) for x in data[inds[1]]]\n",
    "print(zip(onoff1,onoff2))\n",
    "print(distance4[pairnum])"
   ]
  },
  {
   "cell_type": "code",
   "execution_count": null,
   "metadata": {
    "collapsed": true
   },
   "outputs": [],
   "source": []
  },
  {
   "cell_type": "code",
   "execution_count": null,
   "metadata": {
    "collapsed": true
   },
   "outputs": [],
   "source": []
  },
  {
   "cell_type": "code",
   "execution_count": null,
   "metadata": {
    "collapsed": true
   },
   "outputs": [],
   "source": []
  },
  {
   "cell_type": "code",
   "execution_count": null,
   "metadata": {
    "collapsed": false,
    "scrolled": true
   },
   "outputs": [],
   "source": [
    "# maybe hue/saturation/value is more interesting!!!\n",
    "import PBNFeatures.cylindrical as cyl\n",
    "reload(cyl)\n",
    "\n",
    "pairnum=111\n",
    "\n",
    "# show (full) images\n",
    "showImage(pairs[pairnum][0])\n",
    "showImage(pairs[pairnum][1])\n",
    "\n",
    "# load miniatures\n",
    "mini1,mini2 = loadPair(pairs[pairnum],mc='mini')\n",
    "\n",
    "# compute hue/saturation/value statistics\n",
    "hsvstats1 = cyl.hsv_stats(cyl.jpg_to_hsv(mini1),hue_bins=8)\n",
    "hsvstats2 = cyl.hsv_stats(cyl.jpg_to_hsv(mini2),hue_bins=8)\n",
    "\n",
    "hsvstats1, hsvstats2"
   ]
  },
  {
   "cell_type": "code",
   "execution_count": null,
   "metadata": {
    "collapsed": false
   },
   "outputs": [],
   "source": [
    "# load all miniatures and compute saturation, value and hue\n",
    "# statistics for each (slow),\n",
    "# save filenames and pixel-counts by colour in two lists\n",
    "import PBNFeatures.cylindrical as cyl\n",
    "import os.path\n",
    "from PIL import Image\n",
    "featureDir='../Data/FeatureData/'\n",
    "hsvstats = []\n",
    "for portfolio in portfolios_uni:\n",
    "    for painting in portfolio[1]:\n",
    "        names.append(painting)\n",
    "        mininame = os.path.splitext(painting)[0] + '_mini_100_x_100.jpg'\n",
    "        mini = Image.open(featureDir + mininame)\n",
    "        hsvstats.append(cyl.hsv_stats(cyl.jpg_to_hsv(mini),hue_bins=8))"
   ]
  },
  {
   "cell_type": "code",
   "execution_count": null,
   "metadata": {
    "collapsed": false
   },
   "outputs": [],
   "source": [
    "hsvstats[0]['sat_mean'], hsvstats[0]['sat_std'], hsvstats[0]['hue_bins']\n"
   ]
  },
  {
   "cell_type": "code",
   "execution_count": null,
   "metadata": {
    "collapsed": false
   },
   "outputs": [],
   "source": [
    "# for all pairs in \"pairs\", compute difference in \n",
    "# saturation and value means and std and the\n",
    "# distance in dominant hue\n",
    "import math\n",
    "sat_mean_dist = []\n",
    "sat_std_dist = []\n",
    "val_mean_dist = []\n",
    "val_std_dist = []\n",
    "dom_hue_dist = []\n",
    "dom_hue_count_dist = []\n",
    "nbins = len(hsvstats[0]['hue_bins'])\n",
    "for pair in pairs:\n",
    "    inds = names.index(pair[0]), names.index(pair[1])\n",
    "    sat_mean_dist.append( \\\n",
    "                abs(hsvstats[inds[0]]['sat_mean'] - hsvstats[inds[1]]['sat_mean']))\n",
    "    sat_std_dist.append( \\\n",
    "                abs(hsvstats[inds[0]]['sat_std'] - hsvstats[inds[1]]['sat_std']))\n",
    "    val_mean_dist.append( \\\n",
    "                abs(hsvstats[inds[0]]['val_mean'] - hsvstats[inds[1]]['val_mean']))\n",
    "    val_std_dist.append( \\\n",
    "                abs(hsvstats[inds[0]]['val_std'] - hsvstats[inds[1]]['val_std']))\n",
    "    dom_hue_dist.append( \\\n",
    "                min( \\\n",
    "                    (hsvstats[inds[0]]['hue_bins'][0][0] - \\\n",
    "                     hsvstats[inds[1]]['hue_bins'][0][0]) % nbins, \\\n",
    "                    (hsvstats[inds[1]]['hue_bins'][0][0] - \\\n",
    "                     hsvstats[inds[0]]['hue_bins'][0][0]) % nbins) )\n",
    "    dom_hue_count_dist.append( \\\n",
    "                abs(hsvstats[inds[0]]['hue_bins'][0][1] - \\\n",
    "                    hsvstats[inds[1]]['hue_bins'][0][1]) )\n",
    "\n",
    "print('mean distances for sames, diffs:\\n')\n",
    "print('sat_mean:')\n",
    "print(np.mean(sat_mean_dist[:npairs]), np.mean(sat_mean_dist[-npairs:]))\n",
    "print('sat_std:')\n",
    "print(np.mean(sat_std_dist[:npairs]), np.mean(sat_std_dist[-npairs:]))\n",
    "print('val_mean:')\n",
    "print(np.mean(val_mean_dist[:npairs]), np.mean(val_mean_dist[-npairs:]))\n",
    "print('val_std:')\n",
    "print(np.mean(val_std_dist[:npairs]), np.mean(val_std_dist[-npairs:]))\n",
    "print('dom_hue:')\n",
    "print(np.mean(dom_hue_dist[:npairs]), np.mean(dom_hue_dist[-npairs:]))\n",
    "print('dom_hue_count:')\n",
    "print(np.mean(dom_hue_count_dist[:npairs]), np.mean(dom_hue_count_dist[-npairs:]))\n",
    "print('\\n')\n",
    "\n",
    "# plot Euclidean distance in hsv-stats space for\n",
    "# pairs that are by same artist (blue) and\n",
    "# pairs that are by different artists (red)\n",
    "# (still not very exciting!)\n",
    "import matplotlib.pyplot as plt\n",
    "fig = plt.figure()\n",
    "ax = plt.axes()\n",
    "plt.plot(range(npairs),sat_mean_dist[:npairs],linestyle='none',color='blue',marker='.')\n",
    "plt.plot(range(npairs,2*npairs),sat_mean_dist[-npairs:],linestyle='none',color='red',marker='.')\n",
    "plt.title('Difference in mean-saturation\\n' \\\n",
    "        +'same painter (blue), different painter (red)')\n",
    "plt.xlabel('pair number')\n",
    "plt.show()\n",
    "\n",
    "fig = plt.figure()\n",
    "ax = plt.axes()\n",
    "plt.plot(range(npairs),val_mean_dist[:npairs],linestyle='none',color='blue',marker='.')\n",
    "plt.plot(range(npairs,2*npairs),val_mean_dist[-npairs:],linestyle='none',color='red',marker='.')\n",
    "plt.title('Difference in mean-value (brightness)\\n' \\\n",
    "        +'same painter (blue), different painter (red)')\n",
    "plt.xlabel('pair number')\n",
    "plt.show()\n",
    "\n",
    "fig = plt.figure()\n",
    "ax = plt.axes()\n",
    "plt.plot(range(npairs),dom_hue_dist[:npairs],linestyle='none',color='blue',marker='.')\n",
    "plt.plot(range(npairs,2*npairs),dom_hue_dist[-npairs:],linestyle='none',color='red',marker='.')\n",
    "plt.title('Difference in dominant hue (1 of 8 bins)\\n' \\\n",
    "        +'same painter (blue), different painter (red)')\n",
    "plt.xlabel('pair number')\n",
    "plt.show()\n",
    "\n",
    "fig = plt.figure()\n",
    "ax = plt.axes()\n",
    "plt.plot(range(npairs),dom_hue_count_dist[:npairs],linestyle='none',color='blue',marker='.')\n",
    "plt.plot(range(npairs,2*npairs),dom_hue_count_dist[-npairs:],linestyle='none',color='red',marker='.')\n",
    "plt.title('Difference in pixels in the dominant hue (1 of 8 bins)\\n' \\\n",
    "        +'same painter (blue), different painter (red)')\n",
    "plt.xlabel('pair number')\n",
    "plt.show()"
   ]
  },
  {
   "cell_type": "code",
   "execution_count": null,
   "metadata": {
    "collapsed": false
   },
   "outputs": [],
   "source": [
    "(9-0)%10,(0-9)%10"
   ]
  },
  {
   "cell_type": "code",
   "execution_count": null,
   "metadata": {
    "collapsed": true
   },
   "outputs": [],
   "source": []
  },
  {
   "cell_type": "code",
   "execution_count": null,
   "metadata": {
    "collapsed": true
   },
   "outputs": [],
   "source": []
  },
  {
   "cell_type": "code",
   "execution_count": null,
   "metadata": {
    "collapsed": true
   },
   "outputs": [],
   "source": []
  },
  {
   "cell_type": "code",
   "execution_count": null,
   "metadata": {
    "collapsed": true
   },
   "outputs": [],
   "source": []
  },
  {
   "cell_type": "code",
   "execution_count": null,
   "metadata": {
    "collapsed": true
   },
   "outputs": [],
   "source": []
  },
  {
   "cell_type": "code",
   "execution_count": null,
   "metadata": {
    "collapsed": true
   },
   "outputs": [],
   "source": [
    "# compute PCA for 16-colour CGA colour distributions in miniatures\n",
    "%matplotlib inline\n",
    "import matplotlib.pyplot as plt\n",
    "import numpy as np\n",
    "import PBNFeatures.paletteTools as pt\n",
    "import PBNPCA.pca as pbnpca\n",
    "import os.path\n",
    "import PIL.Image as Image\n",
    "#import math\n",
    "palette = pt.CGApalette(ncolours=16)\n",
    "nc = len(palette)/3\n",
    "featureDir = '../Data/FeatureData/'"
   ]
  },
  {
   "cell_type": "code",
   "execution_count": null,
   "metadata": {
    "collapsed": false,
    "scrolled": true
   },
   "outputs": [],
   "source": [
    "# compute the PC of data\n",
    "reload(pbnpca)\n",
    "ncomp = 15\n",
    "pobj = pbnpca.pca(np.array(data),ncomp)\n",
    "\n",
    "# pc:\n",
    "pcs = []\n",
    "for col in xrange(ncomp-1,-1,-1):\n",
    "    # column to row\n",
    "    pc = [vec[col] for vec in pobj['eigvecs']]\n",
    "    # construct a \"colours\" list out of the pc (clumsy but should be okay)\n",
    "    pc = [(a,i) for i,a in enumerate(pc)]\n",
    "    pcs.append(pc)"
   ]
  },
  {
   "cell_type": "code",
   "execution_count": null,
   "metadata": {
    "collapsed": false
   },
   "outputs": [],
   "source": [
    "# plot leading eigenvectors (PC)\n",
    "pt.plotColourDistribution(pcs[0],pt.unflatten(palette))\n",
    "pt.plotColourDistribution(pcs[1],pt.unflatten(palette))\n",
    "pt.plotColourDistribution(pcs[2],pt.unflatten(palette))\n",
    "pt.plotColourDistribution(pcs[3],pt.unflatten(palette))\n",
    "pt.plotColourDistribution(pcs[4],pt.unflatten(palette))\n",
    "pt.plotColourDistribution(pcs[5],pt.unflatten(palette))\n",
    "plt.show()"
   ]
  },
  {
   "cell_type": "code",
   "execution_count": null,
   "metadata": {
    "collapsed": false
   },
   "outputs": [],
   "source": [
    "# project row onto leading PC\n",
    "pbnpca.pcaProject(data[750],pobj)[-8:]"
   ]
  },
  {
   "cell_type": "code",
   "execution_count": null,
   "metadata": {
    "collapsed": false
   },
   "outputs": [],
   "source": [
    "# compare full vector and projection onto first 8\n",
    "print(data[750])\n",
    "print('\\n')\n",
    "print(pbnpca.pcaTrunc(data[750],pobj,8))\n",
    "\n",
    "#np.zeros((len(data[0]),1))\n",
    "#np.array(pobj['meanvec']).reshape((len(data[0]),1))"
   ]
  },
  {
   "cell_type": "code",
   "execution_count": null,
   "metadata": {
    "collapsed": true
   },
   "outputs": [],
   "source": []
  },
  {
   "cell_type": "code",
   "execution_count": null,
   "metadata": {
    "collapsed": true
   },
   "outputs": [],
   "source": []
  },
  {
   "cell_type": "code",
   "execution_count": null,
   "metadata": {
    "collapsed": false
   },
   "outputs": [],
   "source": [
    "import random\n",
    "a = random.sample(range(100),10)\n",
    "order = [aa[1] for aa in sorted(zip(a,range(len(a))))]\n",
    "print(a)\n",
    "print(order)"
   ]
  },
  {
   "cell_type": "code",
   "execution_count": null,
   "metadata": {
    "collapsed": false
   },
   "outputs": [],
   "source": [
    "int(7<5)"
   ]
  },
  {
   "cell_type": "code",
   "execution_count": null,
   "metadata": {
    "collapsed": false
   },
   "outputs": [],
   "source": [
    "sum(data[0])"
   ]
  },
  {
   "cell_type": "code",
   "execution_count": null,
   "metadata": {
    "collapsed": true
   },
   "outputs": [],
   "source": []
  },
  {
   "cell_type": "code",
   "execution_count": null,
   "metadata": {
    "collapsed": true
   },
   "outputs": [],
   "source": []
  },
  {
   "cell_type": "code",
   "execution_count": null,
   "metadata": {
    "collapsed": true
   },
   "outputs": [],
   "source": []
  },
  {
   "cell_type": "code",
   "execution_count": null,
   "metadata": {
    "collapsed": true
   },
   "outputs": [],
   "source": []
  },
  {
   "cell_type": "code",
   "execution_count": null,
   "metadata": {
    "collapsed": true
   },
   "outputs": [],
   "source": []
  },
  {
   "cell_type": "code",
   "execution_count": null,
   "metadata": {
    "collapsed": true
   },
   "outputs": [],
   "source": []
  },
  {
   "cell_type": "code",
   "execution_count": null,
   "metadata": {
    "collapsed": true
   },
   "outputs": [],
   "source": []
  },
  {
   "cell_type": "code",
   "execution_count": null,
   "metadata": {
    "collapsed": true
   },
   "outputs": [],
   "source": [
    "# ideas for other features ...\n",
    "#    saturation, lightness\n",
    "#    texture, edges, dots\n",
    "#    size\n",
    "#    number of significant colours\n",
    "# neural network idea?  (Auto-encoder-decoder)\n",
    "# topic (=style) modelling"
   ]
  }
 ],
 "metadata": {
  "git": {
   "suppress_outputs": true
  },
  "kernelspec": {
   "display_name": "Python 2",
   "language": "python",
   "name": "python2"
  },
  "language_info": {
   "codemirror_mode": {
    "name": "ipython",
    "version": 2
   },
   "file_extension": ".py",
   "mimetype": "text/x-python",
   "name": "python",
   "nbconvert_exporter": "python",
   "pygments_lexer": "ipython2",
   "version": "2.7.9"
  }
 },
 "nbformat": 4,
 "nbformat_minor": 0
}