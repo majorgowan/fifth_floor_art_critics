{
 "cells": [
  {
   "cell_type": "code",
   "execution_count": null,
   "metadata": {
    "collapsed": false
   },
   "outputs": [],
   "source": [
    "cd ../Python/"
   ]
  },
  {
   "cell_type": "code",
   "execution_count": null,
   "metadata": {
    "collapsed": false
   },
   "outputs": [],
   "source": [
    "import readPBNData.description as rd\n",
    "import readPBNData.images as ri\n",
    "import PBNPCA.pca as pca"
   ]
  },
  {
   "cell_type": "code",
   "execution_count": null,
   "metadata": {
    "collapsed": false
   },
   "outputs": [],
   "source": [
    "# load a single pair of miniature and cutout\n",
    "import os.path\n",
    "import random\n",
    "import re\n",
    "random.seed(666)\n",
    "featureDir = '../Data/FeatureData/'\n",
    "fileList = os.listdir(featureDir)\n",
    "pickstem = random.choice(fileList).split('_')[0]\n",
    "cutout_name, mini_name = [hooray for hooray in sorted(fileList) if re.match(pickstem+'_',hooray)]\n",
    "cutout_name, mini_name"
   ]
  },
  {
   "cell_type": "code",
   "execution_count": null,
   "metadata": {
    "collapsed": false
   },
   "outputs": [],
   "source": [
    "# get image objects\n",
    "import PIL.Image as Image\n",
    "cutout = Image.open(featureDir + cutout_name)\n",
    "mini = Image.open(featureDir + mini_name)"
   ]
  },
  {
   "cell_type": "code",
   "execution_count": null,
   "metadata": {
    "collapsed": false
   },
   "outputs": [],
   "source": [
    "cutout"
   ]
  },
  {
   "cell_type": "code",
   "execution_count": null,
   "metadata": {
    "collapsed": false
   },
   "outputs": [],
   "source": [
    "mini"
   ]
  },
  {
   "cell_type": "code",
   "execution_count": null,
   "metadata": {
    "collapsed": false
   },
   "outputs": [],
   "source": [
    "# 2-color b/w\n",
    "mini.convert(mode='1')"
   ]
  },
  {
   "cell_type": "code",
   "execution_count": null,
   "metadata": {
    "collapsed": false
   },
   "outputs": [],
   "source": [
    "# grey-scale\n",
    "mini.convert(mode='L')"
   ]
  },
  {
   "cell_type": "code",
   "execution_count": null,
   "metadata": {
    "collapsed": false
   },
   "outputs": [],
   "source": [
    "# 16-colour palette (colours selected by ADAPTIVE algorithm)\n",
    "mini16 = mini.convert(mode='P', palette=Image.ADAPTIVE, colors=16)\n",
    "mini16"
   ]
  },
  {
   "cell_type": "code",
   "execution_count": null,
   "metadata": {
    "collapsed": false
   },
   "outputs": [],
   "source": [
    "# colours in mini16\n",
    "col16 = mini16.getcolors()\n",
    "# full palette (lots of zeros)\n",
    "pal16 = mini16.getpalette()\n",
    "# palette as RGB 3-tuples \n",
    "rgb16 = [tuple(pal16[a:a+3]) for a in xrange(0,len(col16))]"
   ]
  },
  {
   "cell_type": "code",
   "execution_count": null,
   "metadata": {
    "collapsed": false
   },
   "outputs": [],
   "source": [
    "# pixel count by colour\n",
    "\n",
    "%matplotlib inline\n",
    "import matplotlib.pyplot as plt\n",
    "# add trivial alpha channel and rescale to 0-1\n",
    "rgba16 = [((1.0*a/256,1.0*b/256,1.0*c/256)+(1.0,)) for (a,b,c) in rgb16]\n",
    "data = mini16.getcolors()\n",
    "pos = [a[1] for a in data]\n",
    "heights = [a[0] for a in data]\n",
    "plt.bar(pos, heights, width=0.8, color=rgba16)\n",
    "plt.show()"
   ]
  },
  {
   "cell_type": "code",
   "execution_count": null,
   "metadata": {
    "collapsed": false
   },
   "outputs": [],
   "source": [
    "# visualize palette\n",
    "\n",
    "def palette_to_image(palette):\n",
    "    from PIL import Image\n",
    "    imgsize = (480,50)\n",
    "    wid = imgsize[0]/len(palette)\n",
    "    pixels = []\n",
    "    for col in palette:\n",
    "        pixels += wid*[col]\n",
    "    pixels = imgsize[1]*pixels\n",
    "    img = Image.new(mode='RGB',size=imgsize)\n",
    "    img.putdata(pixels)\n",
    "    return img\n",
    "    #return pixels"
   ]
  },
  {
   "cell_type": "code",
   "execution_count": null,
   "metadata": {
    "collapsed": false
   },
   "outputs": [],
   "source": [
    "palette_to_image(rgb16)"
   ]
  },
  {
   "cell_type": "code",
   "execution_count": null,
   "metadata": {
    "collapsed": false
   },
   "outputs": [],
   "source": [
    "# retro 4-colour and 16-colour CGA palettes\n",
    "\n",
    "cga4_pal = ( 0, 0, 0,\n",
    "            255, 0, 0,\n",
    "            0, 255, 0,\n",
    "            255, 255, 0 )\n",
    "\n",
    "cga16_pal = ( 0, 0, 0,\n",
    "              0, 0, 170,\n",
    "              0, 170, 0,\n",
    "              0, 170, 170,\n",
    "              170, 0, 0,\n",
    "              170, 0, 170,\n",
    "              170, 85, 0,\n",
    "              170, 170, 170,\n",
    "              85, 85, 85,\n",
    "              85, 85, 255,\n",
    "              85, 255, 85,\n",
    "              85, 255, 255,\n",
    "              255, 85, 85,\n",
    "              255, 85, 255,\n",
    "              255, 255, 85,\n",
    "              255, 255, 255 )"
   ]
  },
  {
   "cell_type": "code",
   "execution_count": null,
   "metadata": {
    "collapsed": false
   },
   "outputs": [],
   "source": [
    "# CGA 16-colour\n",
    "palimage = Image.new(mode=\"P\", size=(1,1))\n",
    "palimage.putpalette(cga16_pal + (0,0,0)*240)\n",
    "mini_cga16 = mini.convert(\"RGB\").quantize(palette=palimage)\n",
    "mini_cga16"
   ]
  },
  {
   "cell_type": "code",
   "execution_count": null,
   "metadata": {
    "collapsed": false
   },
   "outputs": [],
   "source": [
    "cga_tuples = [cga16_pal[a:a+3] for a in range(0,len(cga16_pal),3)]\n",
    "palette_to_image(cga_tuples)"
   ]
  },
  {
   "cell_type": "code",
   "execution_count": null,
   "metadata": {
    "collapsed": false
   },
   "outputs": [],
   "source": [
    "# add trivial alpha channel and rescale to 0-1\n",
    "rgba16 = [((1.0*a/256,1.0*b/256,1.0*c/256)+(1.0,)) for (a,b,c) in cga_tuples]\n",
    "data = mini_cga16.getcolors()\n",
    "pos = [a[1] for a in data]\n",
    "heights = [a[0] for a in data]\n",
    "plt.bar(pos, heights, width=0.8, color=rgba16)\n",
    "plt.show()"
   ]
  },
  {
   "cell_type": "code",
   "execution_count": null,
   "metadata": {
    "collapsed": false
   },
   "outputs": [],
   "source": [
    "# CGA 4-colour\n",
    "palimage = Image.new(mode=\"P\", size=(1,1))\n",
    "palimage.putpalette(cga4_pal + (0,0,0)*252)\n",
    "mini_cga4 = mini.convert(\"RGB\").quantize(palette=palimage)\n",
    "mini_cga4"
   ]
  },
  {
   "cell_type": "code",
   "execution_count": null,
   "metadata": {
    "collapsed": false
   },
   "outputs": [],
   "source": [
    "cga_tuples = [cga4_pal[a:a+3] for a in range(0,len(cga4_pal),3)]\n",
    "palette_to_image(cga_tuples)"
   ]
  },
  {
   "cell_type": "code",
   "execution_count": null,
   "metadata": {
    "collapsed": false
   },
   "outputs": [],
   "source": [
    "# add trivial alpha channel and rescale to 0-1\n",
    "rgba4 = [((1.0*a/256,1.0*b/256,1.0*c/256)+(1.0,)) for (a,b,c) in cga_tuples]\n",
    "data = mini_cga4.getcolors()\n",
    "pos = [a[1] for a in data]\n",
    "heights = [a[0] for a in data]\n",
    "plt.bar(pos, heights, width=0.8, color=rgba4)\n",
    "plt.show()"
   ]
  },
  {
   "cell_type": "code",
   "execution_count": null,
   "metadata": {
    "collapsed": false
   },
   "outputs": [],
   "source": []
  },
  {
   "cell_type": "code",
   "execution_count": null,
   "metadata": {
    "collapsed": true
   },
   "outputs": [],
   "source": []
  }
 ],
 "metadata": {
  "git": {
   "suppress_outputs": true
  },
  "kernelspec": {
   "display_name": "Python 2",
   "language": "python",
   "name": "python2"
  },
  "language_info": {
   "codemirror_mode": {
    "name": "ipython",
    "version": 2
   },
   "file_extension": ".py",
   "mimetype": "text/x-python",
   "name": "python",
   "nbconvert_exporter": "python",
   "pygments_lexer": "ipython2",
   "version": "2.7.9"
  }
 },
 "nbformat": 4,
 "nbformat_minor": 0
}