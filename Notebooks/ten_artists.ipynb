{
 "cells": [
  {
   "cell_type": "code",
   "execution_count": null,
   "metadata": {
    "collapsed": false
   },
   "outputs": [],
   "source": [
    "cd ../Python/"
   ]
  },
  {
   "cell_type": "code",
   "execution_count": null,
   "metadata": {
    "collapsed": false
   },
   "outputs": [],
   "source": [
    "import readPBNData.description as rd\n",
    "import readPBNData.images as ri"
   ]
  },
  {
   "cell_type": "code",
   "execution_count": null,
   "metadata": {
    "collapsed": false
   },
   "outputs": [],
   "source": [
    "csvs, fileLike = rd.openZip('../Data/train_info.csv.zip')\n",
    "lines, head = rd.readCSV(fileLike[0])"
   ]
  },
  {
   "cell_type": "code",
   "execution_count": null,
   "metadata": {
    "collapsed": false
   },
   "outputs": [],
   "source": [
    "cols = rd.columns(lines,head)\n",
    "cols.keys()"
   ]
  },
  {
   "cell_type": "code",
   "execution_count": null,
   "metadata": {
    "collapsed": false
   },
   "outputs": [],
   "source": [
    "# find 10 artists with most paintings in data set\n",
    "artistTable = rd.table(cols['artist'])\n",
    "artistTable[:5]"
   ]
  },
  {
   "cell_type": "code",
   "execution_count": null,
   "metadata": {
    "collapsed": false
   },
   "outputs": [],
   "source": [
    "# images in train_1.zip and train_2.zip file\n",
    "train_1_names = rd.imagesInZip('../Data/train_1.zip')\n",
    "train_2_names = rd.imagesInZip('../Data/train_2.zip')"
   ]
  },
  {
   "cell_type": "code",
   "execution_count": null,
   "metadata": {
    "collapsed": false
   },
   "outputs": [],
   "source": [
    "# number of paintings by artist in train_1 and train_2\n",
    "# distinct artists (slowish)\n",
    "distinctArtists = [a[0] for a in artistTable]\n",
    "paintingsIn12 = []\n",
    "for artist in distinctArtists:\n",
    "    paintingsIn12.append(len(rd.sameArtist(artist, cols, imageList=train_1_names))\n",
    "                        +len(rd.sameArtist(artist, cols, imageList=train_2_names)))\n",
    "artistTable12 = sorted(zip(distinctArtists, paintingsIn12), \n",
    "                       key=lambda item: item[1], reverse=True)\n",
    "artistTable12[:10]"
   ]
  },
  {
   "cell_type": "code",
   "execution_count": null,
   "metadata": {
    "collapsed": false
   },
   "outputs": [],
   "source": [
    "# lists of paintings by the 10 \"leading\" artists in train_1 and train_2 \n",
    "leaders = [a[0] for a in artistTable12[:10]]\n",
    "portfolios1 = []\n",
    "portfolios2 = []\n",
    "for artist in leaders:\n",
    "    portfolios1.append(rd.sameArtist(artist, cols, imageList=train_1_names))\n",
    "    portfolios2.append(rd.sameArtist(artist, cols, imageList=train_2_names))\n",
    "portfolios = zip(leaders,portfolios1,portfolios2)"
   ]
  },
  {
   "cell_type": "code",
   "execution_count": null,
   "metadata": {
    "collapsed": false
   },
   "outputs": [],
   "source": [
    "# create miniatures of the paintings by leading artists and save them to disk\n",
    "miniportfolios = []\n",
    "for portfolio in portfolios:\n",
    "    minifiles_1 = ri.miniatures('../Data/train_1.zip', \\\n",
    "                                portfolio[1],prefix='train_1',size=(100,100))\n",
    "    minifiles_2 = ri.miniatures('../Data/train_2.zip', \\\n",
    "                                portfolio[2],prefix='train_2',size=(100,100))\n",
    "    miniportfolios.append((portfolio[0],minifiles_1,minifiles_2))"
   ]
  },
  {
   "cell_type": "code",
   "execution_count": null,
   "metadata": {
    "collapsed": false
   },
   "outputs": [],
   "source": [
    "# create cutouts of the paintings by leading artists and save them to disk\n",
    "cutoutportfolios = []\n",
    "for portfolio in portfolios:\n",
    "    cutoutfiles_1 = ri.cutouts('../Data/train_1.zip', \\\n",
    "                               portfolio[1],prefix='train_1',size=(100,100))\n",
    "    cutoutfiles_2 = ri.cutouts('../Data/train_2.zip', \\\n",
    "                               portfolio[2],prefix='train_2',size=(100,100))\n",
    "    cutoutportfolios.append((portfolio[0],cutoutfiles_1,cutoutfiles_2))"
   ]
  },
  {
   "cell_type": "code",
   "execution_count": null,
   "metadata": {
    "collapsed": false
   },
   "outputs": [],
   "source": [
    "# prepare 1000 pairs of paintings by same artist \n",
    "# and 1000 pairs by different artists\n",
    "import random\n",
    "npairs = 200\n",
    "randomSeed = 666\n",
    "random.seed(randomSeed)\n",
    "portfolios_uni = [(artist, p1 + p2) for (artist,p1,p2) in portfolios]\n",
    "pairs = []\n",
    "for isample in xrange(npairs):\n",
    "    # randomly choose an artist\n",
    "    portfolio = random.choice(portfolios_uni)\n",
    "    # randomly choose two paintings\n",
    "    paintings = random.sample(portfolio[1],2)\n",
    "    pairs.append([paintings[0],paintings[1],1])\n",
    "for isample in xrange(npairs):\n",
    "    # randomly choose two artists\n",
    "    portfoliopair = random.sample(portfolios_uni,2)\n",
    "    # randomly choose a painting from each artist\n",
    "    paintings = random.choice(portfoliopair[0][1]), random.choice(portfoliopair[1][1])\n",
    "    pairs.append([paintings[0],paintings[1],0])"
   ]
  },
  {
   "cell_type": "code",
   "execution_count": null,
   "metadata": {
    "collapsed": false
   },
   "outputs": [],
   "source": [
    "pairs[:8]"
   ]
  },
  {
   "cell_type": "code",
   "execution_count": null,
   "metadata": {
    "collapsed": false
   },
   "outputs": [],
   "source": [
    "# load a single pair of miniatures\n",
    "def loadPair(pair, mc = 'mini'):\n",
    "    import os.path\n",
    "    import PIL.Image as Image\n",
    "    featureDir = '../Data/FeatureData/'\n",
    "    name0 = os.path.splitext(pair[0])[0] + '_' + mc + '_100_x_100.jpg'\n",
    "    mini0 = Image.open(featureDir + name0)\n",
    "    name1 = os.path.splitext(pair[1])[0]+'_' + mc + '_100_x_100.jpg'\n",
    "    mini1 = Image.open(featureDir + name1)\n",
    "    return mini0, mini1"
   ]
  },
  {
   "cell_type": "code",
   "execution_count": null,
   "metadata": {
    "collapsed": false
   },
   "outputs": [],
   "source": [
    "mini1, mini2 = loadMinis(pairs[999])\n",
    "mini1"
   ]
  },
  {
   "cell_type": "code",
   "execution_count": null,
   "metadata": {
    "collapsed": false
   },
   "outputs": [],
   "source": [
    "mini2"
   ]
  },
  {
   "cell_type": "code",
   "execution_count": null,
   "metadata": {
    "collapsed": false
   },
   "outputs": [],
   "source": [
    "%matplotlib inline\n",
    "reload(pt)\n",
    "import matplotlib.pyplot as plt\n",
    "import PBNFeatures.paletteTools as pt\n",
    "palette = pt.CGApalette(ncolours=16)\n",
    "mini1p = pt.paletteConvert(mini1,palette)\n",
    "mini2p = pt.paletteConvert(mini2,palette)\n",
    "pt.plotColourDistribution(mini1p.getcolors(),pt.unflatten(palette))\n",
    "pt.plotColourDistribution(mini2p.getcolors(),pt.unflatten(palette))\n",
    "plt.show()"
   ]
  },
  {
   "cell_type": "code",
   "execution_count": null,
   "metadata": {
    "collapsed": false
   },
   "outputs": [],
   "source": [
    "pt.projectBW(mini1)"
   ]
  },
  {
   "cell_type": "code",
   "execution_count": null,
   "metadata": {
    "collapsed": false
   },
   "outputs": [],
   "source": [
    "pt.projectBW(mini2)"
   ]
  },
  {
   "cell_type": "code",
   "execution_count": null,
   "metadata": {
    "collapsed": false
   },
   "outputs": [],
   "source": [
    "%matplotlib inline\n",
    "import matplotlib.pyplot as plt\n",
    "import PBNFeatures.paletteTools as pt\n",
    "#import math\n",
    "palette = pt.CGApalette(ncolours=16)\n",
    "nc = len(palette)/3\n",
    "# for each pair in pairs, compute the log-difference between\n",
    "# each colour in the palette in the miniature and in the cutout\n",
    "diffs = []\n",
    "for pair in pairs:\n",
    "    mini1, mini2 = loadPair(pair,'mini')\n",
    "    cutout1, cutout2 = loadPair(pair,'cutout')\n",
    "    # convert to CGA palette\n",
    "    mini1p, mini2p = pt.paletteConvert(mini1,palette), pt.paletteConvert(mini2,palette)\n",
    "    cutout1p, cutout2p = pt.paletteConvert(cutout1,palette), pt.paletteConvert(cutout2,palette)\n",
    "    colours1 = pt.completeColours(mini1p.getcolors(),nc)[:nc] \\\n",
    "               + pt.completeColours(cutout1p.getcolors(),nc)[:nc]\n",
    "    #print([c[0] for c in colours1[:nc]])\n",
    "    colours2 = pt.completeColours(mini2p.getcolors(),nc)[:nc] \\\n",
    "               + pt.completeColours(cutout2p.getcolors(),nc)[:nc]\n",
    "    #print([c[0] for c in colours2[:nc]])\n",
    "    diffs.append([abs(col[0]-colours2[i][0]) for i,col in enumerate(colours1)])\n",
    "    #logdiff = [math.log(col[0]+1)-math.log(colours2[i][0]+1) for i,col in enumerate(colours1)]\n",
    "    #print('\\n')\n",
    "    #print(diff)\n",
    "    #print('\\n')\n",
    "    #print(logdiff)\n",
    "                       \n"
   ]
  },
  {
   "cell_type": "code",
   "execution_count": null,
   "metadata": {
    "collapsed": true
   },
   "outputs": [],
   "source": []
  },
  {
   "cell_type": "code",
   "execution_count": null,
   "metadata": {
    "collapsed": true
   },
   "outputs": [],
   "source": []
  },
  {
   "cell_type": "code",
   "execution_count": null,
   "metadata": {
    "collapsed": true
   },
   "outputs": [],
   "source": [
    "# compute PCA for 16-colour CGA colour distributions in miniatures\n",
    "%matplotlib inline\n",
    "import matplotlib.pyplot as plt\n",
    "import numpy as np\n",
    "import PBNFeatures.paletteTools as pt\n",
    "import PBNPCA.pca as pbnpca\n",
    "import os.path\n",
    "import PIL.Image as Image\n",
    "#import math\n",
    "palette = pt.CGApalette(ncolours=16)\n",
    "nc = len(palette)/3\n",
    "featureDir = '../Data/FeatureData/'"
   ]
  },
  {
   "cell_type": "code",
   "execution_count": null,
   "metadata": {
    "collapsed": false
   },
   "outputs": [],
   "source": [
    "# load all miniatures\n",
    "data = []\n",
    "for portfolio in portfolios_uni:\n",
    "    for painting in portfolio[1]:\n",
    "        mininame = os.path.splitext(painting)[0] + '_mini_100_x_100.jpg'\n",
    "        mini = Image.open(featureDir + mininame)\n",
    "        minip = pt.paletteConvert(mini,palette)\n",
    "        colours = pt.completeColours(minip.getcolors(),nc)[:nc]\n",
    "        data.append([c[0] for c in colours])\n"
   ]
  },
  {
   "cell_type": "code",
   "execution_count": null,
   "metadata": {
    "collapsed": false,
    "scrolled": true
   },
   "outputs": [],
   "source": [
    "# compute the PC of data\n",
    "reload(pbnpca)\n",
    "ncomp = 15\n",
    "pobj = pbnpca.pca(np.array(data),ncomp)\n",
    "\n",
    "# pc:\n",
    "pcs = []\n",
    "for col in xrange(ncomp-1,-1,-1):\n",
    "    # print(col)\n",
    "    # column to row\n",
    "    pc = [vec[col] for vec in pobj['eigvecs']]\n",
    "    #print(pc)\n",
    "    #print('\\n')\n",
    "    ### rescale by standard deviation and add meanvec\n",
    "    ##pc = [pobj['stds'][col] * a + pobj['meanvec'][i] for i,a in enumerate(pc)]\n",
    "    #print(pc)\n",
    "    #print('\\n')\n",
    "    # construct a \"colours\" list out of the pc (clumsy but should be okay)\n",
    "    pc = [(a,i) for i,a in enumerate(pc)]\n",
    "    pcs.append(pc)\n",
    "\n",
    "\n",
    "#print(pobj['stds'])\n",
    "#print('\\n')\n",
    "#print(pobj['meanvec'])\n",
    "#print('\\n')\n",
    "#print(pcs[:3])"
   ]
  },
  {
   "cell_type": "code",
   "execution_count": null,
   "metadata": {
    "collapsed": false
   },
   "outputs": [],
   "source": [
    "print(pobj['stds'])\n",
    "print('\\n')\n",
    "print(pobj['meanvec'])"
   ]
  },
  {
   "cell_type": "code",
   "execution_count": null,
   "metadata": {
    "collapsed": false
   },
   "outputs": [],
   "source": [
    "# plot leading three eigenvectors (PC)\n",
    "pt.plotColourDistribution(pcs[0],pt.unflatten(palette))\n",
    "pt.plotColourDistribution(pcs[1],pt.unflatten(palette))\n",
    "pt.plotColourDistribution(pcs[2],pt.unflatten(palette))\n",
    "plt.show()"
   ]
  },
  {
   "cell_type": "code",
   "execution_count": null,
   "metadata": {
    "collapsed": false
   },
   "outputs": [],
   "source": [
    "len(np.zeros((1,16)))"
   ]
  },
  {
   "cell_type": "code",
   "execution_count": null,
   "metadata": {
    "collapsed": false
   },
   "outputs": [],
   "source": [
    "reload(pbnpca)\n",
    "comps = pbnpca.pcaProject(data[0],pobj)[-3:]"
   ]
  },
  {
   "cell_type": "code",
   "execution_count": null,
   "metadata": {
    "collapsed": false
   },
   "outputs": [],
   "source": [
    "print(data[750])\n",
    "print('\\n')\n",
    "print(pbnpca.pcaTrunc(data[750],pobj,9))\n",
    "\n",
    "#np.zeros((len(data[0]),1))\n",
    "#np.array(pobj['meanvec']).reshape((len(data[0]),1))"
   ]
  },
  {
   "cell_type": "code",
   "execution_count": null,
   "metadata": {
    "collapsed": false
   },
   "outputs": [],
   "source": [
    "(comps[2]*pobj['eigvecs'][:,10]).reshape((16,1)) + np.zeros((16,1))"
   ]
  },
  {
   "cell_type": "code",
   "execution_count": null,
   "metadata": {
    "collapsed": true
   },
   "outputs": [],
   "source": []
  }
 ],
 "metadata": {
  "git": {
   "suppress_outputs": true
  },
  "kernelspec": {
   "display_name": "Python 2",
   "language": "python",
   "name": "python2"
  },
  "language_info": {
   "codemirror_mode": {
    "name": "ipython",
    "version": 2
   },
   "file_extension": ".py",
   "mimetype": "text/x-python",
   "name": "python",
   "nbconvert_exporter": "python",
   "pygments_lexer": "ipython2",
   "version": "2.7.9"
  }
 },
 "nbformat": 4,
 "nbformat_minor": 0
}