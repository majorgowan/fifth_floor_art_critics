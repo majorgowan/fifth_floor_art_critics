{
 "cells": [
  {
   "cell_type": "code",
   "execution_count": 1,
   "metadata": {
    "collapsed": false
   },
   "outputs": [
    {
     "name": "stdout",
     "output_type": "stream",
     "text": [
      "/home/mfruman/DataSci/PBN/Python\n"
     ]
    }
   ],
   "source": [
    "cd ../Python/"
   ]
  },
  {
   "cell_type": "code",
   "execution_count": 2,
   "metadata": {
    "collapsed": false
   },
   "outputs": [],
   "source": [
    "import readPBNData.description as rd\n",
    "import readPBNData.images as ri"
   ]
  },
  {
   "cell_type": "code",
   "execution_count": 3,
   "metadata": {
    "collapsed": false
   },
   "outputs": [],
   "source": [
    "csvs, fileLike = rd.openZip('../Data/train_info.csv.zip')\n",
    "lines, head = rd.readCSV(fileLike[0])"
   ]
  },
  {
   "cell_type": "code",
   "execution_count": 4,
   "metadata": {
    "collapsed": false
   },
   "outputs": [
    {
     "data": {
      "text/plain": [
       "['style', 'title', 'artist', 'filename', 'date', 'genre']"
      ]
     },
     "execution_count": 4,
     "metadata": {},
     "output_type": "execute_result"
    }
   ],
   "source": [
    "cols = rd.columns(lines,head)\n",
    "cols.keys()"
   ]
  },
  {
   "cell_type": "code",
   "execution_count": 5,
   "metadata": {
    "collapsed": false
   },
   "outputs": [
    {
     "data": {
      "text/plain": [
       "[('3cc9a44380296d93e68b71a27643c25f', 413),\n",
       " ('96e7b1bc8d52e18caf0af34fec2e9bcb', 402),\n",
       " ('d8a3c897c506be7de91d8f892f14f934', 401),\n",
       " ('3f8dc381ccfe9d5cc88b75970262715b', 400),\n",
       " ('10bc951c2eb4a2f05fa773bdaace4e3b', 397)]"
      ]
     },
     "execution_count": 5,
     "metadata": {},
     "output_type": "execute_result"
    }
   ],
   "source": [
    "# find 10 artists with most paintings in data set\n",
    "artistTable = rd.table(cols['artist'])\n",
    "artistTable[:5]"
   ]
  },
  {
   "cell_type": "code",
   "execution_count": 7,
   "metadata": {
    "collapsed": false
   },
   "outputs": [],
   "source": [
    "# images in train_1.zip and train_2.zip file\n",
    "train_1_names = rd.imagesInZip('../Data/train_1.zip')\n",
    "train_2_names = rd.imagesInZip('../Data/train_2.zip')"
   ]
  },
  {
   "cell_type": "code",
   "execution_count": 8,
   "metadata": {
    "collapsed": false
   },
   "outputs": [
    {
     "data": {
      "text/plain": [
       "[('0eeac4ecff259dc515be795e1a76019a', 119),\n",
       " ('dd4989789d310581024ae2b9203d5439', 111),\n",
       " ('121fffad1eb6f7dff228b8a71b6aec72', 105),\n",
       " ('1a8d67dbb446bdc4298cc0be56932a38', 104),\n",
       " ('ce3d8977aae5986601232aa58d15282a', 103),\n",
       " ('c16781c4321948227193214b68477a5c', 101),\n",
       " ('3cc9a44380296d93e68b71a27643c25f', 100),\n",
       " ('d09f796f2b0aa11dffc88badd9806119', 100),\n",
       " ('5aabfc58470d01bb2362795a44a2603b', 99),\n",
       " ('db1318d32df7428076e03513ebf762bb', 98)]"
      ]
     },
     "execution_count": 8,
     "metadata": {},
     "output_type": "execute_result"
    }
   ],
   "source": [
    "# number of paintings by artist in train_1 and train_2\n",
    "# distinct artists (slowish)\n",
    "distinctArtists = [a[0] for a in artistTable]\n",
    "paintingsIn12 = []\n",
    "for artist in distinctArtists:\n",
    "    paintingsIn12.append(len(rd.sameArtist(artist, cols, imageList=train_1_names))\n",
    "                        +len(rd.sameArtist(artist, cols, imageList=train_2_names)))\n",
    "artistTable12 = sorted(zip(distinctArtists, paintingsIn12), \n",
    "                       key=lambda item: item[1], reverse=True)\n",
    "artistTable12[:10]"
   ]
  },
  {
   "cell_type": "code",
   "execution_count": 9,
   "metadata": {
    "collapsed": false
   },
   "outputs": [],
   "source": [
    "# lists of paintings by the 10 \"leading\" artists in train_1 and train_2 \n",
    "leaders = [a[0] for a in artistTable12[:10]]\n",
    "portfolios1 = []\n",
    "portfolios2 = []\n",
    "for artist in leaders:\n",
    "    portfolios1.append(rd.sameArtist(artist, cols, imageList=train_1_names))\n",
    "    portfolios2.append(rd.sameArtist(artist, cols, imageList=train_2_names))\n",
    "portfolios = zip(leaders,portfolios1,portfolios2)"
   ]
  },
  {
   "cell_type": "code",
   "execution_count": 14,
   "metadata": {
    "collapsed": false
   },
   "outputs": [],
   "source": [
    "# create miniatures of the paintings by leading artists and save them to disk\n",
    "miniportfolios = []\n",
    "for portfolio in portfolios:\n",
    "    minifiles_1 = ri.miniatures('../Data/train_1.zip', \\\n",
    "                                portfolio[1],prefix='train_1',size=(100,100))\n",
    "    minifiles_2 = ri.miniatures('../Data/train_2.zip', \\\n",
    "                                portfolio[2],prefix='train_2',size=(100,100))\n",
    "    miniportfolios.append((portfolio[0],minifiles_1,minifiles_2))"
   ]
  },
  {
   "cell_type": "code",
   "execution_count": 15,
   "metadata": {
    "collapsed": false
   },
   "outputs": [],
   "source": [
    "# create cutouts of the paintings by leading artists and save them to disk\n",
    "cutoutportfolios = []\n",
    "for portfolio in portfolios:\n",
    "    cutoutfiles_1 = ri.cutouts('../Data/train_1.zip', \\\n",
    "                               portfolio[1],prefix='train_1',size=(100,100))\n",
    "    cutoutfiles_2 = ri.cutouts('../Data/train_2.zip', \\\n",
    "                               portfolio[2],prefix='train_2',size=(100,100))\n",
    "    cutoutportfolios.append((portfolio[0],cutoutfiles_1,cutoutfiles_2))"
   ]
  },
  {
   "cell_type": "code",
   "execution_count": 12,
   "metadata": {
    "collapsed": false
   },
   "outputs": [],
   "source": [
    "# prepare 1000 pairs of paintings by same artist \n",
    "# and 1000 pairs by different artists\n",
    "import random\n",
    "npairs = 1000\n",
    "randomSeed = 666\n",
    "random.seed(randomSeed)\n",
    "portfolios_uni = [(artist, p1 + p2) for (artist,p1,p2) in portfolios]\n",
    "pairs = []\n",
    "for isample in xrange(npairs):\n",
    "    # randomly choose an artist\n",
    "    portfolio = random.choice(portfolios_uni)\n",
    "    # randomly choose two paintings\n",
    "    paintings = random.sample(portfolio[1],2)\n",
    "    pairs.append([paintings[0],paintings[1],1])\n",
    "for isample in xrange(npairs):\n",
    "    # randomly choose two artists\n",
    "    portfoliopair = random.sample(portfolios_uni,2)\n",
    "    # randomly choose a painting from each artist\n",
    "    paintings = random.choice(portfoliopair[0][1]), random.choice(portfoliopair[1][1])\n",
    "    pairs.append([paintings[0],paintings[1],0])"
   ]
  },
  {
   "cell_type": "code",
   "execution_count": 13,
   "metadata": {
    "collapsed": false
   },
   "outputs": [
    {
     "data": {
      "text/plain": [
       "[['28512.jpg', '1744.jpg', 1],\n",
       " ['26672.jpg', '2113.jpg', 1],\n",
       " ['11130.jpg', '26235.jpg', 1],\n",
       " ['2238.jpg', '27608.jpg', 1],\n",
       " ['10029.jpg', '28898.jpg', 1]]"
      ]
     },
     "execution_count": 13,
     "metadata": {},
     "output_type": "execute_result"
    }
   ],
   "source": [
    "pairs[:5]"
   ]
  },
  {
   "cell_type": "code",
   "execution_count": null,
   "metadata": {
    "collapsed": false
   },
   "outputs": [],
   "source": []
  },
  {
   "cell_type": "code",
   "execution_count": null,
   "metadata": {
    "collapsed": true
   },
   "outputs": [],
   "source": []
  }
 ],
 "metadata": {
  "git": {
   "suppress_outputs": true
  },
  "kernelspec": {
   "display_name": "Python 2",
   "language": "python",
   "name": "python2"
  },
  "language_info": {
   "codemirror_mode": {
    "name": "ipython",
    "version": 2
   },
   "file_extension": ".py",
   "mimetype": "text/x-python",
   "name": "python",
   "nbconvert_exporter": "python",
   "pygments_lexer": "ipython2",
   "version": "2.7.6"
  }
 },
 "nbformat": 4,
 "nbformat_minor": 0
}
