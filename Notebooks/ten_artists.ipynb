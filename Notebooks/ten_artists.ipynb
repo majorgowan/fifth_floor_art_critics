{
 "cells": [
  {
   "cell_type": "code",
   "execution_count": null,
   "metadata": {
    "collapsed": false
   },
   "outputs": [],
   "source": [
    "cd ../Python/"
   ]
  },
  {
   "cell_type": "code",
   "execution_count": null,
   "metadata": {
    "collapsed": false
   },
   "outputs": [],
   "source": [
    "import readPBNData.description as rd\n",
    "import readPBNData.images as ri"
   ]
  },
  {
   "cell_type": "code",
   "execution_count": null,
   "metadata": {
    "collapsed": false
   },
   "outputs": [],
   "source": [
    "csvs, fileLike = rd.openZip('../Data/train_info.csv.zip')\n",
    "lines, head = rd.readCSV(fileLike[0])"
   ]
  },
  {
   "cell_type": "code",
   "execution_count": null,
   "metadata": {
    "collapsed": false
   },
   "outputs": [],
   "source": [
    "cols = rd.columns(lines,head)\n",
    "cols.keys()"
   ]
  },
  {
   "cell_type": "code",
   "execution_count": null,
   "metadata": {
    "collapsed": false
   },
   "outputs": [],
   "source": [
    "# find 10 artists with most paintings in data set\n",
    "artistTable = rd.table(cols['artist'])\n",
    "artistTable[:5]"
   ]
  },
  {
   "cell_type": "code",
   "execution_count": null,
   "metadata": {
    "collapsed": false
   },
   "outputs": [],
   "source": [
    "# images in train_1.zip and train_2.zip file\n",
    "train_1_names = rd.imagesInZip('../Data/train_1.zip')\n",
    "train_2_names = rd.imagesInZip('../Data/train_2.zip')"
   ]
  },
  {
   "cell_type": "code",
   "execution_count": null,
   "metadata": {
    "collapsed": false
   },
   "outputs": [],
   "source": [
    "# number of paintings by artist in train_1 and train_2\n",
    "# distinct artists\n",
    "distinctArtists = [a[0] for a in artistTable]\n",
    "paintingsIn12 = []\n",
    "for artist in distinctArtists:\n",
    "    paintingsIn12.append(len(rd.sameArtist(artist, cols, imageList=train_1_names))\n",
    "                        +len(rd.sameArtist(artist, cols, imageList=train_2_names)))\n",
    "artistTable12 = sorted(zip(distinctArtists, paintingsIn12), \n",
    "                       key=lambda item: item[1], reverse=True)\n",
    "artistTable12[:10]"
   ]
  },
  {
   "cell_type": "code",
   "execution_count": null,
   "metadata": {
    "collapsed": false
   },
   "outputs": [],
   "source": [
    "# lists of paintings by the 10 \"leading\" artists in train_1 and train_2 \n",
    "leaders = [a[0] for a in artistTable12[:10]]\n",
    "portfolios1 = []\n",
    "portfolios2 = []\n",
    "for artist in leaders:\n",
    "    portfolios1.append(rd.sameArtist(artist, cols, imageList=train_1_names))\n",
    "    portfolios2.append(rd.sameArtist(artist, cols, imageList=train_2_names))\n",
    "portfolios = zip(leaders,portfolios1,portfolios2)"
   ]
  },
  {
   "cell_type": "code",
   "execution_count": null,
   "metadata": {
    "collapsed": false
   },
   "outputs": [],
   "source": [
    "# create miniatures of the paintings by leading artists and save them to disk\n",
    "for portfolio in portfolios:\n",
    "    ri.miniatures('../Data/train_1.zip',portfolio[1],prefix='train_1',size=(100,100))\n",
    "    ri.miniatures('../Data/train_2.zip',portfolio[2],prefix='train_2',size=(100,100))"
   ]
  },
  {
   "cell_type": "code",
   "execution_count": null,
   "metadata": {
    "collapsed": false
   },
   "outputs": [],
   "source": [
    "# create cutouts of the paintings by leading artists and save them to disk\n",
    "for portfolio in portfolios:\n",
    "    ri.cutouts('../Data/train_1.zip',portfolio[1],prefix='train_1',size=(100,100))\n",
    "    ri.cutouts('../Data/train_2.zip',portfolio[2],prefix='train_2',size=(100,100))"
   ]
  },
  {
   "cell_type": "code",
   "execution_count": null,
   "metadata": {
    "collapsed": true
   },
   "outputs": [],
   "source": [
    "# prepare csv file with artist and filenames of miniature and cutout"
   ]
  },
  {
   "cell_type": "code",
   "execution_count": null,
   "metadata": {
    "collapsed": true
   },
   "outputs": [],
   "source": [
    "# prepare 1000 pairs of paintings by same artist \n",
    "# and 1000 pairs by different artists\n"
   ]
  },
  {
   "cell_type": "code",
   "execution_count": null,
   "metadata": {
    "collapsed": true
   },
   "outputs": [],
   "source": []
  }
 ],
 "metadata": {
  "git": {
   "suppress_outputs": true
  },
  "kernelspec": {
   "display_name": "Python 2",
   "language": "python",
   "name": "python2"
  },
  "language_info": {
   "codemirror_mode": {
    "name": "ipython",
    "version": 2
   },
   "file_extension": ".py",
   "mimetype": "text/x-python",
   "name": "python",
   "nbconvert_exporter": "python",
   "pygments_lexer": "ipython2",
   "version": "2.7.9"
  }
 },
 "nbformat": 4,
 "nbformat_minor": 0
}